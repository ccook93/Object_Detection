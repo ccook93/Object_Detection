{
 "cells": [
  {
   "cell_type": "markdown",
   "metadata": {},
   "source": [
    "# Convolution Neural Network\n",
    "\n",
    "1. Train\n",
    "2. Evaluate\n",
    "3. Visualize Accuracy & Lost\n",
    "4. Re-evaluate Model\n",
    "5. Make Predictions on the Test Set\n",
    "6. Visualize classification report\n"
   ]
  },
  {
   "cell_type": "code",
   "execution_count": 1,
   "metadata": {},
   "outputs": [],
   "source": [
    "## Import Libraries\n",
    "import matplotlib.pyplot as plt\n",
    "import numpy as np\n",
    "import os\n",
    "import PIL\n",
    "import tensorflow as tf\n",
    "from tensorflow import keras\n",
    "from tensorflow.keras import layers\n",
    "from tensorflow.keras.models import Sequential\n",
    "import pathlib\n",
    "import pandas as pd\n",
    "from PIL import Image \n",
    "from PIL.ImageDraw import Draw"
   ]
  },
  {
   "cell_type": "code",
   "execution_count": 2,
   "id": "34b12b7a",
   "metadata": {},
   "outputs": [],
   "source": [
    "# Define Classes\n",
    "classes = ['Transformer','No-Transformer']"
   ]
  },
  {
   "cell_type": "code",
   "execution_count": 3,
   "metadata": {},
   "outputs": [],
   "source": [
    "# Read in Training Data and specify image directory location in system\n",
    "TRAINING_CSV_FILE = 'Data/tensorflow-keras/TRAIN.csv'\n",
    "TRAINING_IMAGE_DIR = 'Images/tensorflow-keras/TRAIN'\n",
    "\n",
    "height = 52\n",
    "width = 52\n",
    "\n",
    "training_image_records = pd.read_csv(TRAINING_CSV_FILE)\n",
    "\n",
    "train_image_path = TRAINING_IMAGE_DIR\n",
    "\n",
    "# Initiate variables / arrays\n",
    "train_images = []\n",
    "train_labels = []\n",
    "\n",
    "# Iterrate through rows in the csv file\n",
    "for index, row in training_image_records.iterrows():\n",
    "    \n",
    "    # Define a row to include the following headers from the csv\n",
    "    (filename,label) = row\n",
    "    # Specify training image path (Create string) - joining the filename in csv and the path\n",
    "    train_image_fullpath = os.path.join(train_image_path, filename)\n",
    "    # Load the image\n",
    "    train_img = keras.preprocessing.image.load_img(train_image_fullpath, target_size=(height, width))\n",
    "    # Create an array of the image\n",
    "    train_img_arr = keras.preprocessing.image.img_to_array(train_img)\n",
    "    \n",
    "    # Append this information in their respective arrays initiated for the 'For' loop\n",
    "    train_images.append(train_img_arr)\n",
    "    train_labels.append(classes.index(label))"
   ]
  },
  {
   "cell_type": "code",
   "execution_count": 5,
   "metadata": {},
   "outputs": [],
   "source": [
    "# Repeat process as described above but with TEST CSV and images\n",
    "TEST_CSV_FILE = 'Data/tensorflow-keras/TEST.csv'\n",
    "TEST_IMAGE_DIR = 'Images/tensorflow-keras/TEST'\n",
    "\n",
    "test_image_records = pd.read_csv(TEST_CSV_FILE)\n",
    "\n",
    "test_image_path = TEST_IMAGE_DIR\n",
    "\n",
    "test_images = []\n",
    "test_labels = []\n",
    "\n",
    "for index, row in test_image_records.iterrows():\n",
    "\n",
    "    (filename, label) = row\n",
    "\n",
    "    test_image_fullpath = os.path.join(test_image_path, filename)\n",
    "    test_img = keras.preprocessing.image.load_img(test_image_fullpath, target_size=(height, width))\n",
    "    test_img_arr = keras.preprocessing.image.img_to_array(test_img)\n",
    "\n",
    "    test_images.append(test_img_arr)\n",
    "    test_labels.append(classes.index(label))"
   ]
  },
  {
   "cell_type": "code",
   "execution_count": 6,
   "metadata": {},
   "outputs": [],
   "source": [
    "# Redefine appended arraya to np.arrays\n",
    "train_images = np.array(train_images)\n",
    "#train_targets = np.array(train_targets)\n",
    "train_labels = np.array(train_labels)\n",
    "\n",
    "test_images = np.array(test_images)\n",
    "#test_targets = np.array(test_targets)\n",
    "test_labels = np.array(test_labels)"
   ]
  },
  {
   "cell_type": "code",
   "execution_count": 7,
   "metadata": {},
   "outputs": [],
   "source": [
    "# Specifying width and height of images & number of classes in this classification\n",
    "width = 52\n",
    "height = 52\n",
    "num_classes = 2\n"
   ]
  },
  {
   "cell_type": "code",
   "execution_count": 52,
   "id": "e8dd9f79",
   "metadata": {},
   "outputs": [],
   "source": [
    "# Specified convolution layers\n",
    "#create the common input layer\n",
    "input_shape = (height, width, 3)\n",
    "input_layer = tf.keras.layers.Input(input_shape)\n",
    "\n",
    "#create the base layers\n",
    "base_layers = layers.experimental.preprocessing.Rescaling(1./255, name='bl_1')(input_layer)\n",
    "base_layers = layers.Conv2D(16, 3, padding='same', activation='relu', name='bl_2')(base_layers)\n",
    "base_layers = layers.MaxPooling2D(name='bl_3')(base_layers)\n",
    "base_layers = layers.Conv2D(32, 3, padding='same', activation='relu', name='bl_4')(base_layers)\n",
    "base_layers = layers.MaxPooling2D(name='bl_5')(base_layers)\n",
    "base_layers = layers.Conv2D(64, 3, padding='same', activation='relu', name='bl_6')(base_layers)\n",
    "base_layers = layers.MaxPooling2D(name='bl_7')(base_layers)\n",
    "base_layers = layers.Flatten(name='bl_8')(base_layers)"
   ]
  },
  {
   "cell_type": "code",
   "execution_count": 77,
   "id": "894e4871",
   "metadata": {},
   "outputs": [],
   "source": [
    "#create the classifier branch\n",
    "classifier_branch = layers.Dense(128, activation='relu', name='cl_1')(base_layers)\n",
    "\n",
    "classifier_branch = layers.Dense(num_classes, name='cl_head')(classifier_branch)  \n",
    "classifier_branch = layers.Dense(258,activation='sigmoid',name='cl_2')(base_layers)"
   ]
  },
  {
   "cell_type": "markdown",
   "id": "c20f3cfd",
   "metadata": {},
   "source": [
    "locator_branch = layers.Dense(128, activation='relu', name='bb_1')(base_layers)\n",
    "locator_branch = layers.Dense(64, activation='relu', name='bb_2')(locator_branch)\n",
    "locator_branch = layers.Dense(32, activation='relu', name='bb_3')(locator_branch)\n",
    "locator_branch = layers.Dense(4, activation='sigmoid', name='bb_head')(locator_branch)"
   ]
  },
  {
   "cell_type": "code",
   "execution_count": 78,
   "id": "097a5b14",
   "metadata": {},
   "outputs": [],
   "source": [
    "model = tf.keras.Model(input_layer,\n",
    "           outputs=[classifier_branch])"
   ]
  },
  {
   "cell_type": "code",
   "execution_count": 79,
   "id": "481566e8",
   "metadata": {},
   "outputs": [],
   "source": [
    "losses = {\"cl_head\":tf.keras.losses.SparseCategoricalCrossentropy(from_logits=True)}"
   ]
  },
  {
   "cell_type": "code",
   "execution_count": 82,
   "id": "2135a8d5",
   "metadata": {},
   "outputs": [],
   "source": [
    "model.compile(loss='binary_crossentropy', optimizer='adam', metrics=['accuracy'])"
   ]
  },
  {
   "cell_type": "code",
   "execution_count": 83,
   "id": "021b0b52",
   "metadata": {},
   "outputs": [],
   "source": [
    "trainTargets = {\n",
    "    \"cl_head\": train_labels,\n",
    "    #\"bb_head\": train_targets\n",
    "}\n",
    "testTargets = {\n",
    "    \"cl_head\": test_labels,\n",
    "    #\"bb_head\": test_targets\n",
    "}"
   ]
  },
  {
   "cell_type": "code",
   "execution_count": 84,
   "id": "69ce1897",
   "metadata": {},
   "outputs": [
    {
     "name": "stdout",
     "output_type": "stream",
     "text": [
      "Epoch 1/5\n"
     ]
    },
    {
     "ename": "ValueError",
     "evalue": "in user code:\n\n    File \"/Library/Frameworks/Python.framework/Versions/3.9/lib/python3.9/site-packages/keras/engine/training.py\", line 878, in train_function  *\n        return step_function(self, iterator)\n    File \"/Library/Frameworks/Python.framework/Versions/3.9/lib/python3.9/site-packages/keras/engine/training.py\", line 867, in step_function  **\n        outputs = model.distribute_strategy.run(run_step, args=(data,))\n    File \"/Library/Frameworks/Python.framework/Versions/3.9/lib/python3.9/site-packages/keras/engine/training.py\", line 860, in run_step  **\n        outputs = model.train_step(data)\n    File \"/Library/Frameworks/Python.framework/Versions/3.9/lib/python3.9/site-packages/keras/engine/training.py\", line 809, in train_step\n        loss = self.compiled_loss(\n    File \"/Library/Frameworks/Python.framework/Versions/3.9/lib/python3.9/site-packages/keras/engine/compile_utils.py\", line 180, in __call__\n        y_true = self._conform_to_outputs(y_pred, y_true)\n    File \"/Library/Frameworks/Python.framework/Versions/3.9/lib/python3.9/site-packages/keras/engine/compile_utils.py\", line 56, in _conform_to_outputs\n        struct = map_to_output_names(outputs, self._output_names, struct)\n    File \"/Library/Frameworks/Python.framework/Versions/3.9/lib/python3.9/site-packages/keras/engine/compile_utils.py\", line 652, in map_to_output_names\n        raise ValueError(\n\n    ValueError: Found unexpected losses or metrics that do not correspond to any Model output: dict_keys(['cl_head']). Valid mode output names: ['cl_2']. Received struct is: {'cl_head': <tf.Tensor 'IteratorGetNext:1' shape=(None,) dtype=int64>}.\n",
     "output_type": "error",
     "traceback": [
      "\u001b[0;31m---------------------------------------------------------------------------\u001b[0m",
      "\u001b[0;31mValueError\u001b[0m                                Traceback (most recent call last)",
      "\u001b[0;32m/var/folders/d1/8zqrhd957xsbfl7mhph4cq380000gn/T/ipykernel_42988/573192647.py\u001b[0m in \u001b[0;36m<module>\u001b[0;34m\u001b[0m\n\u001b[1;32m      1\u001b[0m \u001b[0mtraining_epochs\u001b[0m \u001b[0;34m=\u001b[0m \u001b[0;36m5\u001b[0m\u001b[0;34m\u001b[0m\u001b[0;34m\u001b[0m\u001b[0m\n\u001b[1;32m      2\u001b[0m \u001b[0;34m\u001b[0m\u001b[0m\n\u001b[0;32m----> 3\u001b[0;31m history = model.fit(train_images, trainTargets,\n\u001b[0m\u001b[1;32m      4\u001b[0m             \u001b[0mvalidation_data\u001b[0m\u001b[0;34m=\u001b[0m\u001b[0;34m(\u001b[0m\u001b[0mtest_images\u001b[0m\u001b[0;34m,\u001b[0m \u001b[0mtestTargets\u001b[0m\u001b[0;34m)\u001b[0m\u001b[0;34m,\u001b[0m\u001b[0;34m\u001b[0m\u001b[0;34m\u001b[0m\u001b[0m\n\u001b[1;32m      5\u001b[0m              \u001b[0mbatch_size\u001b[0m\u001b[0;34m=\u001b[0m\u001b[0;36m32\u001b[0m\u001b[0;34m,\u001b[0m\u001b[0;34m\u001b[0m\u001b[0;34m\u001b[0m\u001b[0m\n",
      "\u001b[0;32m/Library/Frameworks/Python.framework/Versions/3.9/lib/python3.9/site-packages/keras/utils/traceback_utils.py\u001b[0m in \u001b[0;36merror_handler\u001b[0;34m(*args, **kwargs)\u001b[0m\n\u001b[1;32m     65\u001b[0m     \u001b[0;32mexcept\u001b[0m \u001b[0mException\u001b[0m \u001b[0;32mas\u001b[0m \u001b[0me\u001b[0m\u001b[0;34m:\u001b[0m  \u001b[0;31m# pylint: disable=broad-except\u001b[0m\u001b[0;34m\u001b[0m\u001b[0;34m\u001b[0m\u001b[0m\n\u001b[1;32m     66\u001b[0m       \u001b[0mfiltered_tb\u001b[0m \u001b[0;34m=\u001b[0m \u001b[0m_process_traceback_frames\u001b[0m\u001b[0;34m(\u001b[0m\u001b[0me\u001b[0m\u001b[0;34m.\u001b[0m\u001b[0m__traceback__\u001b[0m\u001b[0;34m)\u001b[0m\u001b[0;34m\u001b[0m\u001b[0;34m\u001b[0m\u001b[0m\n\u001b[0;32m---> 67\u001b[0;31m       \u001b[0;32mraise\u001b[0m \u001b[0me\u001b[0m\u001b[0;34m.\u001b[0m\u001b[0mwith_traceback\u001b[0m\u001b[0;34m(\u001b[0m\u001b[0mfiltered_tb\u001b[0m\u001b[0;34m)\u001b[0m \u001b[0;32mfrom\u001b[0m \u001b[0;32mNone\u001b[0m\u001b[0;34m\u001b[0m\u001b[0;34m\u001b[0m\u001b[0m\n\u001b[0m\u001b[1;32m     68\u001b[0m     \u001b[0;32mfinally\u001b[0m\u001b[0;34m:\u001b[0m\u001b[0;34m\u001b[0m\u001b[0;34m\u001b[0m\u001b[0m\n\u001b[1;32m     69\u001b[0m       \u001b[0;32mdel\u001b[0m \u001b[0mfiltered_tb\u001b[0m\u001b[0;34m\u001b[0m\u001b[0;34m\u001b[0m\u001b[0m\n",
      "\u001b[0;32m/Library/Frameworks/Python.framework/Versions/3.9/lib/python3.9/site-packages/tensorflow/python/framework/func_graph.py\u001b[0m in \u001b[0;36mautograph_handler\u001b[0;34m(*args, **kwargs)\u001b[0m\n\u001b[1;32m   1127\u001b[0m           \u001b[0;32mexcept\u001b[0m \u001b[0mException\u001b[0m \u001b[0;32mas\u001b[0m \u001b[0me\u001b[0m\u001b[0;34m:\u001b[0m  \u001b[0;31m# pylint:disable=broad-except\u001b[0m\u001b[0;34m\u001b[0m\u001b[0;34m\u001b[0m\u001b[0m\n\u001b[1;32m   1128\u001b[0m             \u001b[0;32mif\u001b[0m \u001b[0mhasattr\u001b[0m\u001b[0;34m(\u001b[0m\u001b[0me\u001b[0m\u001b[0;34m,\u001b[0m \u001b[0;34m\"ag_error_metadata\"\u001b[0m\u001b[0;34m)\u001b[0m\u001b[0;34m:\u001b[0m\u001b[0;34m\u001b[0m\u001b[0;34m\u001b[0m\u001b[0m\n\u001b[0;32m-> 1129\u001b[0;31m               \u001b[0;32mraise\u001b[0m \u001b[0me\u001b[0m\u001b[0;34m.\u001b[0m\u001b[0mag_error_metadata\u001b[0m\u001b[0;34m.\u001b[0m\u001b[0mto_exception\u001b[0m\u001b[0;34m(\u001b[0m\u001b[0me\u001b[0m\u001b[0;34m)\u001b[0m\u001b[0;34m\u001b[0m\u001b[0;34m\u001b[0m\u001b[0m\n\u001b[0m\u001b[1;32m   1130\u001b[0m             \u001b[0;32melse\u001b[0m\u001b[0;34m:\u001b[0m\u001b[0;34m\u001b[0m\u001b[0;34m\u001b[0m\u001b[0m\n\u001b[1;32m   1131\u001b[0m               \u001b[0;32mraise\u001b[0m\u001b[0;34m\u001b[0m\u001b[0;34m\u001b[0m\u001b[0m\n",
      "\u001b[0;31mValueError\u001b[0m: in user code:\n\n    File \"/Library/Frameworks/Python.framework/Versions/3.9/lib/python3.9/site-packages/keras/engine/training.py\", line 878, in train_function  *\n        return step_function(self, iterator)\n    File \"/Library/Frameworks/Python.framework/Versions/3.9/lib/python3.9/site-packages/keras/engine/training.py\", line 867, in step_function  **\n        outputs = model.distribute_strategy.run(run_step, args=(data,))\n    File \"/Library/Frameworks/Python.framework/Versions/3.9/lib/python3.9/site-packages/keras/engine/training.py\", line 860, in run_step  **\n        outputs = model.train_step(data)\n    File \"/Library/Frameworks/Python.framework/Versions/3.9/lib/python3.9/site-packages/keras/engine/training.py\", line 809, in train_step\n        loss = self.compiled_loss(\n    File \"/Library/Frameworks/Python.framework/Versions/3.9/lib/python3.9/site-packages/keras/engine/compile_utils.py\", line 180, in __call__\n        y_true = self._conform_to_outputs(y_pred, y_true)\n    File \"/Library/Frameworks/Python.framework/Versions/3.9/lib/python3.9/site-packages/keras/engine/compile_utils.py\", line 56, in _conform_to_outputs\n        struct = map_to_output_names(outputs, self._output_names, struct)\n    File \"/Library/Frameworks/Python.framework/Versions/3.9/lib/python3.9/site-packages/keras/engine/compile_utils.py\", line 652, in map_to_output_names\n        raise ValueError(\n\n    ValueError: Found unexpected losses or metrics that do not correspond to any Model output: dict_keys(['cl_head']). Valid mode output names: ['cl_2']. Received struct is: {'cl_head': <tf.Tensor 'IteratorGetNext:1' shape=(None,) dtype=int64>}.\n"
     ]
    }
   ],
   "source": [
    "training_epochs = 5\n",
    "\n",
    "history = model.fit(train_images, trainTargets,\n",
    "            validation_data=(test_images, testTargets),\n",
    "             batch_size=32,\n",
    "             epochs=training_epochs,\n",
    "             shuffle=True,\n",
    "             verbose=1)"
   ]
  },
  {
   "cell_type": "code",
   "execution_count": 71,
   "id": "a12efe56",
   "metadata": {},
   "outputs": [
    {
     "name": "stdout",
     "output_type": "stream",
     "text": [
      "20/20 [==============================] - 1s 13ms/step - loss: 11.7615 - accuracy: 0.2375\n"
     ]
    }
   ],
   "source": [
    "score = model.fit(test_images, testTargets,batch_size=4)"
   ]
  },
  {
   "cell_type": "code",
   "execution_count": 72,
   "id": "861e36d1",
   "metadata": {},
   "outputs": [
    {
     "name": "stdout",
     "output_type": "stream",
     "text": [
      "<keras.callbacks.History object at 0x7f91ba66c250>\n"
     ]
    }
   ],
   "source": [
    "print(history)"
   ]
  },
  {
   "cell_type": "code",
   "execution_count": 73,
   "id": "dfea212b",
   "metadata": {},
   "outputs": [
    {
     "data": {
      "image/png": "[encoded data removed]",
      "text/plain": [
       "<Figure size 432x288 with 1 Axes>"
      ]
     },
     "metadata": {
      "needs_background": "light"
     },
     "output_type": "display_data"
    },
    {
     "data": {
      "text/plain": [
       "<matplotlib.legend.Legend at 0x7f91ba5178e0>"
      ]
     },
     "execution_count": 73,
     "metadata": {},
     "output_type": "execute_result"
    },
    {
     "data": {
      "image/png": "[encoded data removed]",
      "text/plain": [
       "<Figure size 432x288 with 1 Axes>"
      ]
     },
     "metadata": {
      "needs_background": "light"
     },
     "output_type": "display_data"
    },
    {
     "data": {
      "image/png": "[encoded data removed]",
      "text/plain": [
       "<Figure size 432x288 with 1 Axes>"
      ]
     },
     "metadata": {
      "needs_background": "light"
     },
     "output_type": "display_data"
    }
   ],
   "source": [
    "loss_values = history.history['loss']\n",
    "epochs = range(1, len(loss_values)+1)\n",
    "\n",
    "plt.plot(epochs, history.history['loss'], label='training Loss')\n",
    "plt.xlabel('Epochs')\n",
    "plt.ylabel('Loss')\n",
    "plt.legend()\n",
    "\n",
    "plt.show()\n",
    "\n",
    "plt.figure()\n",
    "plt.plot(epochs,history.history['loss'], label='train')\n",
    "plt.plot(epochs,history.history['val_loss'], label='test')\n",
    "plt.title('Classification - Loss')\n",
    "plt.ylabel('Loss')\n",
    "plt.xlabel('# Epoch')\n",
    "plt.legend()\n",
    "\n",
    "plt.figure()\n",
    "plt.plot(epochs,history.history['accuracy'], label='train')\n",
    "plt.plot(epochs,history.history['val_accuracy'], label='test')\n",
    "plt.title('Classification - Accuracy')\n",
    "plt.ylabel('Accuracy')\n",
    "plt.xlabel('epoch')\n",
    "plt.legend()\n",
    "\n"
   ]
  },
  {
   "cell_type": "code",
   "execution_count": 20,
   "id": "382579f1",
   "metadata": {},
   "outputs": [
    {
     "name": "stdout",
     "output_type": "stream",
     "text": [
      "{'loss': [0.5954841375350952, 0.5586168169975281, 0.4213060140609741, 0.26456236839294434, 0.22799891233444214], 'accuracy': [0.6466666460037231, 0.7333333492279053, 0.7733333110809326, 0.8833333253860474, 0.9200000166893005], 'val_loss': [1.0639128684997559, 0.753620445728302, 0.7086725234985352, 1.1896613836288452, 0.5547949075698853], 'val_accuracy': [0.23749999701976776, 0.3375000059604645, 0.5375000238418579, 0.48750001192092896, 0.6875]}\n"
     ]
    }
   ],
   "source": [
    "print(history.history)"
   ]
  },
  {
   "cell_type": "code",
   "execution_count": 74,
   "id": "4ed23f24",
   "metadata": {},
   "outputs": [
    {
     "name": "stdout",
     "output_type": "stream",
     "text": [
      "Model: \"model_4\"\n",
      "_________________________________________________________________\n",
      " Layer (type)                Output Shape              Param #   \n",
      "=================================================================\n",
      " input_2 (InputLayer)        [(None, 52, 52, 3)]       0         \n",
      "                                                                 \n",
      " bl_1 (Rescaling)            (None, 52, 52, 3)         0         \n",
      "                                                                 \n",
      " bl_2 (Conv2D)               (None, 52, 52, 16)        448       \n",
      "                                                                 \n",
      " bl_3 (MaxPooling2D)         (None, 26, 26, 16)        0         \n",
      "                                                                 \n",
      " bl_4 (Conv2D)               (None, 26, 26, 32)        4640      \n",
      "                                                                 \n",
      " bl_5 (MaxPooling2D)         (None, 13, 13, 32)        0         \n",
      "                                                                 \n",
      " bl_6 (Conv2D)               (None, 13, 13, 64)        18496     \n",
      "                                                                 \n",
      " bl_7 (MaxPooling2D)         (None, 6, 6, 64)          0         \n",
      "                                                                 \n",
      " bl_8 (Flatten)              (None, 2304)              0         \n",
      "                                                                 \n",
      " cl_2 (Dense)                (None, 128)               295040    \n",
      "                                                                 \n",
      " cl_head (Dense)             (None, 2)                 258       \n",
      "                                                                 \n",
      "=================================================================\n",
      "Total params: 318,882\n",
      "Trainable params: 318,882\n",
      "Non-trainable params: 0\n",
      "_________________________________________________________________\n"
     ]
    }
   ],
   "source": [
    "model.summary()"
   ]
  },
  {
   "cell_type": "code",
   "execution_count": 76,
   "id": "541b7ee6",
   "metadata": {},
   "outputs": [
    {
     "name": "stdout",
     "output_type": "stream",
     "text": [
      "[[-0.12667096 -0.7142993 ]\n",
      " [-0.13479272 -0.7294483 ]\n",
      " [-0.13738391 -0.73135775]\n",
      " [-0.1375607  -0.7206377 ]\n",
      " [-0.13319227 -0.7199023 ]\n",
      " [-0.13353464 -0.7213099 ]\n",
      " [-0.12119216 -0.72778994]\n",
      " [-0.13451457 -0.72802347]\n",
      " [-0.12403023 -0.72029203]\n",
      " [-0.126589   -0.71973   ]\n",
      " [-0.13034332 -0.72184473]\n",
      " [-0.13419509 -0.7283315 ]\n",
      " [-0.13466421 -0.7365632 ]\n",
      " [-0.1367546  -0.72873735]\n",
      " [-0.1340422  -0.71753454]\n",
      " [-0.15006599 -0.7327084 ]\n",
      " [-0.14332491 -0.72771513]\n",
      " [-0.12695381 -0.7255877 ]\n",
      " [-0.12772888 -0.72236675]\n",
      " [-0.13940951 -0.7218673 ]\n",
      " [-0.13416252 -0.7396476 ]\n",
      " [-0.1377329  -0.7340322 ]\n",
      " [-0.12931436 -0.70782655]\n",
      " [-0.1300329  -0.72118866]\n",
      " [-0.13704103 -0.7181721 ]\n",
      " [-0.13704103 -0.7181721 ]\n",
      " [-0.13555562 -0.72167957]\n",
      " [-0.13296288 -0.73034185]\n",
      " [-0.13728335 -0.7219272 ]\n",
      " [-0.1499303  -0.7108295 ]\n",
      " [-0.14572552 -0.70460415]\n",
      " [-0.14423335 -0.7174552 ]\n",
      " [-0.12760341 -0.7294264 ]\n",
      " [-0.14341173 -0.7205988 ]\n",
      " [-0.13736755 -0.70723224]\n",
      " [-0.12837479 -0.7220988 ]\n",
      " [-0.13164586 -0.7147539 ]\n",
      " [-0.12738264 -0.7245748 ]\n",
      " [-0.1279217  -0.7333014 ]\n",
      " [-0.12825277 -0.72598135]\n",
      " [-0.11660579 -0.72698635]\n",
      " [-0.13209417 -0.72495586]\n",
      " [-0.1363183  -0.70581067]\n",
      " [-0.13291249 -0.71196586]\n",
      " [-0.13029528 -0.7071355 ]\n",
      " [-0.13334522 -0.7148287 ]\n",
      " [-0.1288948  -0.7090245 ]\n",
      " [-0.12877071 -0.7219451 ]\n",
      " [-0.13454601 -0.7048945 ]\n",
      " [-0.13586098 -0.7222091 ]\n",
      " [-0.14166993 -0.71238446]\n",
      " [-0.13285056 -0.70603687]\n",
      " [-0.12663871 -0.70647204]\n",
      " [-0.13568652 -0.70473593]\n",
      " [-0.13550004 -0.70704365]\n",
      " [-0.13530424 -0.7203027 ]\n",
      " [-0.13708606 -0.7142695 ]\n",
      " [-0.12998083 -0.719262  ]\n",
      " [-0.13726294 -0.7220784 ]\n",
      " [-0.13251197 -0.7281826 ]\n",
      " [-0.13879612 -0.71326816]\n",
      " [-0.13005799 -0.7094736 ]\n",
      " [-0.13578665 -0.7126365 ]\n",
      " [-0.13537312 -0.7110314 ]\n",
      " [-0.13710487 -0.7068811 ]\n",
      " [-0.14894658 -0.7228061 ]\n",
      " [-0.13599238 -0.7080409 ]\n",
      " [-0.12999687 -0.7149054 ]\n",
      " [-0.14149365 -0.7171067 ]\n",
      " [-0.14317459 -0.716068  ]\n",
      " [-0.13649237 -0.7126813 ]\n",
      " [-0.13191837 -0.71710074]\n",
      " [-0.12239408 -0.7186849 ]\n",
      " [-0.12671575 -0.7279097 ]\n",
      " [-0.13650587 -0.715734  ]\n",
      " [-0.12486783 -0.72095686]\n",
      " [-0.1296792  -0.7196712 ]\n",
      " [-0.1306242  -0.71089184]\n",
      " [-0.12609959 -0.72762334]\n",
      " [-0.13110355 -0.72376275]]\n",
      "[[0 0 0 0 0 0 0 0 0 0 0 0 0 0 0 0 0 0 0 1 1 1 1 1 1 1 1 1 1 1 1 1 1 1 1 1\n",
      "  1 1 1 1 1 1 1 1 1 1 1 1 1 1 1 1 1 1 1 1 1 1 1 1 1 1 1 1 1 1 1 1 1 1 1 1\n",
      "  1 1 1 1 1 1 1 1]]\n"
     ]
    }
   ],
   "source": [
    "\n",
    "predictions = model.predict(test_images,batch_size=32)\n",
    "print(predictions)\n",
    "\n",
    "datatar = list(testTargets.values())\n",
    "an_array = np.array(datatar)\n",
    "print(an_array)"
   ]
  },
  {
   "cell_type": "code",
   "execution_count": 45,
   "id": "a483e7b1",
   "metadata": {},
   "outputs": [
    {
     "ename": "InvalidArgumentError",
     "evalue": "`predictions` contains negative values.  \nCondition x >= 0 did not hold element-wise:\nx (shape=(80, 2) dtype=int64) = \n['-1', '0', '-1', '...']",
     "output_type": "error",
     "traceback": [
      "\u001b[0;31m---------------------------------------------------------------------------\u001b[0m",
      "\u001b[0;31mInvalidArgumentError\u001b[0m                      Traceback (most recent call last)",
      "\u001b[0;32m/var/folders/d1/8zqrhd957xsbfl7mhph4cq380000gn/T/ipykernel_42988/1156580211.py\u001b[0m in \u001b[0;36m<module>\u001b[0;34m\u001b[0m\n\u001b[0;32m----> 1\u001b[0;31m \u001b[0mconf_matrix\u001b[0m \u001b[0;34m=\u001b[0m \u001b[0mtf\u001b[0m\u001b[0;34m.\u001b[0m\u001b[0mmath\u001b[0m\u001b[0;34m.\u001b[0m\u001b[0mconfusion_matrix\u001b[0m\u001b[0;34m(\u001b[0m\u001b[0man_array\u001b[0m\u001b[0;34m,\u001b[0m\u001b[0mpredictions\u001b[0m\u001b[0;34m)\u001b[0m\u001b[0;34m\u001b[0m\u001b[0;34m\u001b[0m\u001b[0m\n\u001b[0m",
      "\u001b[0;32m/Library/Frameworks/Python.framework/Versions/3.9/lib/python3.9/site-packages/tensorflow/python/util/traceback_utils.py\u001b[0m in \u001b[0;36merror_handler\u001b[0;34m(*args, **kwargs)\u001b[0m\n\u001b[1;32m    151\u001b[0m     \u001b[0;32mexcept\u001b[0m \u001b[0mException\u001b[0m \u001b[0;32mas\u001b[0m \u001b[0me\u001b[0m\u001b[0;34m:\u001b[0m\u001b[0;34m\u001b[0m\u001b[0;34m\u001b[0m\u001b[0m\n\u001b[1;32m    152\u001b[0m       \u001b[0mfiltered_tb\u001b[0m \u001b[0;34m=\u001b[0m \u001b[0m_process_traceback_frames\u001b[0m\u001b[0;34m(\u001b[0m\u001b[0me\u001b[0m\u001b[0;34m.\u001b[0m\u001b[0m__traceback__\u001b[0m\u001b[0;34m)\u001b[0m\u001b[0;34m\u001b[0m\u001b[0;34m\u001b[0m\u001b[0m\n\u001b[0;32m--> 153\u001b[0;31m       \u001b[0;32mraise\u001b[0m \u001b[0me\u001b[0m\u001b[0;34m.\u001b[0m\u001b[0mwith_traceback\u001b[0m\u001b[0;34m(\u001b[0m\u001b[0mfiltered_tb\u001b[0m\u001b[0;34m)\u001b[0m \u001b[0;32mfrom\u001b[0m \u001b[0;32mNone\u001b[0m\u001b[0;34m\u001b[0m\u001b[0;34m\u001b[0m\u001b[0m\n\u001b[0m\u001b[1;32m    154\u001b[0m     \u001b[0;32mfinally\u001b[0m\u001b[0;34m:\u001b[0m\u001b[0;34m\u001b[0m\u001b[0;34m\u001b[0m\u001b[0m\n\u001b[1;32m    155\u001b[0m       \u001b[0;32mdel\u001b[0m \u001b[0mfiltered_tb\u001b[0m\u001b[0;34m\u001b[0m\u001b[0;34m\u001b[0m\u001b[0m\n",
      "\u001b[0;32m/Library/Frameworks/Python.framework/Versions/3.9/lib/python3.9/site-packages/tensorflow/python/ops/check_ops.py\u001b[0m in \u001b[0;36m_binary_assert\u001b[0;34m(sym, opname, op_func, static_func, x, y, data, summarize, message, name)\u001b[0m\n\u001b[1;32m    407\u001b[0m         \u001b[0mdata\u001b[0m \u001b[0;34m=\u001b[0m \u001b[0;34m[\u001b[0m\u001b[0mmessage\u001b[0m\u001b[0;34m]\u001b[0m \u001b[0;34m+\u001b[0m \u001b[0mlist\u001b[0m\u001b[0;34m(\u001b[0m\u001b[0mdata\u001b[0m\u001b[0;34m)\u001b[0m\u001b[0;34m\u001b[0m\u001b[0;34m\u001b[0m\u001b[0m\n\u001b[1;32m    408\u001b[0m \u001b[0;34m\u001b[0m\u001b[0m\n\u001b[0;32m--> 409\u001b[0;31m       raise errors.InvalidArgumentError(\n\u001b[0m\u001b[1;32m    410\u001b[0m           \u001b[0mnode_def\u001b[0m\u001b[0;34m=\u001b[0m\u001b[0;32mNone\u001b[0m\u001b[0;34m,\u001b[0m\u001b[0;34m\u001b[0m\u001b[0;34m\u001b[0m\u001b[0m\n\u001b[1;32m    411\u001b[0m           \u001b[0mop\u001b[0m\u001b[0;34m=\u001b[0m\u001b[0;32mNone\u001b[0m\u001b[0;34m,\u001b[0m\u001b[0;34m\u001b[0m\u001b[0;34m\u001b[0m\u001b[0m\n",
      "\u001b[0;31mInvalidArgumentError\u001b[0m: `predictions` contains negative values.  \nCondition x >= 0 did not hold element-wise:\nx (shape=(80, 2) dtype=int64) = \n['-1', '0', '-1', '...']"
     ]
    }
   ],
   "source": [
    "conf_matrix = tf.math.confusion_matrix(an_array,predictions)"
   ]
  },
  {
   "cell_type": "code",
   "execution_count": 61,
   "id": "af106394",
   "metadata": {},
   "outputs": [
    {
     "ename": "AttributeError",
     "evalue": "'dict' object has no attribute 'argmax'",
     "output_type": "error",
     "traceback": [
      "\u001b[0;31m---------------------------------------------------------------------------\u001b[0m",
      "\u001b[0;31mAttributeError\u001b[0m                            Traceback (most recent call last)",
      "\u001b[0;32m/var/folders/d1/8zqrhd957xsbfl7mhph4cq380000gn/T/ipykernel_11994/1820611934.py\u001b[0m in \u001b[0;36m<module>\u001b[0;34m\u001b[0m\n\u001b[0;32m----> 1\u001b[0;31m \u001b[0mmatrix\u001b[0m \u001b[0;34m=\u001b[0m \u001b[0mmetrics\u001b[0m\u001b[0;34m.\u001b[0m\u001b[0mconfusion_matrix\u001b[0m\u001b[0;34m(\u001b[0m\u001b[0mtestTargets\u001b[0m\u001b[0;34m.\u001b[0m\u001b[0margmax\u001b[0m\u001b[0;34m(\u001b[0m\u001b[0maxis\u001b[0m\u001b[0;34m=\u001b[0m\u001b[0;36m1\u001b[0m\u001b[0;34m)\u001b[0m\u001b[0;34m,\u001b[0m \u001b[0mpredictions\u001b[0m\u001b[0;34m.\u001b[0m\u001b[0margmax\u001b[0m\u001b[0;34m(\u001b[0m\u001b[0maxis\u001b[0m\u001b[0;34m=\u001b[0m\u001b[0;36m1\u001b[0m\u001b[0;34m)\u001b[0m\u001b[0;34m)\u001b[0m\u001b[0;34m\u001b[0m\u001b[0;34m\u001b[0m\u001b[0m\n\u001b[0m",
      "\u001b[0;31mAttributeError\u001b[0m: 'dict' object has no attribute 'argmax'"
     ]
    }
   ],
   "source": [
    "matrix = metrics.confusion_matrix(testTargets.argmax(axis=1), predictions.argmax(axis=1))\n"
   ]
  },
  {
   "cell_type": "code",
   "execution_count": 62,
   "id": "ebf6d6f7",
   "metadata": {},
   "outputs": [
    {
     "ename": "ValueError",
     "evalue": "Expected array-like (array or non-string sequence), got {'cl_head': array([0, 1, 1, 1, 0, 1, 1, 1, 1, 1, 1, 1, 0, 1, 1, 1, 1, 1, 0, 1, 1, 0,\n       0, 0, 0, 1, 1, 0, 1, 0, 0, 0, 1, 1, 0, 1, 1, 1, 1, 1, 1, 1, 0, 0,\n       1, 1, 1, 1, 0, 1, 0, 1, 0, 0, 1, 1, 1, 1, 1, 1, 1, 1, 1, 1, 1, 1,\n       1, 0, 1, 1, 1, 1, 1, 1, 1, 1, 1, 1, 1, 1, 1, 1, 1, 1, 1, 1, 0, 1,\n       0, 1, 1, 1, 1, 1, 1, 1, 1, 1, 1, 1]), 'bb_head': array([[0.37, 0.4 , 0.55, 0.63],\n       [0.  , 0.  , 0.  , 0.  ],\n       [0.  , 0.  , 0.  , 0.  ],\n       [0.  , 0.  , 0.  , 0.  ],\n       [0.43, 0.53, 0.61, 0.9 ],\n       [0.  , 0.  , 0.  , 0.  ],\n       [0.  , 0.  , 0.  , 0.  ],\n       [0.  , 0.  , 0.  , 0.  ],\n       [0.  , 0.  , 0.  , 0.  ],\n       [0.  , 0.  , 0.  , 0.  ],\n       [0.  , 0.  , 0.  , 0.  ],\n       [0.  , 0.  , 0.  , 0.  ],\n       [0.27, 0.24, 0.52, 0.66],\n       [0.  , 0.  , 0.  , 0.  ],\n       [0.  , 0.  , 0.  , 0.  ],\n       [0.  , 0.  , 0.  , 0.  ],\n       [0.  , 0.  , 0.  , 0.  ],\n       [0.  , 0.  , 0.  , 0.  ],\n       [0.48, 0.2 , 0.67, 0.56],\n       [0.  , 0.  , 0.  , 0.  ],\n       [0.  , 0.  , 0.  , 0.  ],\n       [0.4 , 0.56, 0.68, 0.92],\n       [0.33, 0.7 , 0.57, 1.  ],\n       [0.25, 0.7 , 0.49, 1.  ],\n       [0.43, 0.15, 0.69, 0.6 ],\n       [0.  , 0.  , 0.  , 0.  ],\n       [0.  , 0.  , 0.  , 0.  ],\n       [0.47, 0.38, 0.73, 0.84],\n       [0.  , 0.  , 0.  , 0.  ],\n       [0.36, 0.05, 0.82, 0.8 ],\n       [0.32, 0.3 , 0.59, 0.76],\n       [0.29, 0.  , 0.56, 0.2 ],\n       [0.  , 0.  , 0.  , 0.  ],\n       [0.  , 0.  , 0.  , 0.  ],\n       [0.34, 0.12, 0.64, 0.69],\n       [0.  , 0.  , 0.  , 0.  ],\n       [0.  , 0.  , 0.  , 0.  ],\n       [0.  , 0.  , 0.  , 0.  ],\n       [0.  , 0.  , 0.  , 0.  ],\n       [0.  , 0.  , 0.  , 0.  ],\n       [0.  , 0.  , 0.  , 0.  ],\n       [0.  , 0.  , 0.  , 0.  ],\n       [0.27, 0.57, 0.53, 0.96],\n       [0.21, 0.05, 0.46, 0.48],\n       [0.  , 0.  , 0.  , 0.  ],\n       [0.  , 0.  , 0.  , 0.  ],\n       [0.  , 0.  , 0.  , 0.  ],\n       [0.  , 0.  , 0.  , 0.  ],\n       [0.39, 0.41, 0.56, 0.76],\n       [0.  , 0.  , 0.  , 0.  ],\n       [0.57, 0.42, 0.76, 0.76],\n       [0.  , 0.  , 0.  , 0.  ],\n       [0.59, 0.  , 0.78, 0.24],\n       [0.32, 0.17, 0.56, 0.6 ],\n       [0.  , 0.  , 0.  , 0.  ],\n       [0.  , 0.  , 0.  , 0.  ],\n       [0.  , 0.  , 0.  , 0.  ],\n       [0.  , 0.  , 0.  , 0.  ],\n       [0.  , 0.  , 0.  , 0.  ],\n       [0.  , 0.  , 0.  , 0.  ],\n       [0.  , 0.  , 0.  , 0.  ],\n       [0.  , 0.  , 0.  , 0.  ],\n       [0.  , 0.  , 0.  , 0.  ],\n       [0.  , 0.  , 0.  , 0.  ],\n       [0.  , 0.  , 0.  , 0.  ],\n       [0.  , 0.  , 0.  , 0.  ],\n       [0.  , 0.  , 0.  , 0.  ],\n       [0.36, 0.13, 0.66, 0.7 ],\n       [0.  , 0.  , 0.  , 0.  ],\n       [0.  , 0.  , 0.  , 0.  ],\n       [0.  , 0.  , 0.  , 0.  ],\n       [0.  , 0.  , 0.  , 0.  ],\n       [0.  , 0.  , 0.  , 0.  ],\n       [0.  , 0.  , 0.  , 0.  ],\n       [0.  , 0.  , 0.  , 0.  ],\n       [0.  , 0.  , 0.  , 0.  ],\n       [0.  , 0.  , 0.  , 0.  ],\n       [0.  , 0.  , 0.  , 0.  ],\n       [0.  , 0.  , 0.  , 0.  ],\n       [0.  , 0.  , 0.  , 0.  ],\n       [0.  , 0.  , 0.  , 0.  ],\n       [0.  , 0.  , 0.  , 0.  ],\n       [0.  , 0.  , 0.  , 0.  ],\n       [0.  , 0.  , 0.  , 0.  ],\n       [0.  , 0.  , 0.  , 0.  ],\n       [0.  , 0.  , 0.  , 0.  ],\n       [0.36, 0.52, 0.55, 0.84],\n       [0.  , 0.  , 0.  , 0.  ],\n       [0.31, 0.27, 0.61, 0.81],\n       [0.  , 0.  , 0.  , 0.  ],\n       [0.  , 0.  , 0.  , 0.  ],\n       [0.  , 0.  , 0.  , 0.  ],\n       [0.  , 0.  , 0.  , 0.  ],\n       [0.  , 0.  , 0.  , 0.  ],\n       [0.  , 0.  , 0.  , 0.  ],\n       [0.  , 0.  , 0.  , 0.  ],\n       [0.  , 0.  , 0.  , 0.  ],\n       [0.  , 0.  , 0.  , 0.  ],\n       [0.  , 0.  , 0.  , 0.  ],\n       [0.  , 0.  , 0.  , 0.  ]])}",
     "output_type": "error",
     "traceback": [
      "\u001b[0;31m---------------------------------------------------------------------------\u001b[0m",
      "\u001b[0;31mValueError\u001b[0m                                Traceback (most recent call last)",
      "\u001b[0;32m/var/folders/d1/8zqrhd957xsbfl7mhph4cq380000gn/T/ipykernel_11994/35305433.py\u001b[0m in \u001b[0;36m<module>\u001b[0;34m\u001b[0m\n\u001b[1;32m      1\u001b[0m \u001b[0;32mimport\u001b[0m \u001b[0msklearn\u001b[0m\u001b[0;34m\u001b[0m\u001b[0;34m\u001b[0m\u001b[0m\n\u001b[1;32m      2\u001b[0m \u001b[0;32mfrom\u001b[0m \u001b[0msklearn\u001b[0m \u001b[0;32mimport\u001b[0m \u001b[0mmetrics\u001b[0m\u001b[0;34m\u001b[0m\u001b[0;34m\u001b[0m\u001b[0m\n\u001b[0;32m----> 3\u001b[0;31m \u001b[0mprint\u001b[0m\u001b[0;34m(\u001b[0m\u001b[0;34m\"Accuracy:\"\u001b[0m\u001b[0;34m,\u001b[0m \u001b[0mmetrics\u001b[0m\u001b[0;34m.\u001b[0m\u001b[0maccuracy_score\u001b[0m\u001b[0;34m(\u001b[0m\u001b[0mtestTargets\u001b[0m\u001b[0;34m,\u001b[0m\u001b[0mpredictions\u001b[0m\u001b[0;34m)\u001b[0m\u001b[0;34m)\u001b[0m\u001b[0;34m\u001b[0m\u001b[0;34m\u001b[0m\u001b[0m\n\u001b[0m\u001b[1;32m      4\u001b[0m \u001b[0mprint\u001b[0m\u001b[0;34m(\u001b[0m\u001b[0;34m\"Precision:\"\u001b[0m\u001b[0;34m,\u001b[0m\u001b[0mmetrics\u001b[0m\u001b[0;34m.\u001b[0m\u001b[0mprecision_score\u001b[0m\u001b[0;34m(\u001b[0m\u001b[0mtestTargets\u001b[0m\u001b[0;34m,\u001b[0m\u001b[0mpredictions\u001b[0m\u001b[0;34m)\u001b[0m\u001b[0;34m)\u001b[0m\u001b[0;34m\u001b[0m\u001b[0;34m\u001b[0m\u001b[0m\n\u001b[1;32m      5\u001b[0m \u001b[0mprint\u001b[0m\u001b[0;34m(\u001b[0m\u001b[0;34m\"Recall:\"\u001b[0m\u001b[0;34m,\u001b[0m\u001b[0mmetrics\u001b[0m\u001b[0;34m.\u001b[0m\u001b[0mrecall_score\u001b[0m\u001b[0;34m(\u001b[0m\u001b[0mtestTargets\u001b[0m\u001b[0;34m,\u001b[0m\u001b[0mpredictions\u001b[0m\u001b[0;34m)\u001b[0m\u001b[0;34m)\u001b[0m\u001b[0;34m\u001b[0m\u001b[0;34m\u001b[0m\u001b[0m\n",
      "\u001b[0;32m/Library/Frameworks/Python.framework/Versions/3.9/lib/python3.9/site-packages/sklearn/metrics/_classification.py\u001b[0m in \u001b[0;36maccuracy_score\u001b[0;34m(y_true, y_pred, normalize, sample_weight)\u001b[0m\n\u001b[1;32m    203\u001b[0m \u001b[0;34m\u001b[0m\u001b[0m\n\u001b[1;32m    204\u001b[0m     \u001b[0;31m# Compute accuracy for each possible representation\u001b[0m\u001b[0;34m\u001b[0m\u001b[0;34m\u001b[0m\u001b[0;34m\u001b[0m\u001b[0m\n\u001b[0;32m--> 205\u001b[0;31m     \u001b[0my_type\u001b[0m\u001b[0;34m,\u001b[0m \u001b[0my_true\u001b[0m\u001b[0;34m,\u001b[0m \u001b[0my_pred\u001b[0m \u001b[0;34m=\u001b[0m \u001b[0m_check_targets\u001b[0m\u001b[0;34m(\u001b[0m\u001b[0my_true\u001b[0m\u001b[0;34m,\u001b[0m \u001b[0my_pred\u001b[0m\u001b[0;34m)\u001b[0m\u001b[0;34m\u001b[0m\u001b[0;34m\u001b[0m\u001b[0m\n\u001b[0m\u001b[1;32m    206\u001b[0m     \u001b[0mcheck_consistent_length\u001b[0m\u001b[0;34m(\u001b[0m\u001b[0my_true\u001b[0m\u001b[0;34m,\u001b[0m \u001b[0my_pred\u001b[0m\u001b[0;34m,\u001b[0m \u001b[0msample_weight\u001b[0m\u001b[0;34m)\u001b[0m\u001b[0;34m\u001b[0m\u001b[0;34m\u001b[0m\u001b[0m\n\u001b[1;32m    207\u001b[0m     \u001b[0;32mif\u001b[0m \u001b[0my_type\u001b[0m\u001b[0;34m.\u001b[0m\u001b[0mstartswith\u001b[0m\u001b[0;34m(\u001b[0m\u001b[0;34m\"multilabel\"\u001b[0m\u001b[0;34m)\u001b[0m\u001b[0;34m:\u001b[0m\u001b[0;34m\u001b[0m\u001b[0;34m\u001b[0m\u001b[0m\n",
      "\u001b[0;32m/Library/Frameworks/Python.framework/Versions/3.9/lib/python3.9/site-packages/sklearn/metrics/_classification.py\u001b[0m in \u001b[0;36m_check_targets\u001b[0;34m(y_true, y_pred)\u001b[0m\n\u001b[1;32m     83\u001b[0m     \"\"\"\n\u001b[1;32m     84\u001b[0m     \u001b[0mcheck_consistent_length\u001b[0m\u001b[0;34m(\u001b[0m\u001b[0my_true\u001b[0m\u001b[0;34m,\u001b[0m \u001b[0my_pred\u001b[0m\u001b[0;34m)\u001b[0m\u001b[0;34m\u001b[0m\u001b[0;34m\u001b[0m\u001b[0m\n\u001b[0;32m---> 85\u001b[0;31m     \u001b[0mtype_true\u001b[0m \u001b[0;34m=\u001b[0m \u001b[0mtype_of_target\u001b[0m\u001b[0;34m(\u001b[0m\u001b[0my_true\u001b[0m\u001b[0;34m)\u001b[0m\u001b[0;34m\u001b[0m\u001b[0;34m\u001b[0m\u001b[0m\n\u001b[0m\u001b[1;32m     86\u001b[0m     \u001b[0mtype_pred\u001b[0m \u001b[0;34m=\u001b[0m \u001b[0mtype_of_target\u001b[0m\u001b[0;34m(\u001b[0m\u001b[0my_pred\u001b[0m\u001b[0;34m)\u001b[0m\u001b[0;34m\u001b[0m\u001b[0;34m\u001b[0m\u001b[0m\n\u001b[1;32m     87\u001b[0m \u001b[0;34m\u001b[0m\u001b[0m\n",
      "\u001b[0;32m/Library/Frameworks/Python.framework/Versions/3.9/lib/python3.9/site-packages/sklearn/utils/multiclass.py\u001b[0m in \u001b[0;36mtype_of_target\u001b[0;34m(y)\u001b[0m\n\u001b[1;32m    269\u001b[0m \u001b[0;34m\u001b[0m\u001b[0m\n\u001b[1;32m    270\u001b[0m     \u001b[0;32mif\u001b[0m \u001b[0;32mnot\u001b[0m \u001b[0mvalid\u001b[0m\u001b[0;34m:\u001b[0m\u001b[0;34m\u001b[0m\u001b[0;34m\u001b[0m\u001b[0m\n\u001b[0;32m--> 271\u001b[0;31m         raise ValueError(\n\u001b[0m\u001b[1;32m    272\u001b[0m             \u001b[0;34m\"Expected array-like (array or non-string sequence), got %r\"\u001b[0m \u001b[0;34m%\u001b[0m \u001b[0my\u001b[0m\u001b[0;34m\u001b[0m\u001b[0;34m\u001b[0m\u001b[0m\n\u001b[1;32m    273\u001b[0m         )\n",
      "\u001b[0;31mValueError\u001b[0m: Expected array-like (array or non-string sequence), got {'cl_head': array([0, 1, 1, 1, 0, 1, 1, 1, 1, 1, 1, 1, 0, 1, 1, 1, 1, 1, 0, 1, 1, 0,\n       0, 0, 0, 1, 1, 0, 1, 0, 0, 0, 1, 1, 0, 1, 1, 1, 1, 1, 1, 1, 0, 0,\n       1, 1, 1, 1, 0, 1, 0, 1, 0, 0, 1, 1, 1, 1, 1, 1, 1, 1, 1, 1, 1, 1,\n       1, 0, 1, 1, 1, 1, 1, 1, 1, 1, 1, 1, 1, 1, 1, 1, 1, 1, 1, 1, 0, 1,\n       0, 1, 1, 1, 1, 1, 1, 1, 1, 1, 1, 1]), 'bb_head': array([[0.37, 0.4 , 0.55, 0.63],\n       [0.  , 0.  , 0.  , 0.  ],\n       [0.  , 0.  , 0.  , 0.  ],\n       [0.  , 0.  , 0.  , 0.  ],\n       [0.43, 0.53, 0.61, 0.9 ],\n       [0.  , 0.  , 0.  , 0.  ],\n       [0.  , 0.  , 0.  , 0.  ],\n       [0.  , 0.  , 0.  , 0.  ],\n       [0.  , 0.  , 0.  , 0.  ],\n       [0.  , 0.  , 0.  , 0.  ],\n       [0.  , 0.  , 0.  , 0.  ],\n       [0.  , 0.  , 0.  , 0.  ],\n       [0.27, 0.24, 0.52, 0.66],\n       [0.  , 0.  , 0.  , 0.  ],\n       [0.  , 0.  , 0.  , 0.  ],\n       [0.  , 0.  , 0.  , 0.  ],\n       [0.  , 0.  , 0.  , 0.  ],\n       [0.  , 0.  , 0.  , 0.  ],\n       [0.48, 0.2 , 0.67, 0.56],\n       [0.  , 0.  , 0.  , 0.  ],\n       [0.  , 0.  , 0.  , 0.  ],\n       [0.4 , 0.56, 0.68, 0.92],\n       [0.33, 0.7 , 0.57, 1.  ],\n       [0.25, 0.7 , 0.49, 1.  ],\n       [0.43, 0.15, 0.69, 0.6 ],\n       [0.  , 0.  , 0.  , 0.  ],\n       [0.  , 0.  , 0.  , 0.  ],\n       [0.47, 0.38, 0.73, 0.84],\n       [0.  , 0.  , 0.  , 0.  ],\n       [0.36, 0.05, 0.82, 0.8 ],\n       [0.32, 0.3 , 0.59, 0.76],\n       [0.29, 0.  , 0.56, 0.2 ],\n       [0.  , 0.  , 0.  , 0.  ],\n       [0.  , 0.  , 0.  , 0.  ],\n       [0.34, 0.12, 0.64, 0.69],\n       [0.  , 0.  , 0.  , 0.  ],\n       [0.  , 0.  , 0.  , 0.  ],\n       [0.  , 0.  , 0.  , 0.  ],\n       [0.  , 0.  , 0.  , 0.  ],\n       [0.  , 0.  , 0.  , 0.  ],\n       [0.  , 0.  , 0.  , 0.  ],\n       [0.  , 0.  , 0.  , 0.  ],\n       [0.27, 0.57, 0.53, 0.96],\n       [0.21, 0.05, 0.46, 0.48],\n       [0.  , 0.  , 0.  , 0.  ],\n       [0.  , 0.  , 0.  , 0.  ],\n       [0.  , 0.  , 0.  , 0.  ],\n       [0.  , 0.  , 0.  , 0.  ],\n       [0.39, 0.41, 0.56, 0.76],\n       [0.  , 0.  , 0.  , 0.  ],\n       [0.57, 0.42, 0.76, 0.76],\n       [0.  , 0.  , 0.  , 0.  ],\n       [0.59, 0.  , 0.78, 0.24],\n       [0.32, 0.17, 0.56, 0.6 ],\n       [0.  , 0.  , 0.  , 0.  ],\n       [0.  , 0.  , 0.  , 0.  ],\n       [0.  , 0.  , 0.  , 0.  ],\n       [0.  , 0.  , 0.  , 0.  ],\n       [0.  , 0.  , 0.  , 0.  ],\n       [0.  , 0.  , 0.  , 0.  ],\n       [0.  , 0.  , 0.  , 0.  ],\n       [0.  , 0.  , 0.  , 0.  ],\n       [0.  , 0.  , 0.  , 0.  ],\n       [0.  , 0.  , 0.  , 0.  ],\n       [0.  , 0.  , 0.  , 0.  ],\n       [0.  , 0.  , 0.  , 0.  ],\n       [0.  , 0.  , 0.  , 0.  ],\n       [0.36, 0.13, 0.66, 0.7 ],\n       [0.  , 0.  , 0.  , 0.  ],\n       [0.  , 0.  , 0.  , 0.  ],\n       [0.  , 0.  , 0.  , 0.  ],\n       [0.  , 0.  , 0.  , 0.  ],\n       [0.  , 0.  , 0.  , 0.  ],\n       [0.  , 0.  , 0.  , 0.  ],\n       [0.  , 0.  , 0.  , 0.  ],\n       [0.  , 0.  , 0.  , 0.  ],\n       [0.  , 0.  , 0.  , 0.  ],\n       [0.  , 0.  , 0.  , 0.  ],\n       [0.  , 0.  , 0.  , 0.  ],\n       [0.  , 0.  , 0.  , 0.  ],\n       [0.  , 0.  , 0.  , 0.  ],\n       [0.  , 0.  , 0.  , 0.  ],\n       [0.  , 0.  , 0.  , 0.  ],\n       [0.  , 0.  , 0.  , 0.  ],\n       [0.  , 0.  , 0.  , 0.  ],\n       [0.  , 0.  , 0.  , 0.  ],\n       [0.36, 0.52, 0.55, 0.84],\n       [0.  , 0.  , 0.  , 0.  ],\n       [0.31, 0.27, 0.61, 0.81],\n       [0.  , 0.  , 0.  , 0.  ],\n       [0.  , 0.  , 0.  , 0.  ],\n       [0.  , 0.  , 0.  , 0.  ],\n       [0.  , 0.  , 0.  , 0.  ],\n       [0.  , 0.  , 0.  , 0.  ],\n       [0.  , 0.  , 0.  , 0.  ],\n       [0.  , 0.  , 0.  , 0.  ],\n       [0.  , 0.  , 0.  , 0.  ],\n       [0.  , 0.  , 0.  , 0.  ],\n       [0.  , 0.  , 0.  , 0.  ],\n       [0.  , 0.  , 0.  , 0.  ]])}"
     ]
    }
   ],
   "source": [
    "import sklearn\n",
    "from sklearn import metrics\n",
    "print(\"Accuracy:\", metrics.accuracy_score(testTargets,predictions))\n",
    "print(\"Precision:\",metrics.precision_score(testTargets,predictions))\n",
    "print(\"Recall:\",metrics.recall_score(testTargets,predictions))\n",
    "\n",
    "from sklearn.metrics import confusion_matrix\n",
    "cnf_matrix = confusion_matrix(testTargets, predictions)\n",
    "cnf_matrix\n",
    "\n",
    "\n"
   ]
  },
  {
   "cell_type": "code",
   "execution_count": null,
   "id": "1f420d0b",
   "metadata": {},
   "outputs": [],
   "source": [
    "import seaborn as sns\n",
    "class_names=['Transformer','No Transformer']\n",
    "fig, ax = plt.subplots()\n",
    "\n",
    "sns.heatmap(pd.DataFrame(cnf_matrix),annot=True,cmap=\"icefire\",fmt='g')\n",
    "ax.xaxis.set_label_position(\"top\")\n",
    "plt.tight_layout()\n",
    "plt.title('Confusion matrix', y=1.1)\n",
    "tick_marks = np.arange(len(class_names))\n",
    "plt.xticks(tick_marks,class_names)\n",
    "plt.yticks(tick_marks,class_names)\n",
    "plt.ylabel('Actual label')\n",
    "plt.xlabel('Predicted label')"
   ]
  },
  {
   "cell_type": "code",
   "execution_count": null,
   "id": "6cb9553a",
   "metadata": {},
   "outputs": [],
   "source": [
    "matrix = metrics.confusion_matrix(testTargets.argmax(axis=1), predictions.argmax(axis=1))"
   ]
  },
  {
   "cell_type": "code",
   "execution_count": 86,
   "id": "a6950173",
   "metadata": {},
   "outputs": [
    {
     "name": "stdout",
     "output_type": "stream",
     "text": [
      "None\n",
      "<class 'keras.metrics.Precision'>\n",
      "<class 'keras.metrics.Recall'>\n"
     ]
    }
   ],
   "source": [
    "from keras.metrics import Precision, Recall\n",
    "\n",
    "model.compile(loss='binary_crossentropy', metrics=['accuracy', Precision(), Recall()])\n",
    "\n",
    "print(Precision)\n",
    "print(Recall)"
   ]
  },
  {
   "cell_type": "code",
   "execution_count": 89,
   "id": "a0df3245",
   "metadata": {},
   "outputs": [
    {
     "name": "stdout",
     "output_type": "stream",
     "text": [
      "Precision(name=precision_5,dtype=float32,thresholds=None,top_k=None,class_id=None)\n"
     ]
    }
   ],
   "source": [
    "m =  tf.keras.metrics.Precision()\n",
    "m.model\n",
    "print(m)"
   ]
  }
 ],
 "metadata": {
  "interpreter": {
   "hash": "dca0ade3e726a953b501b15e8e990130d2b7799f14cfd9f4271676035ebe5511"
  },
  "kernelspec": {
   "display_name": "Python 3.8.8 64-bit ('base': conda)",
   "name": "python3"
  },
  "language_info": {
   "codemirror_mode": {
    "name": "ipython",
    "version": 3
   },
   "file_extension": ".py",
   "mimetype": "text/x-python",
   "name": "python",
   "nbconvert_exporter": "python",
   "pygments_lexer": "ipython3",
   "version": "3.9.6"
  }
 },
 "nbformat": 4,
 "nbformat_minor": 5
}
