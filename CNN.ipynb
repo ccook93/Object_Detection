{
 "cells": [
  {
   "cell_type": "markdown",
   "metadata": {},
   "source": [
    "# Convolution Neural Network\n",
    "\n",
    "1. Train\n",
    "2. Evaluate\n",
    "3. Visualize Accuracy & Lost\n",
    "4. Re-evaluate Model\n",
    "5. Make Predictions on the Test Set\n",
    "6. Visualize classification report\n"
   ]
  },
  {
   "cell_type": "code",
   "execution_count": 1,
   "metadata": {},
   "outputs": [],
   "source": [
    "## Import Libraries\n",
    "import matplotlib.pyplot as plt\n",
    "import numpy as np\n",
    "import os\n",
    "import PIL\n",
    "import tensorflow as tf\n",
    "from tensorflow import keras\n",
    "from tensorflow.keras import layers\n",
    "from tensorflow.keras.models import Sequential\n",
    "import pathlib\n",
    "import pandas as pd\n",
    "from PIL import Image \n",
    "from PIL.ImageDraw import Draw"
   ]
  },
  {
   "cell_type": "code",
   "execution_count": 2,
   "id": "34b12b7a",
   "metadata": {},
   "outputs": [],
   "source": [
    "# Define Classes\n",
    "classes = ['Transformer','No-Transformer']"
   ]
  },
  {
   "cell_type": "code",
   "execution_count": 3,
   "metadata": {},
   "outputs": [],
   "source": [
    "# Read in Training Data and specify image directory location in system\n",
    "TRAINING_CSV_FILE = 'Data/tensorflow-keras/TRAIN.csv'\n",
    "TRAINING_IMAGE_DIR = 'Images/tensorflow-keras/TRAIN'\n",
    "\n",
    "height = 52\n",
    "width = 52\n",
    "\n",
    "training_image_records = pd.read_csv(TRAINING_CSV_FILE)\n",
    "\n",
    "train_image_path = TRAINING_IMAGE_DIR\n",
    "\n",
    "# Initiate variables / arrays\n",
    "train_images = []\n",
    "train_labels = []\n",
    "\n",
    "# Iterrate through rows in the csv file\n",
    "for index, row in training_image_records.iterrows():\n",
    "    \n",
    "    # Define a row to include the following headers from the csv\n",
    "    (filename,label) = row\n",
    "    # Specify training image path (Create string) - joining the filename in csv and the path\n",
    "    train_image_fullpath = os.path.join(train_image_path, filename)\n",
    "    # Load the image\n",
    "    train_img = keras.preprocessing.image.load_img(train_image_fullpath, target_size=(height, width))\n",
    "    # Create an array of the image\n",
    "    train_img_arr = keras.preprocessing.image.img_to_array(train_img)\n",
    "    \n",
    "    # Append this information in their respective arrays initiated for the 'For' loop\n",
    "    train_images.append(train_img_arr)\n",
    "    train_labels.append(classes.index(label))"
   ]
  },
  {
   "cell_type": "code",
   "execution_count": 5,
   "metadata": {},
   "outputs": [],
   "source": [
    "# Repeat process as described above but with TEST CSV and images\n",
    "TEST_CSV_FILE = 'Data/tensorflow-keras/TEST.csv'\n",
    "TEST_IMAGE_DIR = 'Images/tensorflow-keras/TEST'\n",
    "\n",
    "test_image_records = pd.read_csv(TEST_CSV_FILE)\n",
    "\n",
    "test_image_path = TEST_IMAGE_DIR\n",
    "\n",
    "test_images = []\n",
    "test_labels = []\n",
    "\n",
    "for index, row in test_image_records.iterrows():\n",
    "\n",
    "    (filename, label) = row\n",
    "\n",
    "    test_image_fullpath = os.path.join(test_image_path, filename)\n",
    "    test_img = keras.preprocessing.image.load_img(test_image_fullpath, target_size=(height, width))\n",
    "    test_img_arr = keras.preprocessing.image.img_to_array(test_img)\n",
    "\n",
    "    test_images.append(test_img_arr)\n",
    "    test_labels.append(classes.index(label))"
   ]
  },
  {
   "cell_type": "code",
   "execution_count": 6,
   "metadata": {},
   "outputs": [],
   "source": [
    "# Redefine appended arraya to np.arrays\n",
    "train_images = np.array(train_images)\n",
    "#train_targets = np.array(train_targets)\n",
    "train_labels = np.array(train_labels)\n",
    "\n",
    "test_images = np.array(test_images)\n",
    "#test_targets = np.array(test_targets)\n",
    "test_labels = np.array(test_labels)"
   ]
  },
  {
   "cell_type": "code",
   "execution_count": 7,
   "metadata": {},
   "outputs": [],
   "source": [
    "# Specifying width and height of images & number of classes in this classification\n",
    "width = 52\n",
    "height = 52\n",
    "num_classes = 2\n"
   ]
  },
  {
   "cell_type": "code",
   "execution_count": 8,
   "id": "e8dd9f79",
   "metadata": {},
   "outputs": [
    {
     "name": "stderr",
     "output_type": "stream",
     "text": [
      "2021-12-15 12:19:40.957363: I tensorflow/core/platform/cpu_feature_guard.cc:151] This TensorFlow binary is optimized with oneAPI Deep Neural Network Library (oneDNN) to use the following CPU instructions in performance-critical operations:  AVX2 FMA\n",
      "To enable them in other operations, rebuild TensorFlow with the appropriate compiler flags.\n"
     ]
    }
   ],
   "source": [
    "# Specified convolution layers\n",
    "#create the common input layer\n",
    "input_shape = (height, width, 3)\n",
    "input_layer = tf.keras.layers.Input(input_shape)\n",
    "\n",
    "#create the base layers\n",
    "base_layers = layers.experimental.preprocessing.Rescaling(1./255, name='bl_1')(input_layer)\n",
    "base_layers = layers.Conv2D(16, 3, padding='same', activation='relu', name='bl_2')(base_layers)\n",
    "base_layers = layers.MaxPooling2D(name='bl_3')(base_layers)\n",
    "base_layers = layers.Conv2D(32, 3, padding='same', activation='relu', name='bl_4')(base_layers)\n",
    "base_layers = layers.MaxPooling2D(name='bl_5')(base_layers)\n",
    "base_layers = layers.Conv2D(64, 3, padding='same', activation='relu', name='bl_6')(base_layers)\n",
    "base_layers = layers.MaxPooling2D(name='bl_7')(base_layers)\n",
    "base_layers = layers.Flatten(name='bl_8')(base_layers)"
   ]
  },
  {
   "cell_type": "code",
   "execution_count": 9,
   "id": "894e4871",
   "metadata": {},
   "outputs": [],
   "source": [
    "#create the classifier branch\n",
    "classifier_branch = layers.Dense(128, activation='relu', name='cl_1')(base_layers)\n",
    "classifier_branch = layers.Dense(num_classes, name='cl_head')(classifier_branch)  "
   ]
  },
  {
   "cell_type": "markdown",
   "id": "c20f3cfd",
   "metadata": {},
   "source": [
    "locator_branch = layers.Dense(128, activation='relu', name='bb_1')(base_layers)\n",
    "locator_branch = layers.Dense(64, activation='relu', name='bb_2')(locator_branch)\n",
    "locator_branch = layers.Dense(32, activation='relu', name='bb_3')(locator_branch)\n",
    "locator_branch = layers.Dense(4, activation='sigmoid', name='bb_head')(locator_branch)"
   ]
  },
  {
   "cell_type": "code",
   "execution_count": 10,
   "id": "097a5b14",
   "metadata": {},
   "outputs": [],
   "source": [
    "model = tf.keras.Model(input_layer,\n",
    "           outputs=[classifier_branch])"
   ]
  },
  {
   "cell_type": "code",
   "execution_count": 11,
   "id": "481566e8",
   "metadata": {},
   "outputs": [],
   "source": [
    "losses = {\"cl_head\":tf.keras.losses.SparseCategoricalCrossentropy(from_logits=True)}"
   ]
  },
  {
   "cell_type": "code",
   "execution_count": 35,
   "id": "2135a8d5",
   "metadata": {},
   "outputs": [],
   "source": [
    "model.compile(loss='binary_crossentropy', optimizer='adam', metrics=['accuracy'])"
   ]
  },
  {
   "cell_type": "code",
   "execution_count": 37,
   "id": "021b0b52",
   "metadata": {},
   "outputs": [],
   "source": [
    "trainTargets = {\n",
    "    \"cl_head\": train_labels,\n",
    "    #\"bb_head\": train_targets\n",
    "}\n",
    "testTargets = {\n",
    "    \"cl_head\": test_labels,\n",
    "    #\"bb_head\": test_targets\n",
    "}"
   ]
  },
  {
   "cell_type": "code",
   "execution_count": 39,
   "id": "69ce1897",
   "metadata": {},
   "outputs": [
    {
     "name": "stdout",
     "output_type": "stream",
     "text": [
      "Epoch 1/5\n",
      "10/10 [==============================] - 1s 74ms/step - loss: 2.6047 - accuracy: 0.4333 - val_loss: 6.4299 - val_accuracy: 0.7625\n",
      "Epoch 2/5\n",
      "10/10 [==============================] - 0s 45ms/step - loss: 2.5078 - accuracy: 0.3067 - val_loss: 6.2445 - val_accuracy: 0.7625\n",
      "Epoch 3/5\n",
      "10/10 [==============================] - 0s 46ms/step - loss: 2.4577 - accuracy: 0.3100 - val_loss: 6.3631 - val_accuracy: 0.7625\n",
      "Epoch 4/5\n",
      "10/10 [==============================] - 0s 42ms/step - loss: 2.5853 - accuracy: 0.3267 - val_loss: 6.3651 - val_accuracy: 0.7625\n",
      "Epoch 5/5\n",
      "10/10 [==============================] - 0s 47ms/step - loss: 2.4814 - accuracy: 0.3500 - val_loss: 6.7518 - val_accuracy: 0.7750\n"
     ]
    }
   ],
   "source": [
    "training_epochs = 5\n",
    "\n",
    "history = model.fit(train_images, trainTargets,\n",
    "            validation_data=(test_images, testTargets),\n",
    "             batch_size=32,\n",
    "             epochs=training_epochs,\n",
    "             shuffle=True,\n",
    "             verbose=1)"
   ]
  },
  {
   "cell_type": "code",
   "execution_count": 40,
   "id": "a12efe56",
   "metadata": {},
   "outputs": [
    {
     "name": "stdout",
     "output_type": "stream",
     "text": [
      "20/20 [==============================] - 1s 10ms/step - loss: 6.3460 - accuracy: 0.7750\n"
     ]
    }
   ],
   "source": [
    "score = model.fit(test_images, testTargets,batch_size=4)"
   ]
  },
  {
   "cell_type": "code",
   "execution_count": 41,
   "id": "861e36d1",
   "metadata": {},
   "outputs": [
    {
     "name": "stdout",
     "output_type": "stream",
     "text": [
      "<keras.callbacks.History object at 0x7f91bc08da60>\n"
     ]
    }
   ],
   "source": [
    "print(history)"
   ]
  },
  {
   "cell_type": "code",
   "execution_count": 42,
   "id": "dfea212b",
   "metadata": {},
   "outputs": [
    {
     "data": {
      "image/png": "[encoded data removed]",
      "text/plain": [
       "<Figure size 432x288 with 1 Axes>"
      ]
     },
     "metadata": {
      "needs_background": "light"
     },
     "output_type": "display_data"
    },
    {
     "data": {
      "text/plain": [
       "<matplotlib.legend.Legend at 0x7f91bb410e20>"
      ]
     },
     "execution_count": 42,
     "metadata": {},
     "output_type": "execute_result"
    },
    {
     "data": {
      "image/png": "[encoded data removed]",
      "text/plain": [
       "<Figure size 432x288 with 1 Axes>"
      ]
     },
     "metadata": {
      "needs_background": "light"
     },
     "output_type": "display_data"
    },
    {
     "data": {
      "image/png": "[encoded data removed]",
      "text/plain": [
       "<Figure size 432x288 with 1 Axes>"
      ]
     },
     "metadata": {
      "needs_background": "light"
     },
     "output_type": "display_data"
    }
   ],
   "source": [
    "loss_values = history.history['loss']\n",
    "epochs = range(1, len(loss_values)+1)\n",
    "\n",
    "plt.plot(epochs, history.history['loss'], label='training Loss')\n",
    "plt.xlabel('Epochs')\n",
    "plt.ylabel('Loss')\n",
    "plt.legend()\n",
    "\n",
    "plt.show()\n",
    "\n",
    "plt.figure()\n",
    "plt.plot(epochs,history.history['loss'], label='train')\n",
    "plt.plot(epochs,history.history['val_loss'], label='test')\n",
    "plt.title('Classification - Loss')\n",
    "plt.ylabel('Loss')\n",
    "plt.xlabel('# Epoch')\n",
    "plt.legend()\n",
    "\n",
    "plt.figure()\n",
    "plt.plot(epochs,history.history['accuracy'], label='train')\n",
    "plt.plot(epochs,history.history['val_accuracy'], label='test')\n",
    "plt.title('Classification - Accuracy')\n",
    "plt.ylabel('Accuracy')\n",
    "plt.xlabel('epoch')\n",
    "plt.legend()\n",
    "\n"
   ]
  },
  {
   "cell_type": "code",
   "execution_count": 20,
   "id": "382579f1",
   "metadata": {},
   "outputs": [
    {
     "name": "stdout",
     "output_type": "stream",
     "text": [
      "{'loss': [0.5954841375350952, 0.5586168169975281, 0.4213060140609741, 0.26456236839294434, 0.22799891233444214], 'accuracy': [0.6466666460037231, 0.7333333492279053, 0.7733333110809326, 0.8833333253860474, 0.9200000166893005], 'val_loss': [1.0639128684997559, 0.753620445728302, 0.7086725234985352, 1.1896613836288452, 0.5547949075698853], 'val_accuracy': [0.23749999701976776, 0.3375000059604645, 0.5375000238418579, 0.48750001192092896, 0.6875]}\n"
     ]
    }
   ],
   "source": [
    "print(history.history)"
   ]
  },
  {
   "cell_type": "code",
   "execution_count": 43,
   "id": "4ed23f24",
   "metadata": {},
   "outputs": [
    {
     "name": "stdout",
     "output_type": "stream",
     "text": [
      "Model: \"model\"\n",
      "_________________________________________________________________\n",
      " Layer (type)                Output Shape              Param #   \n",
      "=================================================================\n",
      " input_1 (InputLayer)        [(None, 52, 52, 3)]       0         \n",
      "                                                                 \n",
      " bl_1 (Rescaling)            (None, 52, 52, 3)         0         \n",
      "                                                                 \n",
      " bl_2 (Conv2D)               (None, 52, 52, 16)        448       \n",
      "                                                                 \n",
      " bl_3 (MaxPooling2D)         (None, 26, 26, 16)        0         \n",
      "                                                                 \n",
      " bl_4 (Conv2D)               (None, 26, 26, 32)        4640      \n",
      "                                                                 \n",
      " bl_5 (MaxPooling2D)         (None, 13, 13, 32)        0         \n",
      "                                                                 \n",
      " bl_6 (Conv2D)               (None, 13, 13, 64)        18496     \n",
      "                                                                 \n",
      " bl_7 (MaxPooling2D)         (None, 6, 6, 64)          0         \n",
      "                                                                 \n",
      " bl_8 (Flatten)              (None, 2304)              0         \n",
      "                                                                 \n",
      " cl_1 (Dense)                (None, 128)               295040    \n",
      "                                                                 \n",
      " cl_head (Dense)             (None, 2)                 258       \n",
      "                                                                 \n",
      "=================================================================\n",
      "Total params: 318,882\n",
      "Trainable params: 318,882\n",
      "Non-trainable params: 0\n",
      "_________________________________________________________________\n"
     ]
    }
   ],
   "source": [
    "model.summary()"
   ]
  },
  {
   "cell_type": "code",
   "execution_count": 44,
   "id": "541b7ee6",
   "metadata": {},
   "outputs": [
    {
     "name": "stdout",
     "output_type": "stream",
     "text": [
      "[[-1.25698161e+00  1.59312010e-01]\n",
      " [-1.26243639e+00 -9.74910498e-01]\n",
      " [-1.28276277e+00 -8.30930650e-01]\n",
      " [-1.24528694e+00 -8.99510384e-01]\n",
      " [-1.15291727e+00 -3.57231826e-01]\n",
      " [-9.54003394e-01  1.81587338e-01]\n",
      " [-1.27908349e+00  1.06997371e+00]\n",
      " [-9.98067081e-01  1.57266408e-01]\n",
      " [-1.13160050e+00 -3.82026672e-01]\n",
      " [-1.18496358e+00 -8.10528278e-01]\n",
      " [-8.55502546e-01 -1.27129536e-02]\n",
      " [-1.20633185e+00 -4.04871553e-01]\n",
      " [-1.18360651e+00 -8.85988116e-01]\n",
      " [-1.29555416e+00 -5.16421318e-01]\n",
      " [-1.09904969e+00 -6.52061820e-01]\n",
      " [-1.25707972e+00 -1.44406605e+00]\n",
      " [-1.22310531e+00 -9.83539522e-01]\n",
      " [-9.39742625e-01 -1.75765812e-01]\n",
      " [-9.33732629e-01 -4.71837401e-01]\n",
      " [-1.23964787e+00  3.23114768e-02]\n",
      " [-1.17500222e+00  5.86416364e-01]\n",
      " [-1.35456109e+00  1.33508062e+00]\n",
      " [-1.39335895e+00  1.20119774e+00]\n",
      " [-1.18163955e+00 -1.08629756e-01]\n",
      " [-9.76676643e-01  5.58919430e-01]\n",
      " [-9.76676643e-01  5.58919430e-01]\n",
      " [-1.02922273e+00  4.71008942e-04]\n",
      " [-8.12893093e-01  2.43868470e-01]\n",
      " [-9.28564250e-01  7.03405380e-01]\n",
      " [-1.07251477e+00  8.59364986e-01]\n",
      " [-1.42173576e+00  1.09287333e+00]\n",
      " [-1.22416544e+00  6.76196277e-01]\n",
      " [-1.40479517e+00  1.36020041e+00]\n",
      " [-9.20770824e-01  6.61872029e-01]\n",
      " [-1.08832133e+00  1.19534612e+00]\n",
      " [-9.11362350e-01  3.07706207e-01]\n",
      " [-8.49598587e-01  5.26396036e-01]\n",
      " [-1.04096329e+00  4.57751840e-01]\n",
      " [-1.07996142e+00  1.08723986e+00]\n",
      " [-9.42243993e-01  6.50753498e-01]\n",
      " [-1.00165880e+00  1.14088297e+00]\n",
      " [-9.18662608e-01  1.04640961e+00]\n",
      " [-8.92303348e-01  7.34154403e-01]\n",
      " [-9.09719765e-01  8.68647873e-01]\n",
      " [-7.89927602e-01  7.69405663e-01]\n",
      " [-1.05119586e+00  8.49599004e-01]\n",
      " [-1.09670401e+00  1.00515532e+00]\n",
      " [-1.04543519e+00  9.90260839e-01]\n",
      " [-8.27072799e-01  4.74419266e-01]\n",
      " [-8.41290653e-01  5.47905087e-01]\n",
      " [-9.89573896e-01  4.40929443e-01]\n",
      " [-8.88651073e-01  7.05072999e-01]\n",
      " [-1.16642475e+00  7.20187575e-02]\n",
      " [-1.03971899e+00  2.05014497e-01]\n",
      " [-1.00643015e+00  4.14915234e-01]\n",
      " [-7.74602175e-01  4.30628866e-01]\n",
      " [-9.82212842e-01  3.43467921e-01]\n",
      " [-1.03928876e+00  1.24826837e+00]\n",
      " [-7.34261632e-01  5.49595118e-01]\n",
      " [-1.04212403e+00  1.28336489e+00]\n",
      " [-8.39485943e-01  9.50358272e-01]\n",
      " [-9.94328976e-01  7.47533441e-01]\n",
      " [-9.10512865e-01  6.56522810e-01]\n",
      " [-8.41548860e-01  1.00855613e+00]\n",
      " [-6.69455707e-01  6.35256410e-01]\n",
      " [-1.28553438e+00  1.24743152e+00]\n",
      " [-7.62833238e-01  5.59663951e-01]\n",
      " [-1.16920197e+00  3.49209428e-01]\n",
      " [-1.13631940e+00 -7.45634735e-02]\n",
      " [-8.49835932e-01  5.76431155e-01]\n",
      " [-1.21869719e+00  5.77959061e-01]\n",
      " [-8.88718426e-01  4.24420625e-01]\n",
      " [-1.14552343e+00  1.16837394e+00]\n",
      " [-8.15314353e-01  3.62679750e-01]\n",
      " [-1.19868886e+00 -2.97874749e-01]\n",
      " [-9.64719832e-01  8.22259188e-01]\n",
      " [-9.76494014e-01  7.42897868e-01]\n",
      " [-1.17500603e+00  6.25764579e-02]\n",
      " [-8.91544521e-01  1.00036764e+00]\n",
      " [-9.38467383e-01  7.44240999e-01]]\n",
      "[[0 0 0 0 0 0 0 0 0 0 0 0 0 0 0 0 0 0 0 1 1 1 1 1 1 1 1 1 1 1 1 1 1 1 1 1\n",
      "  1 1 1 1 1 1 1 1 1 1 1 1 1 1 1 1 1 1 1 1 1 1 1 1 1 1 1 1 1 1 1 1 1 1 1 1\n",
      "  1 1 1 1 1 1 1 1]]\n"
     ]
    }
   ],
   "source": [
    "\n",
    "predictions = model.predict(test_images,batch_size=32)\n",
    "print(predictions)\n",
    "\n",
    "datatar = list(testTargets.values())\n",
    "an_array = np.array(datatar)\n",
    "print(an_array)"
   ]
  },
  {
   "cell_type": "code",
   "execution_count": 45,
   "id": "a483e7b1",
   "metadata": {},
   "outputs": [
    {
     "ename": "InvalidArgumentError",
     "evalue": "`predictions` contains negative values.  \nCondition x >= 0 did not hold element-wise:\nx (shape=(80, 2) dtype=int64) = \n['-1', '0', '-1', '...']",
     "output_type": "error",
     "traceback": [
      "\u001b[0;31m---------------------------------------------------------------------------\u001b[0m",
      "\u001b[0;31mInvalidArgumentError\u001b[0m                      Traceback (most recent call last)",
      "\u001b[0;32m/var/folders/d1/8zqrhd957xsbfl7mhph4cq380000gn/T/ipykernel_42988/1156580211.py\u001b[0m in \u001b[0;36m<module>\u001b[0;34m\u001b[0m\n\u001b[0;32m----> 1\u001b[0;31m \u001b[0mconf_matrix\u001b[0m \u001b[0;34m=\u001b[0m \u001b[0mtf\u001b[0m\u001b[0;34m.\u001b[0m\u001b[0mmath\u001b[0m\u001b[0;34m.\u001b[0m\u001b[0mconfusion_matrix\u001b[0m\u001b[0;34m(\u001b[0m\u001b[0man_array\u001b[0m\u001b[0;34m,\u001b[0m\u001b[0mpredictions\u001b[0m\u001b[0;34m)\u001b[0m\u001b[0;34m\u001b[0m\u001b[0;34m\u001b[0m\u001b[0m\n\u001b[0m",
      "\u001b[0;32m/Library/Frameworks/Python.framework/Versions/3.9/lib/python3.9/site-packages/tensorflow/python/util/traceback_utils.py\u001b[0m in \u001b[0;36merror_handler\u001b[0;34m(*args, **kwargs)\u001b[0m\n\u001b[1;32m    151\u001b[0m     \u001b[0;32mexcept\u001b[0m \u001b[0mException\u001b[0m \u001b[0;32mas\u001b[0m \u001b[0me\u001b[0m\u001b[0;34m:\u001b[0m\u001b[0;34m\u001b[0m\u001b[0;34m\u001b[0m\u001b[0m\n\u001b[1;32m    152\u001b[0m       \u001b[0mfiltered_tb\u001b[0m \u001b[0;34m=\u001b[0m \u001b[0m_process_traceback_frames\u001b[0m\u001b[0;34m(\u001b[0m\u001b[0me\u001b[0m\u001b[0;34m.\u001b[0m\u001b[0m__traceback__\u001b[0m\u001b[0;34m)\u001b[0m\u001b[0;34m\u001b[0m\u001b[0;34m\u001b[0m\u001b[0m\n\u001b[0;32m--> 153\u001b[0;31m       \u001b[0;32mraise\u001b[0m \u001b[0me\u001b[0m\u001b[0;34m.\u001b[0m\u001b[0mwith_traceback\u001b[0m\u001b[0;34m(\u001b[0m\u001b[0mfiltered_tb\u001b[0m\u001b[0;34m)\u001b[0m \u001b[0;32mfrom\u001b[0m \u001b[0;32mNone\u001b[0m\u001b[0;34m\u001b[0m\u001b[0;34m\u001b[0m\u001b[0m\n\u001b[0m\u001b[1;32m    154\u001b[0m     \u001b[0;32mfinally\u001b[0m\u001b[0;34m:\u001b[0m\u001b[0;34m\u001b[0m\u001b[0;34m\u001b[0m\u001b[0m\n\u001b[1;32m    155\u001b[0m       \u001b[0;32mdel\u001b[0m \u001b[0mfiltered_tb\u001b[0m\u001b[0;34m\u001b[0m\u001b[0;34m\u001b[0m\u001b[0m\n",
      "\u001b[0;32m/Library/Frameworks/Python.framework/Versions/3.9/lib/python3.9/site-packages/tensorflow/python/ops/check_ops.py\u001b[0m in \u001b[0;36m_binary_assert\u001b[0;34m(sym, opname, op_func, static_func, x, y, data, summarize, message, name)\u001b[0m\n\u001b[1;32m    407\u001b[0m         \u001b[0mdata\u001b[0m \u001b[0;34m=\u001b[0m \u001b[0;34m[\u001b[0m\u001b[0mmessage\u001b[0m\u001b[0;34m]\u001b[0m \u001b[0;34m+\u001b[0m \u001b[0mlist\u001b[0m\u001b[0;34m(\u001b[0m\u001b[0mdata\u001b[0m\u001b[0;34m)\u001b[0m\u001b[0;34m\u001b[0m\u001b[0;34m\u001b[0m\u001b[0m\n\u001b[1;32m    408\u001b[0m \u001b[0;34m\u001b[0m\u001b[0m\n\u001b[0;32m--> 409\u001b[0;31m       raise errors.InvalidArgumentError(\n\u001b[0m\u001b[1;32m    410\u001b[0m           \u001b[0mnode_def\u001b[0m\u001b[0;34m=\u001b[0m\u001b[0;32mNone\u001b[0m\u001b[0;34m,\u001b[0m\u001b[0;34m\u001b[0m\u001b[0;34m\u001b[0m\u001b[0m\n\u001b[1;32m    411\u001b[0m           \u001b[0mop\u001b[0m\u001b[0;34m=\u001b[0m\u001b[0;32mNone\u001b[0m\u001b[0;34m,\u001b[0m\u001b[0;34m\u001b[0m\u001b[0;34m\u001b[0m\u001b[0m\n",
      "\u001b[0;31mInvalidArgumentError\u001b[0m: `predictions` contains negative values.  \nCondition x >= 0 did not hold element-wise:\nx (shape=(80, 2) dtype=int64) = \n['-1', '0', '-1', '...']"
     ]
    }
   ],
   "source": [
    "conf_matrix = tf.math.confusion_matrix(an_array,predictions)"
   ]
  },
  {
   "cell_type": "code",
   "execution_count": 61,
   "id": "af106394",
   "metadata": {},
   "outputs": [
    {
     "ename": "AttributeError",
     "evalue": "'dict' object has no attribute 'argmax'",
     "output_type": "error",
     "traceback": [
      "\u001b[0;31m---------------------------------------------------------------------------\u001b[0m",
      "\u001b[0;31mAttributeError\u001b[0m                            Traceback (most recent call last)",
      "\u001b[0;32m/var/folders/d1/8zqrhd957xsbfl7mhph4cq380000gn/T/ipykernel_11994/1820611934.py\u001b[0m in \u001b[0;36m<module>\u001b[0;34m\u001b[0m\n\u001b[0;32m----> 1\u001b[0;31m \u001b[0mmatrix\u001b[0m \u001b[0;34m=\u001b[0m \u001b[0mmetrics\u001b[0m\u001b[0;34m.\u001b[0m\u001b[0mconfusion_matrix\u001b[0m\u001b[0;34m(\u001b[0m\u001b[0mtestTargets\u001b[0m\u001b[0;34m.\u001b[0m\u001b[0margmax\u001b[0m\u001b[0;34m(\u001b[0m\u001b[0maxis\u001b[0m\u001b[0;34m=\u001b[0m\u001b[0;36m1\u001b[0m\u001b[0;34m)\u001b[0m\u001b[0;34m,\u001b[0m \u001b[0mpredictions\u001b[0m\u001b[0;34m.\u001b[0m\u001b[0margmax\u001b[0m\u001b[0;34m(\u001b[0m\u001b[0maxis\u001b[0m\u001b[0;34m=\u001b[0m\u001b[0;36m1\u001b[0m\u001b[0;34m)\u001b[0m\u001b[0;34m)\u001b[0m\u001b[0;34m\u001b[0m\u001b[0;34m\u001b[0m\u001b[0m\n\u001b[0m",
      "\u001b[0;31mAttributeError\u001b[0m: 'dict' object has no attribute 'argmax'"
     ]
    }
   ],
   "source": [
    "matrix = metrics.confusion_matrix(testTargets.argmax(axis=1), predictions.argmax(axis=1))\n"
   ]
  },
  {
   "cell_type": "code",
   "execution_count": 62,
   "id": "ebf6d6f7",
   "metadata": {},
   "outputs": [
    {
     "ename": "ValueError",
     "evalue": "Expected array-like (array or non-string sequence), got {'cl_head': array([0, 1, 1, 1, 0, 1, 1, 1, 1, 1, 1, 1, 0, 1, 1, 1, 1, 1, 0, 1, 1, 0,\n       0, 0, 0, 1, 1, 0, 1, 0, 0, 0, 1, 1, 0, 1, 1, 1, 1, 1, 1, 1, 0, 0,\n       1, 1, 1, 1, 0, 1, 0, 1, 0, 0, 1, 1, 1, 1, 1, 1, 1, 1, 1, 1, 1, 1,\n       1, 0, 1, 1, 1, 1, 1, 1, 1, 1, 1, 1, 1, 1, 1, 1, 1, 1, 1, 1, 0, 1,\n       0, 1, 1, 1, 1, 1, 1, 1, 1, 1, 1, 1]), 'bb_head': array([[0.37, 0.4 , 0.55, 0.63],\n       [0.  , 0.  , 0.  , 0.  ],\n       [0.  , 0.  , 0.  , 0.  ],\n       [0.  , 0.  , 0.  , 0.  ],\n       [0.43, 0.53, 0.61, 0.9 ],\n       [0.  , 0.  , 0.  , 0.  ],\n       [0.  , 0.  , 0.  , 0.  ],\n       [0.  , 0.  , 0.  , 0.  ],\n       [0.  , 0.  , 0.  , 0.  ],\n       [0.  , 0.  , 0.  , 0.  ],\n       [0.  , 0.  , 0.  , 0.  ],\n       [0.  , 0.  , 0.  , 0.  ],\n       [0.27, 0.24, 0.52, 0.66],\n       [0.  , 0.  , 0.  , 0.  ],\n       [0.  , 0.  , 0.  , 0.  ],\n       [0.  , 0.  , 0.  , 0.  ],\n       [0.  , 0.  , 0.  , 0.  ],\n       [0.  , 0.  , 0.  , 0.  ],\n       [0.48, 0.2 , 0.67, 0.56],\n       [0.  , 0.  , 0.  , 0.  ],\n       [0.  , 0.  , 0.  , 0.  ],\n       [0.4 , 0.56, 0.68, 0.92],\n       [0.33, 0.7 , 0.57, 1.  ],\n       [0.25, 0.7 , 0.49, 1.  ],\n       [0.43, 0.15, 0.69, 0.6 ],\n       [0.  , 0.  , 0.  , 0.  ],\n       [0.  , 0.  , 0.  , 0.  ],\n       [0.47, 0.38, 0.73, 0.84],\n       [0.  , 0.  , 0.  , 0.  ],\n       [0.36, 0.05, 0.82, 0.8 ],\n       [0.32, 0.3 , 0.59, 0.76],\n       [0.29, 0.  , 0.56, 0.2 ],\n       [0.  , 0.  , 0.  , 0.  ],\n       [0.  , 0.  , 0.  , 0.  ],\n       [0.34, 0.12, 0.64, 0.69],\n       [0.  , 0.  , 0.  , 0.  ],\n       [0.  , 0.  , 0.  , 0.  ],\n       [0.  , 0.  , 0.  , 0.  ],\n       [0.  , 0.  , 0.  , 0.  ],\n       [0.  , 0.  , 0.  , 0.  ],\n       [0.  , 0.  , 0.  , 0.  ],\n       [0.  , 0.  , 0.  , 0.  ],\n       [0.27, 0.57, 0.53, 0.96],\n       [0.21, 0.05, 0.46, 0.48],\n       [0.  , 0.  , 0.  , 0.  ],\n       [0.  , 0.  , 0.  , 0.  ],\n       [0.  , 0.  , 0.  , 0.  ],\n       [0.  , 0.  , 0.  , 0.  ],\n       [0.39, 0.41, 0.56, 0.76],\n       [0.  , 0.  , 0.  , 0.  ],\n       [0.57, 0.42, 0.76, 0.76],\n       [0.  , 0.  , 0.  , 0.  ],\n       [0.59, 0.  , 0.78, 0.24],\n       [0.32, 0.17, 0.56, 0.6 ],\n       [0.  , 0.  , 0.  , 0.  ],\n       [0.  , 0.  , 0.  , 0.  ],\n       [0.  , 0.  , 0.  , 0.  ],\n       [0.  , 0.  , 0.  , 0.  ],\n       [0.  , 0.  , 0.  , 0.  ],\n       [0.  , 0.  , 0.  , 0.  ],\n       [0.  , 0.  , 0.  , 0.  ],\n       [0.  , 0.  , 0.  , 0.  ],\n       [0.  , 0.  , 0.  , 0.  ],\n       [0.  , 0.  , 0.  , 0.  ],\n       [0.  , 0.  , 0.  , 0.  ],\n       [0.  , 0.  , 0.  , 0.  ],\n       [0.  , 0.  , 0.  , 0.  ],\n       [0.36, 0.13, 0.66, 0.7 ],\n       [0.  , 0.  , 0.  , 0.  ],\n       [0.  , 0.  , 0.  , 0.  ],\n       [0.  , 0.  , 0.  , 0.  ],\n       [0.  , 0.  , 0.  , 0.  ],\n       [0.  , 0.  , 0.  , 0.  ],\n       [0.  , 0.  , 0.  , 0.  ],\n       [0.  , 0.  , 0.  , 0.  ],\n       [0.  , 0.  , 0.  , 0.  ],\n       [0.  , 0.  , 0.  , 0.  ],\n       [0.  , 0.  , 0.  , 0.  ],\n       [0.  , 0.  , 0.  , 0.  ],\n       [0.  , 0.  , 0.  , 0.  ],\n       [0.  , 0.  , 0.  , 0.  ],\n       [0.  , 0.  , 0.  , 0.  ],\n       [0.  , 0.  , 0.  , 0.  ],\n       [0.  , 0.  , 0.  , 0.  ],\n       [0.  , 0.  , 0.  , 0.  ],\n       [0.  , 0.  , 0.  , 0.  ],\n       [0.36, 0.52, 0.55, 0.84],\n       [0.  , 0.  , 0.  , 0.  ],\n       [0.31, 0.27, 0.61, 0.81],\n       [0.  , 0.  , 0.  , 0.  ],\n       [0.  , 0.  , 0.  , 0.  ],\n       [0.  , 0.  , 0.  , 0.  ],\n       [0.  , 0.  , 0.  , 0.  ],\n       [0.  , 0.  , 0.  , 0.  ],\n       [0.  , 0.  , 0.  , 0.  ],\n       [0.  , 0.  , 0.  , 0.  ],\n       [0.  , 0.  , 0.  , 0.  ],\n       [0.  , 0.  , 0.  , 0.  ],\n       [0.  , 0.  , 0.  , 0.  ],\n       [0.  , 0.  , 0.  , 0.  ]])}",
     "output_type": "error",
     "traceback": [
      "\u001b[0;31m---------------------------------------------------------------------------\u001b[0m",
      "\u001b[0;31mValueError\u001b[0m                                Traceback (most recent call last)",
      "\u001b[0;32m/var/folders/d1/8zqrhd957xsbfl7mhph4cq380000gn/T/ipykernel_11994/35305433.py\u001b[0m in \u001b[0;36m<module>\u001b[0;34m\u001b[0m\n\u001b[1;32m      1\u001b[0m \u001b[0;32mimport\u001b[0m \u001b[0msklearn\u001b[0m\u001b[0;34m\u001b[0m\u001b[0;34m\u001b[0m\u001b[0m\n\u001b[1;32m      2\u001b[0m \u001b[0;32mfrom\u001b[0m \u001b[0msklearn\u001b[0m \u001b[0;32mimport\u001b[0m \u001b[0mmetrics\u001b[0m\u001b[0;34m\u001b[0m\u001b[0;34m\u001b[0m\u001b[0m\n\u001b[0;32m----> 3\u001b[0;31m \u001b[0mprint\u001b[0m\u001b[0;34m(\u001b[0m\u001b[0;34m\"Accuracy:\"\u001b[0m\u001b[0;34m,\u001b[0m \u001b[0mmetrics\u001b[0m\u001b[0;34m.\u001b[0m\u001b[0maccuracy_score\u001b[0m\u001b[0;34m(\u001b[0m\u001b[0mtestTargets\u001b[0m\u001b[0;34m,\u001b[0m\u001b[0mpredictions\u001b[0m\u001b[0;34m)\u001b[0m\u001b[0;34m)\u001b[0m\u001b[0;34m\u001b[0m\u001b[0;34m\u001b[0m\u001b[0m\n\u001b[0m\u001b[1;32m      4\u001b[0m \u001b[0mprint\u001b[0m\u001b[0;34m(\u001b[0m\u001b[0;34m\"Precision:\"\u001b[0m\u001b[0;34m,\u001b[0m\u001b[0mmetrics\u001b[0m\u001b[0;34m.\u001b[0m\u001b[0mprecision_score\u001b[0m\u001b[0;34m(\u001b[0m\u001b[0mtestTargets\u001b[0m\u001b[0;34m,\u001b[0m\u001b[0mpredictions\u001b[0m\u001b[0;34m)\u001b[0m\u001b[0;34m)\u001b[0m\u001b[0;34m\u001b[0m\u001b[0;34m\u001b[0m\u001b[0m\n\u001b[1;32m      5\u001b[0m \u001b[0mprint\u001b[0m\u001b[0;34m(\u001b[0m\u001b[0;34m\"Recall:\"\u001b[0m\u001b[0;34m,\u001b[0m\u001b[0mmetrics\u001b[0m\u001b[0;34m.\u001b[0m\u001b[0mrecall_score\u001b[0m\u001b[0;34m(\u001b[0m\u001b[0mtestTargets\u001b[0m\u001b[0;34m,\u001b[0m\u001b[0mpredictions\u001b[0m\u001b[0;34m)\u001b[0m\u001b[0;34m)\u001b[0m\u001b[0;34m\u001b[0m\u001b[0;34m\u001b[0m\u001b[0m\n",
      "\u001b[0;32m/Library/Frameworks/Python.framework/Versions/3.9/lib/python3.9/site-packages/sklearn/metrics/_classification.py\u001b[0m in \u001b[0;36maccuracy_score\u001b[0;34m(y_true, y_pred, normalize, sample_weight)\u001b[0m\n\u001b[1;32m    203\u001b[0m \u001b[0;34m\u001b[0m\u001b[0m\n\u001b[1;32m    204\u001b[0m     \u001b[0;31m# Compute accuracy for each possible representation\u001b[0m\u001b[0;34m\u001b[0m\u001b[0;34m\u001b[0m\u001b[0;34m\u001b[0m\u001b[0m\n\u001b[0;32m--> 205\u001b[0;31m     \u001b[0my_type\u001b[0m\u001b[0;34m,\u001b[0m \u001b[0my_true\u001b[0m\u001b[0;34m,\u001b[0m \u001b[0my_pred\u001b[0m \u001b[0;34m=\u001b[0m \u001b[0m_check_targets\u001b[0m\u001b[0;34m(\u001b[0m\u001b[0my_true\u001b[0m\u001b[0;34m,\u001b[0m \u001b[0my_pred\u001b[0m\u001b[0;34m)\u001b[0m\u001b[0;34m\u001b[0m\u001b[0;34m\u001b[0m\u001b[0m\n\u001b[0m\u001b[1;32m    206\u001b[0m     \u001b[0mcheck_consistent_length\u001b[0m\u001b[0;34m(\u001b[0m\u001b[0my_true\u001b[0m\u001b[0;34m,\u001b[0m \u001b[0my_pred\u001b[0m\u001b[0;34m,\u001b[0m \u001b[0msample_weight\u001b[0m\u001b[0;34m)\u001b[0m\u001b[0;34m\u001b[0m\u001b[0;34m\u001b[0m\u001b[0m\n\u001b[1;32m    207\u001b[0m     \u001b[0;32mif\u001b[0m \u001b[0my_type\u001b[0m\u001b[0;34m.\u001b[0m\u001b[0mstartswith\u001b[0m\u001b[0;34m(\u001b[0m\u001b[0;34m\"multilabel\"\u001b[0m\u001b[0;34m)\u001b[0m\u001b[0;34m:\u001b[0m\u001b[0;34m\u001b[0m\u001b[0;34m\u001b[0m\u001b[0m\n",
      "\u001b[0;32m/Library/Frameworks/Python.framework/Versions/3.9/lib/python3.9/site-packages/sklearn/metrics/_classification.py\u001b[0m in \u001b[0;36m_check_targets\u001b[0;34m(y_true, y_pred)\u001b[0m\n\u001b[1;32m     83\u001b[0m     \"\"\"\n\u001b[1;32m     84\u001b[0m     \u001b[0mcheck_consistent_length\u001b[0m\u001b[0;34m(\u001b[0m\u001b[0my_true\u001b[0m\u001b[0;34m,\u001b[0m \u001b[0my_pred\u001b[0m\u001b[0;34m)\u001b[0m\u001b[0;34m\u001b[0m\u001b[0;34m\u001b[0m\u001b[0m\n\u001b[0;32m---> 85\u001b[0;31m     \u001b[0mtype_true\u001b[0m \u001b[0;34m=\u001b[0m \u001b[0mtype_of_target\u001b[0m\u001b[0;34m(\u001b[0m\u001b[0my_true\u001b[0m\u001b[0;34m)\u001b[0m\u001b[0;34m\u001b[0m\u001b[0;34m\u001b[0m\u001b[0m\n\u001b[0m\u001b[1;32m     86\u001b[0m     \u001b[0mtype_pred\u001b[0m \u001b[0;34m=\u001b[0m \u001b[0mtype_of_target\u001b[0m\u001b[0;34m(\u001b[0m\u001b[0my_pred\u001b[0m\u001b[0;34m)\u001b[0m\u001b[0;34m\u001b[0m\u001b[0;34m\u001b[0m\u001b[0m\n\u001b[1;32m     87\u001b[0m \u001b[0;34m\u001b[0m\u001b[0m\n",
      "\u001b[0;32m/Library/Frameworks/Python.framework/Versions/3.9/lib/python3.9/site-packages/sklearn/utils/multiclass.py\u001b[0m in \u001b[0;36mtype_of_target\u001b[0;34m(y)\u001b[0m\n\u001b[1;32m    269\u001b[0m \u001b[0;34m\u001b[0m\u001b[0m\n\u001b[1;32m    270\u001b[0m     \u001b[0;32mif\u001b[0m \u001b[0;32mnot\u001b[0m \u001b[0mvalid\u001b[0m\u001b[0;34m:\u001b[0m\u001b[0;34m\u001b[0m\u001b[0;34m\u001b[0m\u001b[0m\n\u001b[0;32m--> 271\u001b[0;31m         raise ValueError(\n\u001b[0m\u001b[1;32m    272\u001b[0m             \u001b[0;34m\"Expected array-like (array or non-string sequence), got %r\"\u001b[0m \u001b[0;34m%\u001b[0m \u001b[0my\u001b[0m\u001b[0;34m\u001b[0m\u001b[0;34m\u001b[0m\u001b[0m\n\u001b[1;32m    273\u001b[0m         )\n",
      "\u001b[0;31mValueError\u001b[0m: Expected array-like (array or non-string sequence), got {'cl_head': array([0, 1, 1, 1, 0, 1, 1, 1, 1, 1, 1, 1, 0, 1, 1, 1, 1, 1, 0, 1, 1, 0,\n       0, 0, 0, 1, 1, 0, 1, 0, 0, 0, 1, 1, 0, 1, 1, 1, 1, 1, 1, 1, 0, 0,\n       1, 1, 1, 1, 0, 1, 0, 1, 0, 0, 1, 1, 1, 1, 1, 1, 1, 1, 1, 1, 1, 1,\n       1, 0, 1, 1, 1, 1, 1, 1, 1, 1, 1, 1, 1, 1, 1, 1, 1, 1, 1, 1, 0, 1,\n       0, 1, 1, 1, 1, 1, 1, 1, 1, 1, 1, 1]), 'bb_head': array([[0.37, 0.4 , 0.55, 0.63],\n       [0.  , 0.  , 0.  , 0.  ],\n       [0.  , 0.  , 0.  , 0.  ],\n       [0.  , 0.  , 0.  , 0.  ],\n       [0.43, 0.53, 0.61, 0.9 ],\n       [0.  , 0.  , 0.  , 0.  ],\n       [0.  , 0.  , 0.  , 0.  ],\n       [0.  , 0.  , 0.  , 0.  ],\n       [0.  , 0.  , 0.  , 0.  ],\n       [0.  , 0.  , 0.  , 0.  ],\n       [0.  , 0.  , 0.  , 0.  ],\n       [0.  , 0.  , 0.  , 0.  ],\n       [0.27, 0.24, 0.52, 0.66],\n       [0.  , 0.  , 0.  , 0.  ],\n       [0.  , 0.  , 0.  , 0.  ],\n       [0.  , 0.  , 0.  , 0.  ],\n       [0.  , 0.  , 0.  , 0.  ],\n       [0.  , 0.  , 0.  , 0.  ],\n       [0.48, 0.2 , 0.67, 0.56],\n       [0.  , 0.  , 0.  , 0.  ],\n       [0.  , 0.  , 0.  , 0.  ],\n       [0.4 , 0.56, 0.68, 0.92],\n       [0.33, 0.7 , 0.57, 1.  ],\n       [0.25, 0.7 , 0.49, 1.  ],\n       [0.43, 0.15, 0.69, 0.6 ],\n       [0.  , 0.  , 0.  , 0.  ],\n       [0.  , 0.  , 0.  , 0.  ],\n       [0.47, 0.38, 0.73, 0.84],\n       [0.  , 0.  , 0.  , 0.  ],\n       [0.36, 0.05, 0.82, 0.8 ],\n       [0.32, 0.3 , 0.59, 0.76],\n       [0.29, 0.  , 0.56, 0.2 ],\n       [0.  , 0.  , 0.  , 0.  ],\n       [0.  , 0.  , 0.  , 0.  ],\n       [0.34, 0.12, 0.64, 0.69],\n       [0.  , 0.  , 0.  , 0.  ],\n       [0.  , 0.  , 0.  , 0.  ],\n       [0.  , 0.  , 0.  , 0.  ],\n       [0.  , 0.  , 0.  , 0.  ],\n       [0.  , 0.  , 0.  , 0.  ],\n       [0.  , 0.  , 0.  , 0.  ],\n       [0.  , 0.  , 0.  , 0.  ],\n       [0.27, 0.57, 0.53, 0.96],\n       [0.21, 0.05, 0.46, 0.48],\n       [0.  , 0.  , 0.  , 0.  ],\n       [0.  , 0.  , 0.  , 0.  ],\n       [0.  , 0.  , 0.  , 0.  ],\n       [0.  , 0.  , 0.  , 0.  ],\n       [0.39, 0.41, 0.56, 0.76],\n       [0.  , 0.  , 0.  , 0.  ],\n       [0.57, 0.42, 0.76, 0.76],\n       [0.  , 0.  , 0.  , 0.  ],\n       [0.59, 0.  , 0.78, 0.24],\n       [0.32, 0.17, 0.56, 0.6 ],\n       [0.  , 0.  , 0.  , 0.  ],\n       [0.  , 0.  , 0.  , 0.  ],\n       [0.  , 0.  , 0.  , 0.  ],\n       [0.  , 0.  , 0.  , 0.  ],\n       [0.  , 0.  , 0.  , 0.  ],\n       [0.  , 0.  , 0.  , 0.  ],\n       [0.  , 0.  , 0.  , 0.  ],\n       [0.  , 0.  , 0.  , 0.  ],\n       [0.  , 0.  , 0.  , 0.  ],\n       [0.  , 0.  , 0.  , 0.  ],\n       [0.  , 0.  , 0.  , 0.  ],\n       [0.  , 0.  , 0.  , 0.  ],\n       [0.  , 0.  , 0.  , 0.  ],\n       [0.36, 0.13, 0.66, 0.7 ],\n       [0.  , 0.  , 0.  , 0.  ],\n       [0.  , 0.  , 0.  , 0.  ],\n       [0.  , 0.  , 0.  , 0.  ],\n       [0.  , 0.  , 0.  , 0.  ],\n       [0.  , 0.  , 0.  , 0.  ],\n       [0.  , 0.  , 0.  , 0.  ],\n       [0.  , 0.  , 0.  , 0.  ],\n       [0.  , 0.  , 0.  , 0.  ],\n       [0.  , 0.  , 0.  , 0.  ],\n       [0.  , 0.  , 0.  , 0.  ],\n       [0.  , 0.  , 0.  , 0.  ],\n       [0.  , 0.  , 0.  , 0.  ],\n       [0.  , 0.  , 0.  , 0.  ],\n       [0.  , 0.  , 0.  , 0.  ],\n       [0.  , 0.  , 0.  , 0.  ],\n       [0.  , 0.  , 0.  , 0.  ],\n       [0.  , 0.  , 0.  , 0.  ],\n       [0.  , 0.  , 0.  , 0.  ],\n       [0.36, 0.52, 0.55, 0.84],\n       [0.  , 0.  , 0.  , 0.  ],\n       [0.31, 0.27, 0.61, 0.81],\n       [0.  , 0.  , 0.  , 0.  ],\n       [0.  , 0.  , 0.  , 0.  ],\n       [0.  , 0.  , 0.  , 0.  ],\n       [0.  , 0.  , 0.  , 0.  ],\n       [0.  , 0.  , 0.  , 0.  ],\n       [0.  , 0.  , 0.  , 0.  ],\n       [0.  , 0.  , 0.  , 0.  ],\n       [0.  , 0.  , 0.  , 0.  ],\n       [0.  , 0.  , 0.  , 0.  ],\n       [0.  , 0.  , 0.  , 0.  ],\n       [0.  , 0.  , 0.  , 0.  ]])}"
     ]
    }
   ],
   "source": [
    "import sklearn\n",
    "from sklearn import metrics\n",
    "print(\"Accuracy:\", metrics.accuracy_score(testTargets,predictions))\n",
    "print(\"Precision:\",metrics.precision_score(testTargets,predictions))\n",
    "print(\"Recall:\",metrics.recall_score(testTargets,predictions))\n",
    "\n",
    "from sklearn.metrics import confusion_matrix\n",
    "cnf_matrix = confusion_matrix(testTargets, predictions)\n",
    "cnf_matrix\n",
    "\n",
    "\n"
   ]
  },
  {
   "cell_type": "code",
   "execution_count": null,
   "id": "1f420d0b",
   "metadata": {},
   "outputs": [],
   "source": [
    "import seaborn as sns\n",
    "class_names=['Transformer','No Transformer']\n",
    "fig, ax = plt.subplots()\n",
    "\n",
    "sns.heatmap(pd.DataFrame(cnf_matrix),annot=True,cmap=\"icefire\",fmt='g')\n",
    "ax.xaxis.set_label_position(\"top\")\n",
    "plt.tight_layout()\n",
    "plt.title('Confusion matrix', y=1.1)\n",
    "tick_marks = np.arange(len(class_names))\n",
    "plt.xticks(tick_marks,class_names)\n",
    "plt.yticks(tick_marks,class_names)\n",
    "plt.ylabel('Actual label')\n",
    "plt.xlabel('Predicted label')"
   ]
  },
  {
   "cell_type": "code",
   "execution_count": null,
   "id": "6cb9553a",
   "metadata": {},
   "outputs": [],
   "source": [
    "matrix = metrics.confusion_matrix(testTargets.argmax(axis=1), predictions.argmax(axis=1))"
   ]
  },
  {
   "cell_type": "code",
   "execution_count": 86,
   "id": "a6950173",
   "metadata": {},
   "outputs": [
    {
     "name": "stdout",
     "output_type": "stream",
     "text": [
      "None\n",
      "<class 'keras.metrics.Precision'>\n",
      "<class 'keras.metrics.Recall'>\n"
     ]
    }
   ],
   "source": [
    "from keras.metrics import Precision, Recall\n",
    "\n",
    "model.compile(loss='binary_crossentropy', metrics=['accuracy', Precision(), Recall()])\n",
    "\n",
    "print(Precision)\n",
    "print(Recall)"
   ]
  },
  {
   "cell_type": "code",
   "execution_count": 89,
   "id": "a0df3245",
   "metadata": {},
   "outputs": [
    {
     "name": "stdout",
     "output_type": "stream",
     "text": [
      "Precision(name=precision_5,dtype=float32,thresholds=None,top_k=None,class_id=None)\n"
     ]
    }
   ],
   "source": [
    "m =  tf.keras.metrics.Precision()\n",
    "m.model\n",
    "print(m)"
   ]
  }
 ],
 "metadata": {
  "interpreter": {
   "hash": "dca0ade3e726a953b501b15e8e990130d2b7799f14cfd9f4271676035ebe5511"
  },
  "kernelspec": {
   "display_name": "Python 3.8.8 64-bit ('base': conda)",
   "name": "python3"
  },
  "language_info": {
   "codemirror_mode": {
    "name": "ipython",
    "version": 3
   },
   "file_extension": ".py",
   "mimetype": "text/x-python",
   "name": "python",
   "nbconvert_exporter": "python",
   "pygments_lexer": "ipython3",
   "version": "3.9.6"
  }
 },
 "nbformat": 4,
 "nbformat_minor": 5
}
