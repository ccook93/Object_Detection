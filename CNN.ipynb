{
 "cells": [
  {
   "cell_type": "markdown",
   "metadata": {},
   "source": [
    "# Convolution Neural Network\n",
    "\n",
    "1. Train\n",
    "2. Evaluate\n",
    "3. Visualize Accuracy & Lost\n",
    "4. Re-evaluate Model\n",
    "5. Make Predictions on the Test Set\n",
    "6. Visualize classification report\n"
   ]
  },
  {
   "cell_type": "code",
   "execution_count": 93,
   "metadata": {},
   "outputs": [],
   "source": [
    "## Import Libraries\n",
    "import matplotlib.pyplot as plt\n",
    "import numpy as np\n",
    "import os\n",
    "import PIL\n",
    "import tensorflow as tf\n",
    "from tensorflow import keras\n",
    "from tensorflow.keras import layers\n",
    "from tensorflow.keras.models import Sequential\n",
    "import pathlib\n",
    "import pandas as pd\n",
    "from PIL import Image \n",
    "from PIL.ImageDraw import Draw"
   ]
  },
  {
   "cell_type": "code",
   "execution_count": 94,
   "id": "34b12b7a",
   "metadata": {},
   "outputs": [],
   "source": [
    "# Define Classes\n",
    "classes = ['Transformer','No-Transformer']"
   ]
  },
  {
   "cell_type": "code",
   "execution_count": 96,
   "metadata": {},
   "outputs": [],
   "source": [
    "# Read in Training Data and specify image directory location in system\n",
    "TRAINING_CSV_FILE = 'Data/training_data2.csv'\n",
    "TRAINING_IMAGE_DIR = 'Images/Training'\n",
    "\n",
    "training_image_records = pd.read_csv(TRAINING_CSV_FILE)\n",
    "\n",
    "train_image_path = TRAINING_IMAGE_DIR\n",
    "\n",
    "# Initiate variables / arrays\n",
    "train_images = []\n",
    "train_targets = []\n",
    "train_labels = []\n",
    "\n",
    "# Iterrate through rows in the csv file\n",
    "for index, row in training_image_records.iterrows():\n",
    "    \n",
    "    # Define a row to include the following headers from the csv\n",
    "    (filename, width, height, class_name, xmin, ymin, xmax, ymax) = row\n",
    "    # Specify training image path (Create string) - joining the filename in csv and the path\n",
    "    train_image_fullpath = os.path.join(train_image_path, filename)\n",
    "    # Load the image\n",
    "    train_img = keras.preprocessing.image.load_img(train_image_fullpath, target_size=(height, width))\n",
    "    # Create an array of the image\n",
    "    train_img_arr = keras.preprocessing.image.img_to_array(train_img)\n",
    "    \n",
    "    # Define xmin, ymin, xmax, and ymax\n",
    "    xmin = round(xmin/ width, 2)\n",
    "    ymin = round(ymin/ height, 2)\n",
    "    xmax = round(xmax/ width, 2)\n",
    "    ymax = round(ymax/ height, 2)\n",
    "    \n",
    "    # Append this information in their respective arrays initiated for the 'For' loop\n",
    "    train_images.append(train_img_arr)\n",
    "    train_targets.append((xmin, ymin, xmax, ymax))\n",
    "    train_labels.append(classes.index(class_name))"
   ]
  },
  {
   "cell_type": "code",
   "execution_count": 97,
   "metadata": {},
   "outputs": [],
   "source": [
    "# Repeat process as described above but with TEST CSV and images\n",
    "TEST_CSV_FILE = 'Data/test_data2.csv'\n",
    "TEST_IMAGE_DIR = 'Images/Test'\n",
    "\n",
    "test_image_records = pd.read_csv(TEST_CSV_FILE)\n",
    "\n",
    "test_image_path = TEST_IMAGE_DIR\n",
    "\n",
    "test_images = []\n",
    "test_targets = []\n",
    "test_labels = []\n",
    "\n",
    "for index, row in test_image_records.iterrows():\n",
    "\n",
    "    (filename, width, height, class_name, xmin, ymin, xmax, ymax) = row\n",
    "\n",
    "    test_image_fullpath = os.path.join(test_image_path, filename)\n",
    "    test_img = keras.preprocessing.image.load_img(test_image_fullpath, target_size=(height, width))\n",
    "    test_img_arr = keras.preprocessing.image.img_to_array(test_img)\n",
    "\n",
    "\n",
    "    xmin = round(xmin/ width, 2)\n",
    "    ymin = round(ymin/ height, 2)\n",
    "    xmax = round(xmax/ width, 2)\n",
    "    ymax = round(ymax/ height, 2)\n",
    "\n",
    "    test_images.append(test_img_arr)\n",
    "    test_targets.append((xmin, ymin, xmax, ymax))\n",
    "    test_labels.append(classes.index(class_name))"
   ]
  },
  {
   "cell_type": "code",
   "execution_count": 98,
   "metadata": {},
   "outputs": [],
   "source": [
    "# Redefine appended arraya to np.arrays\n",
    "train_images = np.array(train_images)\n",
    "train_targets = np.array(train_targets)\n",
    "train_labels = np.array(train_labels)\n",
    "\n",
    "test_images = np.array(test_images)\n",
    "test_targets = np.array(test_targets)\n",
    "test_labels = np.array(test_labels)"
   ]
  },
  {
   "cell_type": "code",
   "execution_count": 99,
   "metadata": {},
   "outputs": [],
   "source": [
    "# Specifying width and height of images & number of classes in this classification\n",
    "width = 518\n",
    "height = 388\n",
    "num_classes = 2\n"
   ]
  },
  {
   "cell_type": "code",
   "execution_count": 100,
   "id": "e8dd9f79",
   "metadata": {},
   "outputs": [],
   "source": [
    "# Specified convolution layers\n",
    "#create the common input layer\n",
    "input_shape = (height, width, 3)\n",
    "input_layer = tf.keras.layers.Input(input_shape)\n",
    "\n",
    "#create the base layers\n",
    "base_layers = layers.experimental.preprocessing.Rescaling(1./255, name='bl_1')(input_layer)\n",
    "base_layers = layers.Conv2D(16, 3, padding='same', activation='relu', name='bl_2')(base_layers)\n",
    "base_layers = layers.MaxPooling2D(name='bl_3')(base_layers)\n",
    "base_layers = layers.Conv2D(32, 3, padding='same', activation='relu', name='bl_4')(base_layers)\n",
    "base_layers = layers.MaxPooling2D(name='bl_5')(base_layers)\n",
    "base_layers = layers.Conv2D(64, 3, padding='same', activation='relu', name='bl_6')(base_layers)\n",
    "base_layers = layers.MaxPooling2D(name='bl_7')(base_layers)\n",
    "base_layers = layers.Flatten(name='bl_8')(base_layers)"
   ]
  },
  {
   "cell_type": "code",
   "execution_count": 101,
   "id": "894e4871",
   "metadata": {},
   "outputs": [],
   "source": [
    "#create the classifier branch\n",
    "classifier_branch = layers.Dense(128, activation='relu', name='cl_1')(base_layers)\n",
    "classifier_branch = layers.Dense(num_classes, name='cl_head')(classifier_branch)  "
   ]
  },
  {
   "cell_type": "code",
   "execution_count": 102,
   "id": "c20f3cfd",
   "metadata": {},
   "outputs": [],
   "source": [
    "locator_branch = layers.Dense(128, activation='relu', name='bb_1')(base_layers)\n",
    "locator_branch = layers.Dense(64, activation='relu', name='bb_2')(locator_branch)\n",
    "locator_branch = layers.Dense(32, activation='relu', name='bb_3')(locator_branch)\n",
    "locator_branch = layers.Dense(4, activation='sigmoid', name='bb_head')(locator_branch)"
   ]
  },
  {
   "cell_type": "code",
   "execution_count": 103,
   "id": "097a5b14",
   "metadata": {},
   "outputs": [],
   "source": [
    "model = tf.keras.Model(input_layer,\n",
    "           outputs=[classifier_branch,locator_branch])"
   ]
  },
  {
   "cell_type": "code",
   "execution_count": 104,
   "id": "481566e8",
   "metadata": {},
   "outputs": [],
   "source": [
    "losses = {\"cl_head\":tf.keras.losses.SparseCategoricalCrossentropy(from_logits=True), \n",
    "   \"bb_head\":tf.keras.losses.MSE}"
   ]
  },
  {
   "cell_type": "code",
   "execution_count": 105,
   "id": "2135a8d5",
   "metadata": {},
   "outputs": [],
   "source": [
    "model.compile(loss=losses, optimizer='Adam', metrics=['accuracy',Precision(),Recall()])"
   ]
  },
  {
   "cell_type": "code",
   "execution_count": 106,
   "id": "021b0b52",
   "metadata": {},
   "outputs": [],
   "source": [
    "trainTargets = {\n",
    "    \"cl_head\": train_labels,\n",
    "    \"bb_head\": train_targets\n",
    "}\n",
    "testTargets = {\n",
    "    \"cl_head\": test_labels,\n",
    "    \"bb_head\": test_targets\n",
    "}"
   ]
  },
  {
   "cell_type": "code",
   "execution_count": 107,
   "id": "69ce1897",
   "metadata": {},
   "outputs": [
    {
     "name": "stdout",
     "output_type": "stream",
     "text": [
      "Epoch 1/5\n"
     ]
    },
    {
     "ename": "ValueError",
     "evalue": "in user code:\n\n    File \"/Library/Frameworks/Python.framework/Versions/3.9/lib/python3.9/site-packages/keras/engine/training.py\", line 878, in train_function  *\n        return step_function(self, iterator)\n    File \"/Library/Frameworks/Python.framework/Versions/3.9/lib/python3.9/site-packages/keras/engine/training.py\", line 867, in step_function  **\n        outputs = model.distribute_strategy.run(run_step, args=(data,))\n    File \"/Library/Frameworks/Python.framework/Versions/3.9/lib/python3.9/site-packages/keras/engine/training.py\", line 860, in run_step  **\n        outputs = model.train_step(data)\n    File \"/Library/Frameworks/Python.framework/Versions/3.9/lib/python3.9/site-packages/keras/engine/training.py\", line 817, in train_step\n        self.compiled_metrics.update_state(y, y_pred, sample_weight)\n    File \"/Library/Frameworks/Python.framework/Versions/3.9/lib/python3.9/site-packages/keras/engine/compile_utils.py\", line 460, in update_state\n        metric_obj.update_state(y_t, y_p, sample_weight=mask)\n    File \"/Library/Frameworks/Python.framework/Versions/3.9/lib/python3.9/site-packages/keras/utils/metrics_utils.py\", line 73, in decorated\n        update_op = update_state_fn(*args, **kwargs)\n    File \"/Library/Frameworks/Python.framework/Versions/3.9/lib/python3.9/site-packages/keras/metrics.py\", line 177, in update_state_fn\n        return ag_update_state(*args, **kwargs)\n    File \"/Library/Frameworks/Python.framework/Versions/3.9/lib/python3.9/site-packages/keras/metrics.py\", line 1399, in update_state  **\n        return metrics_utils.update_confusion_matrix_variables(\n    File \"/Library/Frameworks/Python.framework/Versions/3.9/lib/python3.9/site-packages/keras/utils/metrics_utils.py\", line 625, in update_confusion_matrix_variables\n        y_pred.shape.assert_is_compatible_with(y_true.shape)\n\n    ValueError: Shapes (None, 2) and (None, 1) are incompatible\n",
     "output_type": "error",
     "traceback": [
      "\u001b[0;31m---------------------------------------------------------------------------\u001b[0m",
      "\u001b[0;31mValueError\u001b[0m                                Traceback (most recent call last)",
      "\u001b[0;32m/var/folders/d1/8zqrhd957xsbfl7mhph4cq380000gn/T/ipykernel_11994/573192647.py\u001b[0m in \u001b[0;36m<module>\u001b[0;34m\u001b[0m\n\u001b[1;32m      1\u001b[0m \u001b[0mtraining_epochs\u001b[0m \u001b[0;34m=\u001b[0m \u001b[0;36m5\u001b[0m\u001b[0;34m\u001b[0m\u001b[0;34m\u001b[0m\u001b[0m\n\u001b[1;32m      2\u001b[0m \u001b[0;34m\u001b[0m\u001b[0m\n\u001b[0;32m----> 3\u001b[0;31m history = model.fit(train_images, trainTargets,\n\u001b[0m\u001b[1;32m      4\u001b[0m             \u001b[0mvalidation_data\u001b[0m\u001b[0;34m=\u001b[0m\u001b[0;34m(\u001b[0m\u001b[0mtest_images\u001b[0m\u001b[0;34m,\u001b[0m \u001b[0mtestTargets\u001b[0m\u001b[0;34m)\u001b[0m\u001b[0;34m,\u001b[0m\u001b[0;34m\u001b[0m\u001b[0;34m\u001b[0m\u001b[0m\n\u001b[1;32m      5\u001b[0m              \u001b[0mbatch_size\u001b[0m\u001b[0;34m=\u001b[0m\u001b[0;36m32\u001b[0m\u001b[0;34m,\u001b[0m\u001b[0;34m\u001b[0m\u001b[0;34m\u001b[0m\u001b[0m\n",
      "\u001b[0;32m/Library/Frameworks/Python.framework/Versions/3.9/lib/python3.9/site-packages/keras/utils/traceback_utils.py\u001b[0m in \u001b[0;36merror_handler\u001b[0;34m(*args, **kwargs)\u001b[0m\n\u001b[1;32m     65\u001b[0m     \u001b[0;32mexcept\u001b[0m \u001b[0mException\u001b[0m \u001b[0;32mas\u001b[0m \u001b[0me\u001b[0m\u001b[0;34m:\u001b[0m  \u001b[0;31m# pylint: disable=broad-except\u001b[0m\u001b[0;34m\u001b[0m\u001b[0;34m\u001b[0m\u001b[0m\n\u001b[1;32m     66\u001b[0m       \u001b[0mfiltered_tb\u001b[0m \u001b[0;34m=\u001b[0m \u001b[0m_process_traceback_frames\u001b[0m\u001b[0;34m(\u001b[0m\u001b[0me\u001b[0m\u001b[0;34m.\u001b[0m\u001b[0m__traceback__\u001b[0m\u001b[0;34m)\u001b[0m\u001b[0;34m\u001b[0m\u001b[0;34m\u001b[0m\u001b[0m\n\u001b[0;32m---> 67\u001b[0;31m       \u001b[0;32mraise\u001b[0m \u001b[0me\u001b[0m\u001b[0;34m.\u001b[0m\u001b[0mwith_traceback\u001b[0m\u001b[0;34m(\u001b[0m\u001b[0mfiltered_tb\u001b[0m\u001b[0;34m)\u001b[0m \u001b[0;32mfrom\u001b[0m \u001b[0;32mNone\u001b[0m\u001b[0;34m\u001b[0m\u001b[0;34m\u001b[0m\u001b[0m\n\u001b[0m\u001b[1;32m     68\u001b[0m     \u001b[0;32mfinally\u001b[0m\u001b[0;34m:\u001b[0m\u001b[0;34m\u001b[0m\u001b[0;34m\u001b[0m\u001b[0m\n\u001b[1;32m     69\u001b[0m       \u001b[0;32mdel\u001b[0m \u001b[0mfiltered_tb\u001b[0m\u001b[0;34m\u001b[0m\u001b[0;34m\u001b[0m\u001b[0m\n",
      "\u001b[0;32m/Library/Frameworks/Python.framework/Versions/3.9/lib/python3.9/site-packages/tensorflow/python/framework/func_graph.py\u001b[0m in \u001b[0;36mautograph_handler\u001b[0;34m(*args, **kwargs)\u001b[0m\n\u001b[1;32m   1127\u001b[0m           \u001b[0;32mexcept\u001b[0m \u001b[0mException\u001b[0m \u001b[0;32mas\u001b[0m \u001b[0me\u001b[0m\u001b[0;34m:\u001b[0m  \u001b[0;31m# pylint:disable=broad-except\u001b[0m\u001b[0;34m\u001b[0m\u001b[0;34m\u001b[0m\u001b[0m\n\u001b[1;32m   1128\u001b[0m             \u001b[0;32mif\u001b[0m \u001b[0mhasattr\u001b[0m\u001b[0;34m(\u001b[0m\u001b[0me\u001b[0m\u001b[0;34m,\u001b[0m \u001b[0;34m\"ag_error_metadata\"\u001b[0m\u001b[0;34m)\u001b[0m\u001b[0;34m:\u001b[0m\u001b[0;34m\u001b[0m\u001b[0;34m\u001b[0m\u001b[0m\n\u001b[0;32m-> 1129\u001b[0;31m               \u001b[0;32mraise\u001b[0m \u001b[0me\u001b[0m\u001b[0;34m.\u001b[0m\u001b[0mag_error_metadata\u001b[0m\u001b[0;34m.\u001b[0m\u001b[0mto_exception\u001b[0m\u001b[0;34m(\u001b[0m\u001b[0me\u001b[0m\u001b[0;34m)\u001b[0m\u001b[0;34m\u001b[0m\u001b[0;34m\u001b[0m\u001b[0m\n\u001b[0m\u001b[1;32m   1130\u001b[0m             \u001b[0;32melse\u001b[0m\u001b[0;34m:\u001b[0m\u001b[0;34m\u001b[0m\u001b[0;34m\u001b[0m\u001b[0m\n\u001b[1;32m   1131\u001b[0m               \u001b[0;32mraise\u001b[0m\u001b[0;34m\u001b[0m\u001b[0;34m\u001b[0m\u001b[0m\n",
      "\u001b[0;31mValueError\u001b[0m: in user code:\n\n    File \"/Library/Frameworks/Python.framework/Versions/3.9/lib/python3.9/site-packages/keras/engine/training.py\", line 878, in train_function  *\n        return step_function(self, iterator)\n    File \"/Library/Frameworks/Python.framework/Versions/3.9/lib/python3.9/site-packages/keras/engine/training.py\", line 867, in step_function  **\n        outputs = model.distribute_strategy.run(run_step, args=(data,))\n    File \"/Library/Frameworks/Python.framework/Versions/3.9/lib/python3.9/site-packages/keras/engine/training.py\", line 860, in run_step  **\n        outputs = model.train_step(data)\n    File \"/Library/Frameworks/Python.framework/Versions/3.9/lib/python3.9/site-packages/keras/engine/training.py\", line 817, in train_step\n        self.compiled_metrics.update_state(y, y_pred, sample_weight)\n    File \"/Library/Frameworks/Python.framework/Versions/3.9/lib/python3.9/site-packages/keras/engine/compile_utils.py\", line 460, in update_state\n        metric_obj.update_state(y_t, y_p, sample_weight=mask)\n    File \"/Library/Frameworks/Python.framework/Versions/3.9/lib/python3.9/site-packages/keras/utils/metrics_utils.py\", line 73, in decorated\n        update_op = update_state_fn(*args, **kwargs)\n    File \"/Library/Frameworks/Python.framework/Versions/3.9/lib/python3.9/site-packages/keras/metrics.py\", line 177, in update_state_fn\n        return ag_update_state(*args, **kwargs)\n    File \"/Library/Frameworks/Python.framework/Versions/3.9/lib/python3.9/site-packages/keras/metrics.py\", line 1399, in update_state  **\n        return metrics_utils.update_confusion_matrix_variables(\n    File \"/Library/Frameworks/Python.framework/Versions/3.9/lib/python3.9/site-packages/keras/utils/metrics_utils.py\", line 625, in update_confusion_matrix_variables\n        y_pred.shape.assert_is_compatible_with(y_true.shape)\n\n    ValueError: Shapes (None, 2) and (None, 1) are incompatible\n"
     ]
    }
   ],
   "source": [
    "training_epochs = 5\n",
    "\n",
    "history = model.fit(train_images, trainTargets,\n",
    "            validation_data=(test_images, testTargets),\n",
    "             batch_size=32,\n",
    "             epochs=training_epochs,\n",
    "             shuffle=True,\n",
    "             verbose=1)"
   ]
  },
  {
   "cell_type": "code",
   "execution_count": 64,
   "id": "a12efe56",
   "metadata": {},
   "outputs": [
    {
     "name": "stdout",
     "output_type": "stream",
     "text": [
      "25/25 [==============================] - 13s 504ms/step - loss: 0.2393 - cl_head_loss: 0.2061 - bb_head_loss: 0.0332 - cl_head_accuracy: 0.9300 - bb_head_accuracy: 0.2100\n"
     ]
    }
   ],
   "source": [
    "score = model.fit(test_images, testTargets,batch_size=4)"
   ]
  },
  {
   "cell_type": "code",
   "execution_count": 68,
   "id": "dfea212b",
   "metadata": {},
   "outputs": [
    {
     "data": {
      "image/png": "[encoded data removed]",
      "text/plain": [
       "<Figure size 432x288 with 1 Axes>"
      ]
     },
     "metadata": {
      "needs_background": "light"
     },
     "output_type": "display_data"
    },
    {
     "data": {
      "text/plain": [
       "<matplotlib.legend.Legend at 0x7fe1c6c44700>"
      ]
     },
     "execution_count": 68,
     "metadata": {},
     "output_type": "execute_result"
    },
    {
     "data": {
      "image/png": "[encoded data removed]",
      "text/plain": [
       "<Figure size 432x288 with 1 Axes>"
      ]
     },
     "metadata": {
      "needs_background": "light"
     },
     "output_type": "display_data"
    },
    {
     "data": {
      "image/png": "[encoded data removed]",
      "text/plain": [
       "<Figure size 432x288 with 1 Axes>"
      ]
     },
     "metadata": {
      "needs_background": "light"
     },
     "output_type": "display_data"
    },
    {
     "data": {
      "image/png": "[encoded data removed]",
      "text/plain": [
       "<Figure size 432x288 with 1 Axes>"
      ]
     },
     "metadata": {
      "needs_background": "light"
     },
     "output_type": "display_data"
    },
    {
     "data": {
      "image/png": "[encoded data removed]",
      "text/plain": [
       "<Figure size 432x288 with 1 Axes>"
      ]
     },
     "metadata": {
      "needs_background": "light"
     },
     "output_type": "display_data"
    }
   ],
   "source": [
    "loss_values = history.history['loss']\n",
    "epochs = range(1, len(loss_values)+1)\n",
    "\n",
    "plt.plot(epochs, loss_values, label='training Loss')\n",
    "plt.plot(epochs, history.history['val_loss'], label='test Loss')\n",
    "plt.xlabel('Epochs')\n",
    "plt.ylabel('Loss')\n",
    "plt.legend()\n",
    "\n",
    "plt.show()\n",
    "\n",
    "plt.figure()\n",
    "plt.plot(epochs,history.history['cl_head_loss'], label='train')\n",
    "plt.plot(epochs,history.history['val_cl_head_loss'], label='test')\n",
    "plt.title('Classification - Loss')\n",
    "plt.ylabel('Loss')\n",
    "plt.xlabel('# Epoch')\n",
    "plt.legend()\n",
    "\n",
    "\n",
    "plt.figure()\n",
    "plt.plot(epochs,history.history['bb_head_loss'],label='train')\n",
    "plt.plot(epochs,history.history['val_bb_head_loss'],label='test')\n",
    "plt.title('Bounding Box - Loss')\n",
    "plt.ylabel('Loss')\n",
    "plt.xlabel('# Epoch')\n",
    "plt.legend()\n",
    "\n",
    "\n",
    "plt.figure()\n",
    "plt.plot(epochs,history.history['bb_head_accuracy'], label='train')\n",
    "plt.plot(epochs,history.history['val_bb_head_accuracy'], label='test')\n",
    "plt.title('Bounding Box - Accuracy')\n",
    "plt.ylabel('Accuracy')\n",
    "plt.xlabel('# Epoch')\n",
    "plt.legend()\n",
    "\n",
    "plt.figure()\n",
    "plt.plot(epochs,history.history['cl_head_accuracy'], label='train')\n",
    "plt.plot(epochs,history.history['val_cl_head_accuracy'], label='test')\n",
    "plt.title('Classification branch - Accuracy')\n",
    "plt.ylabel('Accuracy')\n",
    "plt.xlabel('epoch')\n",
    "plt.legend()\n",
    "\n"
   ]
  },
  {
   "cell_type": "code",
   "execution_count": 34,
   "id": "382579f1",
   "metadata": {},
   "outputs": [
    {
     "name": "stdout",
     "output_type": "stream",
     "text": [
      "{'loss': [0.21497078239917755, 0.07835038751363754, 0.033377062529325485, 0.017645766958594322, 0.00885105226188898, 0.005853312090039253, 0.003557657590135932, 0.0024085547775030136, 0.002038089092820883, 0.0016067364485934377], 'cl_head_loss': [0.18797485530376434, 0.06629958003759384, 0.026409849524497986, 0.013279641978442669, 0.006136608310043812, 0.00391351105645299, 0.002243471797555685, 0.0014933289494365454, 0.001037372974678874, 0.0007013005088083446], 'bb_head_loss': [0.026995915919542313, 0.012050802819430828, 0.00696721812710166, 0.004366124514490366, 0.0027144441846758127, 0.0019397999858483672, 0.0013141860254108906, 0.0009152254206128418, 0.0010007162345573306, 0.000905435997992754], 'cl_head_accuracy': [0.9300000071525574, 0.987500011920929, 1.0, 1.0, 1.0, 1.0, 1.0, 1.0, 1.0, 1.0], 'bb_head_accuracy': [0.4050000011920929, 0.49000000953674316, 0.4724999964237213, 0.5199999809265137, 0.5450000166893005, 0.5674999952316284, 0.5375000238418579, 0.5274999737739563, 0.5450000166893005, 0.5249999761581421], 'val_loss': [0.591773509979248, 0.3166203796863556, 0.2885921001434326, 0.19809354841709137, 0.21634598076343536, 0.2785065770149231, 0.2630539834499359, 0.3111139237880707, 0.2474219650030136, 0.2910144627094269], 'val_cl_head_loss': [0.5243653655052185, 0.29117706418037415, 0.24653449654579163, 0.1764298677444458, 0.1954652965068817, 0.2559719979763031, 0.24353331327438354, 0.2866198420524597, 0.22974134981632233, 0.2659498453140259], 'val_bb_head_loss': [0.06740815937519073, 0.025443322956562042, 0.0420575886964798, 0.021663708612322807, 0.020880691707134247, 0.02253459393978119, 0.01952069252729416, 0.024494070559740067, 0.017680644989013672, 0.025064587593078613], 'val_cl_head_accuracy': [0.6499999761581421, 0.8600000143051147, 0.8999999761581421, 0.949999988079071, 0.9200000166893005, 0.9100000262260437, 0.9200000166893005, 0.8899999856948853, 0.9200000166893005, 0.8999999761581421], 'val_bb_head_accuracy': [0.1599999964237213, 0.20000000298023224, 0.23000000417232513, 0.27000001072883606, 0.25, 0.28999999165534973, 0.23000000417232513, 0.23000000417232513, 0.25, 0.23999999463558197]}\n"
     ]
    }
   ],
   "source": [
    "print(history.history)"
   ]
  },
  {
   "cell_type": "code",
   "execution_count": 37,
   "id": "4ed23f24",
   "metadata": {},
   "outputs": [
    {
     "name": "stdout",
     "output_type": "stream",
     "text": [
      "Model: \"model\"\n",
      "__________________________________________________________________________________________________\n",
      " Layer (type)                   Output Shape         Param #     Connected to                     \n",
      "==================================================================================================\n",
      " input_1 (InputLayer)           [(None, 388, 518, 3  0           []                               \n",
      "                                )]                                                                \n",
      "                                                                                                  \n",
      " bl_1 (Rescaling)               (None, 388, 518, 3)  0           ['input_1[0][0]']                \n",
      "                                                                                                  \n",
      " bl_2 (Conv2D)                  (None, 388, 518, 16  448         ['bl_1[0][0]']                   \n",
      "                                )                                                                 \n",
      "                                                                                                  \n",
      " bl_3 (MaxPooling2D)            (None, 194, 259, 16  0           ['bl_2[0][0]']                   \n",
      "                                )                                                                 \n",
      "                                                                                                  \n",
      " bl_4 (Conv2D)                  (None, 194, 259, 32  4640        ['bl_3[0][0]']                   \n",
      "                                )                                                                 \n",
      "                                                                                                  \n",
      " bl_5 (MaxPooling2D)            (None, 97, 129, 32)  0           ['bl_4[0][0]']                   \n",
      "                                                                                                  \n",
      " bl_6 (Conv2D)                  (None, 97, 129, 64)  18496       ['bl_5[0][0]']                   \n",
      "                                                                                                  \n",
      " bl_7 (MaxPooling2D)            (None, 48, 64, 64)   0           ['bl_6[0][0]']                   \n",
      "                                                                                                  \n",
      " bl_8 (Flatten)                 (None, 196608)       0           ['bl_7[0][0]']                   \n",
      "                                                                                                  \n",
      " bb_1 (Dense)                   (None, 128)          25165952    ['bl_8[0][0]']                   \n",
      "                                                                                                  \n",
      " bb_2 (Dense)                   (None, 64)           8256        ['bb_1[0][0]']                   \n",
      "                                                                                                  \n",
      " cl_1 (Dense)                   (None, 128)          25165952    ['bl_8[0][0]']                   \n",
      "                                                                                                  \n",
      " bb_3 (Dense)                   (None, 32)           2080        ['bb_2[0][0]']                   \n",
      "                                                                                                  \n",
      " cl_head (Dense)                (None, 2)            258         ['cl_1[0][0]']                   \n",
      "                                                                                                  \n",
      " bb_head (Dense)                (None, 4)            132         ['bb_3[0][0]']                   \n",
      "                                                                                                  \n",
      "==================================================================================================\n",
      "Total params: 50,366,214\n",
      "Trainable params: 50,366,214\n",
      "Non-trainable params: 0\n",
      "__________________________________________________________________________________________________\n"
     ]
    }
   ],
   "source": [
    "model.summary()"
   ]
  },
  {
   "cell_type": "code",
   "execution_count": 56,
   "id": "3fd570ef",
   "metadata": {},
   "outputs": [
    {
     "name": "stdout",
     "output_type": "stream",
     "text": [
      "Epoch 1/10\n",
      "13/13 [==============================] - 35s 3s/step - loss: 0.4620 - cl_head_loss: 0.0361 - bb_head_loss: 0.4259 - cl_head_accuracy: 0.9875 - bb_head_accuracy: 0.4175\n",
      "Epoch 2/10\n",
      "13/13 [==============================] - 29s 2s/step - loss: 0.3007 - cl_head_loss: 0.0120 - bb_head_loss: 0.2887 - cl_head_accuracy: 0.9975 - bb_head_accuracy: 0.3400\n",
      "Epoch 3/10\n",
      "13/13 [==============================] - 30s 2s/step - loss: 0.2091 - cl_head_loss: 0.0079 - bb_head_loss: 0.2013 - cl_head_accuracy: 1.0000 - bb_head_accuracy: 0.1725\n",
      "Epoch 4/10\n",
      "13/13 [==============================] - 29s 2s/step - loss: 0.0673 - cl_head_loss: 0.0037 - bb_head_loss: 0.0636 - cl_head_accuracy: 1.0000 - bb_head_accuracy: 0.4175\n",
      "Epoch 5/10\n",
      "13/13 [==============================] - 32s 2s/step - loss: 0.0103 - cl_head_loss: 0.0012 - bb_head_loss: 0.0092 - cl_head_accuracy: 1.0000 - bb_head_accuracy: 0.6050\n",
      "Epoch 6/10\n",
      "13/13 [==============================] - 32s 2s/step - loss: 0.0022 - cl_head_loss: 5.1207e-04 - bb_head_loss: 0.0017 - cl_head_accuracy: 1.0000 - bb_head_accuracy: 0.2550\n",
      "Epoch 7/10\n",
      "13/13 [==============================] - 31s 2s/step - loss: 8.2132e-04 - cl_head_loss: 3.1660e-04 - bb_head_loss: 5.0471e-04 - cl_head_accuracy: 1.0000 - bb_head_accuracy: 0.4200\n",
      "Epoch 8/10\n",
      "13/13 [==============================] - 32s 2s/step - loss: 3.7556e-04 - cl_head_loss: 1.5580e-04 - bb_head_loss: 2.1976e-04 - cl_head_accuracy: 1.0000 - bb_head_accuracy: 0.4600\n",
      "Epoch 9/10\n",
      "13/13 [==============================] - 32s 2s/step - loss: 2.0692e-04 - cl_head_loss: 9.6747e-05 - bb_head_loss: 1.1018e-04 - cl_head_accuracy: 1.0000 - bb_head_accuracy: 0.4700\n",
      "Epoch 10/10\n",
      "13/13 [==============================] - 32s 2s/step - loss: 1.5101e-04 - cl_head_loss: 6.8176e-05 - bb_head_loss: 8.2837e-05 - cl_head_accuracy: 1.0000 - bb_head_accuracy: 0.4700\n"
     ]
    }
   ],
   "source": [
    "## Another approach \n",
    "\n",
    "training_epochs = 10\n",
    "\n",
    "history = model.fit(train_images, trainTargets['cl_head'],\n",
    "             batch_size=32,\n",
    "             epochs=training_epochs,\n",
    "             shuffle=True,\n",
    "             verbose=1)\n",
    "            "
   ]
  },
  {
   "cell_type": "code",
   "execution_count": 69,
   "id": "541b7ee6",
   "metadata": {},
   "outputs": [
    {
     "name": "stdout",
     "output_type": "stream",
     "text": [
      "[array([[ 3.5690536 , -2.3611336 ],\n",
      "       [ 0.6971662 ,  0.12091504],\n",
      "       [-0.41210794,  0.44694567],\n",
      "       [-0.36978367,  0.26577228],\n",
      "       [ 5.3071637 , -3.1441717 ],\n",
      "       [-0.46736628,  0.4521068 ],\n",
      "       [ 0.07738041,  0.4963448 ],\n",
      "       [-0.57673603,  1.1992995 ],\n",
      "       [ 0.0673155 ,  0.3404224 ],\n",
      "       [-0.8837748 ,  1.2851909 ],\n",
      "       [-0.327783  ,  0.40307358],\n",
      "       [-0.36011726,  0.7426988 ],\n",
      "       [ 4.913563  , -2.9676638 ],\n",
      "       [-1.1594914 ,  1.0723542 ],\n",
      "       [-0.62796324,  0.67400897],\n",
      "       [-0.55823475,  0.5681137 ],\n",
      "       [-1.349027  ,  1.2862668 ],\n",
      "       [-1.1446687 ,  1.2954928 ],\n",
      "       [ 7.9789343 , -5.44002   ],\n",
      "       [-0.9937822 ,  0.74288553],\n",
      "       [ 1.5544882 , -0.5692673 ],\n",
      "       [ 3.2639332 , -2.4593096 ],\n",
      "       [ 1.1424276 , -0.88709193],\n",
      "       [ 6.187108  , -3.9070492 ],\n",
      "       [ 2.8013365 , -2.236531  ],\n",
      "       [-1.0784631 ,  0.9057611 ],\n",
      "       [-0.6808024 ,  0.67916006],\n",
      "       [ 3.1727605 , -2.3042784 ],\n",
      "       [-0.92729217,  0.9340914 ],\n",
      "       [ 5.064052  , -3.2035618 ],\n",
      "       [ 3.4682314 , -2.465932  ],\n",
      "       [ 3.6062403 , -2.516195  ],\n",
      "       [ 0.2537612 , -0.18922836],\n",
      "       [ 2.5337784 , -1.5157102 ],\n",
      "       [ 7.4693403 , -4.8127146 ],\n",
      "       [ 0.10663161,  0.3729377 ],\n",
      "       [ 0.07324461,  0.5495695 ],\n",
      "       [-1.2152737 ,  1.9250768 ],\n",
      "       [-1.1697333 ,  1.0747572 ],\n",
      "       [-0.02988891,  0.47832447],\n",
      "       [ 0.3395138 , -0.142591  ],\n",
      "       [-0.6410315 ,  0.9635357 ],\n",
      "       [ 5.866275  , -3.9233775 ],\n",
      "       [ 5.3542323 , -3.3889053 ],\n",
      "       [ 0.83059996,  0.18624066],\n",
      "       [ 0.35436615,  0.19573726],\n",
      "       [-0.7485431 ,  1.6783296 ],\n",
      "       [ 1.3109119 , -0.65881   ],\n",
      "       [ 3.5560246 , -2.4188356 ],\n",
      "       [ 0.25437418,  0.18529737],\n",
      "       [ 5.9799805 , -3.998127  ],\n",
      "       [-0.89312255,  0.90100724],\n",
      "       [ 5.2888546 , -3.6350806 ],\n",
      "       [ 7.5364285 , -5.103254  ],\n",
      "       [ 0.6370773 , -0.20693082],\n",
      "       [ 0.55838054,  0.22770204],\n",
      "       [-1.7249801 ,  1.777327  ],\n",
      "       [-1.1679468 ,  1.6514055 ],\n",
      "       [ 1.5560694 , -0.7944774 ],\n",
      "       [ 0.5071337 ,  0.28711793],\n",
      "       [ 0.5615744 , -0.10728337],\n",
      "       [-2.5655355 ,  2.3586035 ],\n",
      "       [-1.5537058 ,  2.204458  ],\n",
      "       [-1.5654136 ,  1.5940003 ],\n",
      "       [ 0.24269915, -0.07287127],\n",
      "       [ 0.74267673, -0.3218333 ],\n",
      "       [-0.38909686,  0.54002947],\n",
      "       [ 6.5775814 , -4.1441164 ],\n",
      "       [-0.89817315,  1.0465683 ],\n",
      "       [-1.4335139 ,  2.5609694 ],\n",
      "       [-0.9502253 ,  0.99276704],\n",
      "       [ 0.23406175,  0.13518637],\n",
      "       [-1.5637538 ,  1.45709   ],\n",
      "       [-0.02231355,  0.22563821],\n",
      "       [-0.41346592,  0.5784735 ],\n",
      "       [-4.219496  ,  4.419935  ],\n",
      "       [-4.803684  ,  5.1859922 ],\n",
      "       [ 1.9617962 , -0.72534096],\n",
      "       [ 0.09609004,  0.02420497],\n",
      "       [-6.469486  ,  7.1491313 ],\n",
      "       [ 3.0268583 , -1.3908647 ],\n",
      "       [ 0.02121214,  0.1959954 ],\n",
      "       [-1.8296332 ,  2.164374  ],\n",
      "       [-0.31990868,  0.7406209 ],\n",
      "       [ 0.8175466 , -0.37170714],\n",
      "       [-7.497618  ,  8.527662  ],\n",
      "       [ 3.34177   , -2.21306   ],\n",
      "       [-0.9828872 ,  1.0237821 ],\n",
      "       [ 4.149027  , -2.8781564 ],\n",
      "       [-1.2464696 ,  1.2167573 ],\n",
      "       [ 0.40660995, -0.2022374 ],\n",
      "       [-5.5041604 ,  5.317831  ],\n",
      "       [-0.9679815 ,  1.2540447 ],\n",
      "       [-1.0099117 ,  1.2881432 ],\n",
      "       [-3.763528  ,  4.09909   ],\n",
      "       [-0.99619764,  1.2177751 ],\n",
      "       [-0.288727  ,  0.6494741 ],\n",
      "       [-1.4695306 ,  2.8622496 ],\n",
      "       [-0.50236183,  0.6984656 ],\n",
      "       [ 1.2648393 , -0.6190592 ]], dtype=float32), array([[3.53933871e-01, 3.61197770e-01, 6.81624651e-01, 5.45986891e-01],\n",
      "       [5.56878746e-02, 8.32733512e-03, 6.23475909e-02, 3.65316868e-03],\n",
      "       [1.02880299e-02, 1.74105167e-04, 1.49795711e-02, 7.06972351e-05],\n",
      "       [3.13020647e-02, 4.25723195e-03, 4.65250015e-02, 2.65526772e-03],\n",
      "       [5.27017534e-01, 6.23050511e-01, 7.43697882e-01, 8.15245032e-01],\n",
      "       [4.30730283e-02, 3.59329581e-03, 8.68620276e-02, 2.74503231e-03],\n",
      "       [4.33060825e-02, 6.24573231e-03, 4.12350893e-02, 2.83282995e-03],\n",
      "       [9.18191373e-02, 1.94666386e-02, 1.59598172e-01, 2.24052966e-02],\n",
      "       [2.44850814e-02, 2.01928616e-03, 3.96559834e-02, 1.06069446e-03],\n",
      "       [1.72101259e-02, 5.60700893e-04, 1.36409104e-02, 1.95622444e-04],\n",
      "       [1.40198171e-02, 7.80701637e-04, 1.95602477e-02, 3.42756510e-04],\n",
      "       [6.19961023e-02, 9.96422768e-03, 1.52132601e-01, 1.20195746e-02],\n",
      "       [4.77903783e-01, 5.34872353e-01, 8.02749038e-01, 8.79897594e-01],\n",
      "       [7.98210502e-03, 1.50263309e-04, 8.54444504e-03, 5.60419212e-05],\n",
      "       [1.51157081e-02, 7.26699829e-04, 1.83304250e-02, 3.37183475e-04],\n",
      "       [2.05328465e-02, 1.40377879e-03, 2.14157701e-02, 6.03735447e-04],\n",
      "       [2.05323100e-02, 1.89056993e-03, 2.03616023e-02, 6.50942326e-04],\n",
      "       [2.16348767e-02, 1.46824121e-03, 2.63303816e-02, 5.80757856e-04],\n",
      "       [3.58641654e-01, 3.20274651e-01, 7.56350875e-01, 6.44888341e-01],\n",
      "       [8.70800018e-03, 2.82764435e-04, 9.90965962e-03, 7.90057020e-05],\n",
      "       [4.21756208e-02, 4.45592403e-03, 8.41122270e-02, 3.97399068e-03],\n",
      "       [2.64307648e-01, 3.34303141e-01, 6.01635456e-01, 4.87331480e-01],\n",
      "       [2.26145983e-02, 3.27354670e-03, 3.51699591e-02, 1.91232562e-03],\n",
      "       [4.55883294e-01, 4.96760726e-01, 6.54742002e-01, 7.88082123e-01],\n",
      "       [3.61103415e-02, 1.65259838e-03, 1.00877732e-01, 1.67086720e-03],\n",
      "       [7.34835863e-03, 1.53481960e-04, 7.91820884e-03, 5.39402390e-05],\n",
      "       [1.66248679e-02, 5.63979149e-04, 1.42489672e-02, 2.18242407e-04],\n",
      "       [3.12742233e-01, 3.31228673e-01, 5.21272898e-01, 4.01474595e-01],\n",
      "       [7.51644373e-03, 1.06240819e-04, 9.54088569e-03, 3.38893442e-05],\n",
      "       [3.20048332e-01, 3.02633584e-01, 6.86008275e-01, 6.02305114e-01],\n",
      "       [3.31443489e-01, 3.13166440e-01, 6.90708339e-01, 5.89067936e-01],\n",
      "       [1.81622714e-01, 4.82401550e-02, 3.77784759e-01, 1.02975845e-01],\n",
      "       [2.63077617e-02, 9.83059406e-04, 3.98610532e-02, 6.80416822e-04],\n",
      "       [1.28168434e-01, 7.70008564e-02, 3.11363131e-01, 9.80212688e-02],\n",
      "       [3.21632236e-01, 2.42058843e-01, 7.95228422e-01, 6.58304155e-01],\n",
      "       [5.39683700e-02, 2.77474523e-03, 1.04943663e-01, 2.94086337e-03],\n",
      "       [2.87138522e-02, 8.97556543e-04, 3.46620679e-02, 5.00887632e-04],\n",
      "       [1.81044340e-02, 2.12475657e-03, 4.07682657e-02, 1.49521232e-03],\n",
      "       [7.66780972e-03, 1.47610903e-04, 9.14260745e-03, 5.46454939e-05],\n",
      "       [4.02497351e-02, 6.71553612e-03, 5.59943914e-02, 3.22976708e-03],\n",
      "       [3.60682011e-02, 4.05636430e-03, 5.41854799e-02, 1.64034963e-03],\n",
      "       [2.14329958e-02, 7.57366419e-04, 3.02394032e-02, 3.58104706e-04],\n",
      "       [4.30970669e-01, 4.74591583e-01, 7.31331527e-01, 7.46462226e-01],\n",
      "       [1.92477435e-01, 1.50916576e-01, 6.06384754e-01, 3.53187561e-01],\n",
      "       [8.25783312e-02, 5.71227968e-02, 2.15565830e-01, 5.25923669e-02],\n",
      "       [1.73093975e-01, 4.48609293e-02, 2.49148071e-01, 4.54794168e-02],\n",
      "       [4.50457335e-02, 5.69951534e-03, 7.95787871e-02, 5.12892008e-03],\n",
      "       [7.49435425e-02, 1.40064657e-02, 1.49798036e-01, 1.56973898e-02],\n",
      "       [4.43831623e-01, 4.86790270e-01, 6.83217585e-01, 6.22513831e-01],\n",
      "       [9.77771282e-02, 1.75032914e-02, 1.62252128e-01, 1.63796842e-02],\n",
      "       [3.89765710e-01, 3.80384296e-01, 7.10281730e-01, 5.74473977e-01],\n",
      "       [5.88044524e-03, 7.67088568e-05, 6.52891397e-03, 2.32128859e-05],\n",
      "       [2.78813839e-01, 1.87380284e-01, 6.79256916e-01, 3.89751881e-01],\n",
      "       [3.42497021e-01, 2.41920233e-01, 7.82062531e-01, 6.80581331e-01],\n",
      "       [9.08097029e-02, 2.22081542e-02, 2.48655081e-01, 3.42761278e-02],\n",
      "       [2.88596451e-02, 1.35865808e-03, 2.25276351e-02, 6.72876835e-04],\n",
      "       [1.25199556e-02, 1.16777420e-03, 2.20761597e-02, 2.99811363e-04],\n",
      "       [2.56102681e-02, 1.52429938e-03, 3.72560620e-02, 8.61853361e-04],\n",
      "       [1.30025446e-01, 4.61860299e-02, 2.78957725e-01, 6.41017556e-02],\n",
      "       [4.89646494e-02, 4.72223759e-03, 1.21525854e-01, 5.96958399e-03],\n",
      "       [6.21035993e-02, 1.40554011e-02, 9.60771143e-02, 1.16862953e-02],\n",
      "       [3.90692651e-02, 3.94898653e-03, 5.76786399e-02, 2.28330493e-03],\n",
      "       [2.59255767e-02, 1.05866790e-03, 2.45168805e-02, 3.67522240e-04],\n",
      "       [4.18623984e-02, 1.29052997e-03, 4.33461070e-02, 7.29024410e-04],\n",
      "       [5.37557304e-02, 6.45735860e-03, 6.19323552e-02, 3.99386883e-03],\n",
      "       [1.23839736e-01, 3.79855633e-02, 2.49246329e-01, 5.12628257e-02],\n",
      "       [1.09310150e-02, 2.18749046e-04, 1.26850009e-02, 9.94651782e-05],\n",
      "       [3.76023412e-01, 3.12258899e-01, 7.95748234e-01, 7.24567294e-01],\n",
      "       [3.87227535e-02, 3.68958712e-03, 5.35242856e-02, 1.86780095e-03],\n",
      "       [8.62511992e-03, 6.02930741e-05, 6.47166371e-03, 4.35225447e-05],\n",
      "       [2.06466019e-02, 1.13260746e-03, 1.98277235e-02, 4.34309244e-04],\n",
      "       [2.26558745e-02, 1.30042434e-03, 2.79675126e-02, 5.95539808e-04],\n",
      "       [7.70086050e-03, 1.98483467e-04, 6.19336963e-03, 5.35373692e-05],\n",
      "       [2.14215517e-02, 9.82940197e-04, 3.04923356e-02, 5.64217567e-04],\n",
      "       [1.53375328e-01, 4.72216606e-02, 3.83734524e-01, 1.09922588e-01],\n",
      "       [3.30123305e-03, 1.35362148e-04, 2.41658092e-03, 2.72679117e-05],\n",
      "       [4.15632129e-03, 6.47965935e-05, 4.47010994e-03, 1.79672497e-05],\n",
      "       [3.72983515e-02, 7.75390863e-03, 1.98912024e-01, 1.96746588e-02],\n",
      "       [1.55771375e-02, 4.68611717e-04, 1.76093578e-02, 2.01255083e-04],\n",
      "       [8.43834877e-03, 4.68462706e-04, 1.56231523e-02, 2.20388174e-04],\n",
      "       [1.17842019e-01, 3.77414525e-02, 4.54958290e-01, 1.12743109e-01],\n",
      "       [7.26863146e-02, 1.40122175e-02, 1.35555536e-01, 1.23766959e-02],\n",
      "       [4.15435433e-02, 4.94411588e-03, 1.03539675e-01, 7.05838203e-03],\n",
      "       [5.88863194e-02, 3.72040272e-03, 7.23664463e-02, 2.77554989e-03],\n",
      "       [1.85921669e-01, 7.51450360e-02, 4.81494695e-01, 1.58449203e-01],\n",
      "       [3.21159959e-02, 3.82593274e-03, 7.63634145e-02, 3.06904316e-03],\n",
      "       [3.02498430e-01, 5.24901688e-01, 5.17230213e-01, 7.34648049e-01],\n",
      "       [2.84098089e-02, 3.55207920e-03, 2.89005041e-02, 1.53356791e-03],\n",
      "       [4.93514508e-01, 4.98045117e-01, 7.75393426e-01, 8.16686273e-01],\n",
      "       [4.91914153e-03, 6.75736810e-05, 4.86129522e-03, 2.02370829e-05],\n",
      "       [2.90696919e-02, 2.09864974e-03, 5.97488582e-02, 1.93494558e-03],\n",
      "       [8.03226233e-03, 2.83539295e-04, 8.94889235e-03, 6.61776357e-05],\n",
      "       [2.04046965e-02, 1.38765574e-03, 2.47703195e-02, 4.65154648e-04],\n",
      "       [8.66129994e-03, 9.98594187e-05, 1.26013160e-02, 3.54511649e-05],\n",
      "       [1.35542750e-02, 1.90225244e-03, 1.47217512e-02, 5.44279814e-04],\n",
      "       [3.91041636e-02, 5.01364470e-03, 4.29088473e-02, 2.16019154e-03],\n",
      "       [4.10003364e-02, 3.19930911e-03, 4.64665294e-02, 2.05898285e-03],\n",
      "       [9.21750069e-02, 4.07160521e-02, 6.35737300e-01, 1.92062318e-01],\n",
      "       [2.62568295e-02, 2.72843242e-03, 3.36180627e-02, 1.21271610e-03],\n",
      "       [9.33337212e-02, 5.07819951e-02, 2.28494912e-01, 6.24307096e-02]],\n",
      "      dtype=float32)]\n"
     ]
    }
   ],
   "source": [
    "\n",
    "predictions = model.predict(test_images,batch_size=32)\n",
    "\n",
    "print(predictions)"
   ]
  },
  {
   "cell_type": "code",
   "execution_count": 79,
   "id": "a127af30",
   "metadata": {},
   "outputs": [
    {
     "name": "stdout",
     "output_type": "stream",
     "text": [
      "[0 1 1 1 0 1 1 1 1 1 1 1 0 1 1 1 1 1 0 1 1 0 0 0 0 1 1 0 1 0 0 0 1 1 0 1 1\n",
      " 1 1 1 1 1 0 0 1 1 1 1 0 1 0 1 0 0 1 1 1 1 1 1 1 1 1 1 1 1 1 0 1 1 1 1 1 1\n",
      " 1 1 1 1 1 1 1 1 1 1 1 1 0 1 0 1 1 1 1 1 1 1 1 1 1 1]\n"
     ]
    }
   ],
   "source": [
    "print(testTargets['cl_head'])\n",
    "len(testTargets['cl_head'])\n"
   ]
  },
  {
   "cell_type": "code",
   "execution_count": 80,
   "id": "a483e7b1",
   "metadata": {},
   "outputs": [
    {
     "ename": "InvalidArgumentError",
     "evalue": "`predictions` contains negative values.  \nCondition x >= 0 did not hold element-wise:\nx (shape=(100, 2) dtype=int64) = \n['3', '-2', '0', '...']",
     "output_type": "error",
     "traceback": [
      "\u001b[0;31m---------------------------------------------------------------------------\u001b[0m",
      "\u001b[0;31mInvalidArgumentError\u001b[0m                      Traceback (most recent call last)",
      "\u001b[0;32m/var/folders/d1/8zqrhd957xsbfl7mhph4cq380000gn/T/ipykernel_11994/1947838569.py\u001b[0m in \u001b[0;36m<module>\u001b[0;34m\u001b[0m\n\u001b[0;32m----> 1\u001b[0;31m conf_matrix = tf.math.confusion_matrix(labels=testTargets['cl_head'],\n\u001b[0m\u001b[1;32m      2\u001b[0m                                        predictions=pd)\n",
      "\u001b[0;32m/Library/Frameworks/Python.framework/Versions/3.9/lib/python3.9/site-packages/tensorflow/python/util/traceback_utils.py\u001b[0m in \u001b[0;36merror_handler\u001b[0;34m(*args, **kwargs)\u001b[0m\n\u001b[1;32m    151\u001b[0m     \u001b[0;32mexcept\u001b[0m \u001b[0mException\u001b[0m \u001b[0;32mas\u001b[0m \u001b[0me\u001b[0m\u001b[0;34m:\u001b[0m\u001b[0;34m\u001b[0m\u001b[0;34m\u001b[0m\u001b[0m\n\u001b[1;32m    152\u001b[0m       \u001b[0mfiltered_tb\u001b[0m \u001b[0;34m=\u001b[0m \u001b[0m_process_traceback_frames\u001b[0m\u001b[0;34m(\u001b[0m\u001b[0me\u001b[0m\u001b[0;34m.\u001b[0m\u001b[0m__traceback__\u001b[0m\u001b[0;34m)\u001b[0m\u001b[0;34m\u001b[0m\u001b[0;34m\u001b[0m\u001b[0m\n\u001b[0;32m--> 153\u001b[0;31m       \u001b[0;32mraise\u001b[0m \u001b[0me\u001b[0m\u001b[0;34m.\u001b[0m\u001b[0mwith_traceback\u001b[0m\u001b[0;34m(\u001b[0m\u001b[0mfiltered_tb\u001b[0m\u001b[0;34m)\u001b[0m \u001b[0;32mfrom\u001b[0m \u001b[0;32mNone\u001b[0m\u001b[0;34m\u001b[0m\u001b[0;34m\u001b[0m\u001b[0m\n\u001b[0m\u001b[1;32m    154\u001b[0m     \u001b[0;32mfinally\u001b[0m\u001b[0;34m:\u001b[0m\u001b[0;34m\u001b[0m\u001b[0;34m\u001b[0m\u001b[0m\n\u001b[1;32m    155\u001b[0m       \u001b[0;32mdel\u001b[0m \u001b[0mfiltered_tb\u001b[0m\u001b[0;34m\u001b[0m\u001b[0;34m\u001b[0m\u001b[0m\n",
      "\u001b[0;32m/Library/Frameworks/Python.framework/Versions/3.9/lib/python3.9/site-packages/tensorflow/python/ops/check_ops.py\u001b[0m in \u001b[0;36m_binary_assert\u001b[0;34m(sym, opname, op_func, static_func, x, y, data, summarize, message, name)\u001b[0m\n\u001b[1;32m    407\u001b[0m         \u001b[0mdata\u001b[0m \u001b[0;34m=\u001b[0m \u001b[0;34m[\u001b[0m\u001b[0mmessage\u001b[0m\u001b[0;34m]\u001b[0m \u001b[0;34m+\u001b[0m \u001b[0mlist\u001b[0m\u001b[0;34m(\u001b[0m\u001b[0mdata\u001b[0m\u001b[0;34m)\u001b[0m\u001b[0;34m\u001b[0m\u001b[0;34m\u001b[0m\u001b[0m\n\u001b[1;32m    408\u001b[0m \u001b[0;34m\u001b[0m\u001b[0m\n\u001b[0;32m--> 409\u001b[0;31m       raise errors.InvalidArgumentError(\n\u001b[0m\u001b[1;32m    410\u001b[0m           \u001b[0mnode_def\u001b[0m\u001b[0;34m=\u001b[0m\u001b[0;32mNone\u001b[0m\u001b[0;34m,\u001b[0m\u001b[0;34m\u001b[0m\u001b[0;34m\u001b[0m\u001b[0m\n\u001b[1;32m    411\u001b[0m           \u001b[0mop\u001b[0m\u001b[0;34m=\u001b[0m\u001b[0;32mNone\u001b[0m\u001b[0;34m,\u001b[0m\u001b[0;34m\u001b[0m\u001b[0;34m\u001b[0m\u001b[0m\n",
      "\u001b[0;31mInvalidArgumentError\u001b[0m: `predictions` contains negative values.  \nCondition x >= 0 did not hold element-wise:\nx (shape=(100, 2) dtype=int64) = \n['3', '-2', '0', '...']"
     ]
    }
   ],
   "source": [
    "conf_matrix = tf.math.confusion_matrix(labels=testTargets['cl_head'],\n",
    "                                       predictions=pd)"
   ]
  },
  {
   "cell_type": "code",
   "execution_count": 61,
   "id": "af106394",
   "metadata": {},
   "outputs": [
    {
     "ename": "AttributeError",
     "evalue": "'dict' object has no attribute 'argmax'",
     "output_type": "error",
     "traceback": [
      "\u001b[0;31m---------------------------------------------------------------------------\u001b[0m",
      "\u001b[0;31mAttributeError\u001b[0m                            Traceback (most recent call last)",
      "\u001b[0;32m/var/folders/d1/8zqrhd957xsbfl7mhph4cq380000gn/T/ipykernel_11994/1820611934.py\u001b[0m in \u001b[0;36m<module>\u001b[0;34m\u001b[0m\n\u001b[0;32m----> 1\u001b[0;31m \u001b[0mmatrix\u001b[0m \u001b[0;34m=\u001b[0m \u001b[0mmetrics\u001b[0m\u001b[0;34m.\u001b[0m\u001b[0mconfusion_matrix\u001b[0m\u001b[0;34m(\u001b[0m\u001b[0mtestTargets\u001b[0m\u001b[0;34m.\u001b[0m\u001b[0margmax\u001b[0m\u001b[0;34m(\u001b[0m\u001b[0maxis\u001b[0m\u001b[0;34m=\u001b[0m\u001b[0;36m1\u001b[0m\u001b[0;34m)\u001b[0m\u001b[0;34m,\u001b[0m \u001b[0mpredictions\u001b[0m\u001b[0;34m.\u001b[0m\u001b[0margmax\u001b[0m\u001b[0;34m(\u001b[0m\u001b[0maxis\u001b[0m\u001b[0;34m=\u001b[0m\u001b[0;36m1\u001b[0m\u001b[0;34m)\u001b[0m\u001b[0;34m)\u001b[0m\u001b[0;34m\u001b[0m\u001b[0;34m\u001b[0m\u001b[0m\n\u001b[0m",
      "\u001b[0;31mAttributeError\u001b[0m: 'dict' object has no attribute 'argmax'"
     ]
    }
   ],
   "source": [
    "matrix = metrics.confusion_matrix(testTargets.argmax(axis=1), predictions.argmax(axis=1))\n"
   ]
  },
  {
   "cell_type": "code",
   "execution_count": 62,
   "id": "ebf6d6f7",
   "metadata": {},
   "outputs": [
    {
     "ename": "ValueError",
     "evalue": "Expected array-like (array or non-string sequence), got {'cl_head': array([0, 1, 1, 1, 0, 1, 1, 1, 1, 1, 1, 1, 0, 1, 1, 1, 1, 1, 0, 1, 1, 0,\n       0, 0, 0, 1, 1, 0, 1, 0, 0, 0, 1, 1, 0, 1, 1, 1, 1, 1, 1, 1, 0, 0,\n       1, 1, 1, 1, 0, 1, 0, 1, 0, 0, 1, 1, 1, 1, 1, 1, 1, 1, 1, 1, 1, 1,\n       1, 0, 1, 1, 1, 1, 1, 1, 1, 1, 1, 1, 1, 1, 1, 1, 1, 1, 1, 1, 0, 1,\n       0, 1, 1, 1, 1, 1, 1, 1, 1, 1, 1, 1]), 'bb_head': array([[0.37, 0.4 , 0.55, 0.63],\n       [0.  , 0.  , 0.  , 0.  ],\n       [0.  , 0.  , 0.  , 0.  ],\n       [0.  , 0.  , 0.  , 0.  ],\n       [0.43, 0.53, 0.61, 0.9 ],\n       [0.  , 0.  , 0.  , 0.  ],\n       [0.  , 0.  , 0.  , 0.  ],\n       [0.  , 0.  , 0.  , 0.  ],\n       [0.  , 0.  , 0.  , 0.  ],\n       [0.  , 0.  , 0.  , 0.  ],\n       [0.  , 0.  , 0.  , 0.  ],\n       [0.  , 0.  , 0.  , 0.  ],\n       [0.27, 0.24, 0.52, 0.66],\n       [0.  , 0.  , 0.  , 0.  ],\n       [0.  , 0.  , 0.  , 0.  ],\n       [0.  , 0.  , 0.  , 0.  ],\n       [0.  , 0.  , 0.  , 0.  ],\n       [0.  , 0.  , 0.  , 0.  ],\n       [0.48, 0.2 , 0.67, 0.56],\n       [0.  , 0.  , 0.  , 0.  ],\n       [0.  , 0.  , 0.  , 0.  ],\n       [0.4 , 0.56, 0.68, 0.92],\n       [0.33, 0.7 , 0.57, 1.  ],\n       [0.25, 0.7 , 0.49, 1.  ],\n       [0.43, 0.15, 0.69, 0.6 ],\n       [0.  , 0.  , 0.  , 0.  ],\n       [0.  , 0.  , 0.  , 0.  ],\n       [0.47, 0.38, 0.73, 0.84],\n       [0.  , 0.  , 0.  , 0.  ],\n       [0.36, 0.05, 0.82, 0.8 ],\n       [0.32, 0.3 , 0.59, 0.76],\n       [0.29, 0.  , 0.56, 0.2 ],\n       [0.  , 0.  , 0.  , 0.  ],\n       [0.  , 0.  , 0.  , 0.  ],\n       [0.34, 0.12, 0.64, 0.69],\n       [0.  , 0.  , 0.  , 0.  ],\n       [0.  , 0.  , 0.  , 0.  ],\n       [0.  , 0.  , 0.  , 0.  ],\n       [0.  , 0.  , 0.  , 0.  ],\n       [0.  , 0.  , 0.  , 0.  ],\n       [0.  , 0.  , 0.  , 0.  ],\n       [0.  , 0.  , 0.  , 0.  ],\n       [0.27, 0.57, 0.53, 0.96],\n       [0.21, 0.05, 0.46, 0.48],\n       [0.  , 0.  , 0.  , 0.  ],\n       [0.  , 0.  , 0.  , 0.  ],\n       [0.  , 0.  , 0.  , 0.  ],\n       [0.  , 0.  , 0.  , 0.  ],\n       [0.39, 0.41, 0.56, 0.76],\n       [0.  , 0.  , 0.  , 0.  ],\n       [0.57, 0.42, 0.76, 0.76],\n       [0.  , 0.  , 0.  , 0.  ],\n       [0.59, 0.  , 0.78, 0.24],\n       [0.32, 0.17, 0.56, 0.6 ],\n       [0.  , 0.  , 0.  , 0.  ],\n       [0.  , 0.  , 0.  , 0.  ],\n       [0.  , 0.  , 0.  , 0.  ],\n       [0.  , 0.  , 0.  , 0.  ],\n       [0.  , 0.  , 0.  , 0.  ],\n       [0.  , 0.  , 0.  , 0.  ],\n       [0.  , 0.  , 0.  , 0.  ],\n       [0.  , 0.  , 0.  , 0.  ],\n       [0.  , 0.  , 0.  , 0.  ],\n       [0.  , 0.  , 0.  , 0.  ],\n       [0.  , 0.  , 0.  , 0.  ],\n       [0.  , 0.  , 0.  , 0.  ],\n       [0.  , 0.  , 0.  , 0.  ],\n       [0.36, 0.13, 0.66, 0.7 ],\n       [0.  , 0.  , 0.  , 0.  ],\n       [0.  , 0.  , 0.  , 0.  ],\n       [0.  , 0.  , 0.  , 0.  ],\n       [0.  , 0.  , 0.  , 0.  ],\n       [0.  , 0.  , 0.  , 0.  ],\n       [0.  , 0.  , 0.  , 0.  ],\n       [0.  , 0.  , 0.  , 0.  ],\n       [0.  , 0.  , 0.  , 0.  ],\n       [0.  , 0.  , 0.  , 0.  ],\n       [0.  , 0.  , 0.  , 0.  ],\n       [0.  , 0.  , 0.  , 0.  ],\n       [0.  , 0.  , 0.  , 0.  ],\n       [0.  , 0.  , 0.  , 0.  ],\n       [0.  , 0.  , 0.  , 0.  ],\n       [0.  , 0.  , 0.  , 0.  ],\n       [0.  , 0.  , 0.  , 0.  ],\n       [0.  , 0.  , 0.  , 0.  ],\n       [0.  , 0.  , 0.  , 0.  ],\n       [0.36, 0.52, 0.55, 0.84],\n       [0.  , 0.  , 0.  , 0.  ],\n       [0.31, 0.27, 0.61, 0.81],\n       [0.  , 0.  , 0.  , 0.  ],\n       [0.  , 0.  , 0.  , 0.  ],\n       [0.  , 0.  , 0.  , 0.  ],\n       [0.  , 0.  , 0.  , 0.  ],\n       [0.  , 0.  , 0.  , 0.  ],\n       [0.  , 0.  , 0.  , 0.  ],\n       [0.  , 0.  , 0.  , 0.  ],\n       [0.  , 0.  , 0.  , 0.  ],\n       [0.  , 0.  , 0.  , 0.  ],\n       [0.  , 0.  , 0.  , 0.  ],\n       [0.  , 0.  , 0.  , 0.  ]])}",
     "output_type": "error",
     "traceback": [
      "\u001b[0;31m---------------------------------------------------------------------------\u001b[0m",
      "\u001b[0;31mValueError\u001b[0m                                Traceback (most recent call last)",
      "\u001b[0;32m/var/folders/d1/8zqrhd957xsbfl7mhph4cq380000gn/T/ipykernel_11994/35305433.py\u001b[0m in \u001b[0;36m<module>\u001b[0;34m\u001b[0m\n\u001b[1;32m      1\u001b[0m \u001b[0;32mimport\u001b[0m \u001b[0msklearn\u001b[0m\u001b[0;34m\u001b[0m\u001b[0;34m\u001b[0m\u001b[0m\n\u001b[1;32m      2\u001b[0m \u001b[0;32mfrom\u001b[0m \u001b[0msklearn\u001b[0m \u001b[0;32mimport\u001b[0m \u001b[0mmetrics\u001b[0m\u001b[0;34m\u001b[0m\u001b[0;34m\u001b[0m\u001b[0m\n\u001b[0;32m----> 3\u001b[0;31m \u001b[0mprint\u001b[0m\u001b[0;34m(\u001b[0m\u001b[0;34m\"Accuracy:\"\u001b[0m\u001b[0;34m,\u001b[0m \u001b[0mmetrics\u001b[0m\u001b[0;34m.\u001b[0m\u001b[0maccuracy_score\u001b[0m\u001b[0;34m(\u001b[0m\u001b[0mtestTargets\u001b[0m\u001b[0;34m,\u001b[0m\u001b[0mpredictions\u001b[0m\u001b[0;34m)\u001b[0m\u001b[0;34m)\u001b[0m\u001b[0;34m\u001b[0m\u001b[0;34m\u001b[0m\u001b[0m\n\u001b[0m\u001b[1;32m      4\u001b[0m \u001b[0mprint\u001b[0m\u001b[0;34m(\u001b[0m\u001b[0;34m\"Precision:\"\u001b[0m\u001b[0;34m,\u001b[0m\u001b[0mmetrics\u001b[0m\u001b[0;34m.\u001b[0m\u001b[0mprecision_score\u001b[0m\u001b[0;34m(\u001b[0m\u001b[0mtestTargets\u001b[0m\u001b[0;34m,\u001b[0m\u001b[0mpredictions\u001b[0m\u001b[0;34m)\u001b[0m\u001b[0;34m)\u001b[0m\u001b[0;34m\u001b[0m\u001b[0;34m\u001b[0m\u001b[0m\n\u001b[1;32m      5\u001b[0m \u001b[0mprint\u001b[0m\u001b[0;34m(\u001b[0m\u001b[0;34m\"Recall:\"\u001b[0m\u001b[0;34m,\u001b[0m\u001b[0mmetrics\u001b[0m\u001b[0;34m.\u001b[0m\u001b[0mrecall_score\u001b[0m\u001b[0;34m(\u001b[0m\u001b[0mtestTargets\u001b[0m\u001b[0;34m,\u001b[0m\u001b[0mpredictions\u001b[0m\u001b[0;34m)\u001b[0m\u001b[0;34m)\u001b[0m\u001b[0;34m\u001b[0m\u001b[0;34m\u001b[0m\u001b[0m\n",
      "\u001b[0;32m/Library/Frameworks/Python.framework/Versions/3.9/lib/python3.9/site-packages/sklearn/metrics/_classification.py\u001b[0m in \u001b[0;36maccuracy_score\u001b[0;34m(y_true, y_pred, normalize, sample_weight)\u001b[0m\n\u001b[1;32m    203\u001b[0m \u001b[0;34m\u001b[0m\u001b[0m\n\u001b[1;32m    204\u001b[0m     \u001b[0;31m# Compute accuracy for each possible representation\u001b[0m\u001b[0;34m\u001b[0m\u001b[0;34m\u001b[0m\u001b[0;34m\u001b[0m\u001b[0m\n\u001b[0;32m--> 205\u001b[0;31m     \u001b[0my_type\u001b[0m\u001b[0;34m,\u001b[0m \u001b[0my_true\u001b[0m\u001b[0;34m,\u001b[0m \u001b[0my_pred\u001b[0m \u001b[0;34m=\u001b[0m \u001b[0m_check_targets\u001b[0m\u001b[0;34m(\u001b[0m\u001b[0my_true\u001b[0m\u001b[0;34m,\u001b[0m \u001b[0my_pred\u001b[0m\u001b[0;34m)\u001b[0m\u001b[0;34m\u001b[0m\u001b[0;34m\u001b[0m\u001b[0m\n\u001b[0m\u001b[1;32m    206\u001b[0m     \u001b[0mcheck_consistent_length\u001b[0m\u001b[0;34m(\u001b[0m\u001b[0my_true\u001b[0m\u001b[0;34m,\u001b[0m \u001b[0my_pred\u001b[0m\u001b[0;34m,\u001b[0m \u001b[0msample_weight\u001b[0m\u001b[0;34m)\u001b[0m\u001b[0;34m\u001b[0m\u001b[0;34m\u001b[0m\u001b[0m\n\u001b[1;32m    207\u001b[0m     \u001b[0;32mif\u001b[0m \u001b[0my_type\u001b[0m\u001b[0;34m.\u001b[0m\u001b[0mstartswith\u001b[0m\u001b[0;34m(\u001b[0m\u001b[0;34m\"multilabel\"\u001b[0m\u001b[0;34m)\u001b[0m\u001b[0;34m:\u001b[0m\u001b[0;34m\u001b[0m\u001b[0;34m\u001b[0m\u001b[0m\n",
      "\u001b[0;32m/Library/Frameworks/Python.framework/Versions/3.9/lib/python3.9/site-packages/sklearn/metrics/_classification.py\u001b[0m in \u001b[0;36m_check_targets\u001b[0;34m(y_true, y_pred)\u001b[0m\n\u001b[1;32m     83\u001b[0m     \"\"\"\n\u001b[1;32m     84\u001b[0m     \u001b[0mcheck_consistent_length\u001b[0m\u001b[0;34m(\u001b[0m\u001b[0my_true\u001b[0m\u001b[0;34m,\u001b[0m \u001b[0my_pred\u001b[0m\u001b[0;34m)\u001b[0m\u001b[0;34m\u001b[0m\u001b[0;34m\u001b[0m\u001b[0m\n\u001b[0;32m---> 85\u001b[0;31m     \u001b[0mtype_true\u001b[0m \u001b[0;34m=\u001b[0m \u001b[0mtype_of_target\u001b[0m\u001b[0;34m(\u001b[0m\u001b[0my_true\u001b[0m\u001b[0;34m)\u001b[0m\u001b[0;34m\u001b[0m\u001b[0;34m\u001b[0m\u001b[0m\n\u001b[0m\u001b[1;32m     86\u001b[0m     \u001b[0mtype_pred\u001b[0m \u001b[0;34m=\u001b[0m \u001b[0mtype_of_target\u001b[0m\u001b[0;34m(\u001b[0m\u001b[0my_pred\u001b[0m\u001b[0;34m)\u001b[0m\u001b[0;34m\u001b[0m\u001b[0;34m\u001b[0m\u001b[0m\n\u001b[1;32m     87\u001b[0m \u001b[0;34m\u001b[0m\u001b[0m\n",
      "\u001b[0;32m/Library/Frameworks/Python.framework/Versions/3.9/lib/python3.9/site-packages/sklearn/utils/multiclass.py\u001b[0m in \u001b[0;36mtype_of_target\u001b[0;34m(y)\u001b[0m\n\u001b[1;32m    269\u001b[0m \u001b[0;34m\u001b[0m\u001b[0m\n\u001b[1;32m    270\u001b[0m     \u001b[0;32mif\u001b[0m \u001b[0;32mnot\u001b[0m \u001b[0mvalid\u001b[0m\u001b[0;34m:\u001b[0m\u001b[0;34m\u001b[0m\u001b[0;34m\u001b[0m\u001b[0m\n\u001b[0;32m--> 271\u001b[0;31m         raise ValueError(\n\u001b[0m\u001b[1;32m    272\u001b[0m             \u001b[0;34m\"Expected array-like (array or non-string sequence), got %r\"\u001b[0m \u001b[0;34m%\u001b[0m \u001b[0my\u001b[0m\u001b[0;34m\u001b[0m\u001b[0;34m\u001b[0m\u001b[0m\n\u001b[1;32m    273\u001b[0m         )\n",
      "\u001b[0;31mValueError\u001b[0m: Expected array-like (array or non-string sequence), got {'cl_head': array([0, 1, 1, 1, 0, 1, 1, 1, 1, 1, 1, 1, 0, 1, 1, 1, 1, 1, 0, 1, 1, 0,\n       0, 0, 0, 1, 1, 0, 1, 0, 0, 0, 1, 1, 0, 1, 1, 1, 1, 1, 1, 1, 0, 0,\n       1, 1, 1, 1, 0, 1, 0, 1, 0, 0, 1, 1, 1, 1, 1, 1, 1, 1, 1, 1, 1, 1,\n       1, 0, 1, 1, 1, 1, 1, 1, 1, 1, 1, 1, 1, 1, 1, 1, 1, 1, 1, 1, 0, 1,\n       0, 1, 1, 1, 1, 1, 1, 1, 1, 1, 1, 1]), 'bb_head': array([[0.37, 0.4 , 0.55, 0.63],\n       [0.  , 0.  , 0.  , 0.  ],\n       [0.  , 0.  , 0.  , 0.  ],\n       [0.  , 0.  , 0.  , 0.  ],\n       [0.43, 0.53, 0.61, 0.9 ],\n       [0.  , 0.  , 0.  , 0.  ],\n       [0.  , 0.  , 0.  , 0.  ],\n       [0.  , 0.  , 0.  , 0.  ],\n       [0.  , 0.  , 0.  , 0.  ],\n       [0.  , 0.  , 0.  , 0.  ],\n       [0.  , 0.  , 0.  , 0.  ],\n       [0.  , 0.  , 0.  , 0.  ],\n       [0.27, 0.24, 0.52, 0.66],\n       [0.  , 0.  , 0.  , 0.  ],\n       [0.  , 0.  , 0.  , 0.  ],\n       [0.  , 0.  , 0.  , 0.  ],\n       [0.  , 0.  , 0.  , 0.  ],\n       [0.  , 0.  , 0.  , 0.  ],\n       [0.48, 0.2 , 0.67, 0.56],\n       [0.  , 0.  , 0.  , 0.  ],\n       [0.  , 0.  , 0.  , 0.  ],\n       [0.4 , 0.56, 0.68, 0.92],\n       [0.33, 0.7 , 0.57, 1.  ],\n       [0.25, 0.7 , 0.49, 1.  ],\n       [0.43, 0.15, 0.69, 0.6 ],\n       [0.  , 0.  , 0.  , 0.  ],\n       [0.  , 0.  , 0.  , 0.  ],\n       [0.47, 0.38, 0.73, 0.84],\n       [0.  , 0.  , 0.  , 0.  ],\n       [0.36, 0.05, 0.82, 0.8 ],\n       [0.32, 0.3 , 0.59, 0.76],\n       [0.29, 0.  , 0.56, 0.2 ],\n       [0.  , 0.  , 0.  , 0.  ],\n       [0.  , 0.  , 0.  , 0.  ],\n       [0.34, 0.12, 0.64, 0.69],\n       [0.  , 0.  , 0.  , 0.  ],\n       [0.  , 0.  , 0.  , 0.  ],\n       [0.  , 0.  , 0.  , 0.  ],\n       [0.  , 0.  , 0.  , 0.  ],\n       [0.  , 0.  , 0.  , 0.  ],\n       [0.  , 0.  , 0.  , 0.  ],\n       [0.  , 0.  , 0.  , 0.  ],\n       [0.27, 0.57, 0.53, 0.96],\n       [0.21, 0.05, 0.46, 0.48],\n       [0.  , 0.  , 0.  , 0.  ],\n       [0.  , 0.  , 0.  , 0.  ],\n       [0.  , 0.  , 0.  , 0.  ],\n       [0.  , 0.  , 0.  , 0.  ],\n       [0.39, 0.41, 0.56, 0.76],\n       [0.  , 0.  , 0.  , 0.  ],\n       [0.57, 0.42, 0.76, 0.76],\n       [0.  , 0.  , 0.  , 0.  ],\n       [0.59, 0.  , 0.78, 0.24],\n       [0.32, 0.17, 0.56, 0.6 ],\n       [0.  , 0.  , 0.  , 0.  ],\n       [0.  , 0.  , 0.  , 0.  ],\n       [0.  , 0.  , 0.  , 0.  ],\n       [0.  , 0.  , 0.  , 0.  ],\n       [0.  , 0.  , 0.  , 0.  ],\n       [0.  , 0.  , 0.  , 0.  ],\n       [0.  , 0.  , 0.  , 0.  ],\n       [0.  , 0.  , 0.  , 0.  ],\n       [0.  , 0.  , 0.  , 0.  ],\n       [0.  , 0.  , 0.  , 0.  ],\n       [0.  , 0.  , 0.  , 0.  ],\n       [0.  , 0.  , 0.  , 0.  ],\n       [0.  , 0.  , 0.  , 0.  ],\n       [0.36, 0.13, 0.66, 0.7 ],\n       [0.  , 0.  , 0.  , 0.  ],\n       [0.  , 0.  , 0.  , 0.  ],\n       [0.  , 0.  , 0.  , 0.  ],\n       [0.  , 0.  , 0.  , 0.  ],\n       [0.  , 0.  , 0.  , 0.  ],\n       [0.  , 0.  , 0.  , 0.  ],\n       [0.  , 0.  , 0.  , 0.  ],\n       [0.  , 0.  , 0.  , 0.  ],\n       [0.  , 0.  , 0.  , 0.  ],\n       [0.  , 0.  , 0.  , 0.  ],\n       [0.  , 0.  , 0.  , 0.  ],\n       [0.  , 0.  , 0.  , 0.  ],\n       [0.  , 0.  , 0.  , 0.  ],\n       [0.  , 0.  , 0.  , 0.  ],\n       [0.  , 0.  , 0.  , 0.  ],\n       [0.  , 0.  , 0.  , 0.  ],\n       [0.  , 0.  , 0.  , 0.  ],\n       [0.  , 0.  , 0.  , 0.  ],\n       [0.36, 0.52, 0.55, 0.84],\n       [0.  , 0.  , 0.  , 0.  ],\n       [0.31, 0.27, 0.61, 0.81],\n       [0.  , 0.  , 0.  , 0.  ],\n       [0.  , 0.  , 0.  , 0.  ],\n       [0.  , 0.  , 0.  , 0.  ],\n       [0.  , 0.  , 0.  , 0.  ],\n       [0.  , 0.  , 0.  , 0.  ],\n       [0.  , 0.  , 0.  , 0.  ],\n       [0.  , 0.  , 0.  , 0.  ],\n       [0.  , 0.  , 0.  , 0.  ],\n       [0.  , 0.  , 0.  , 0.  ],\n       [0.  , 0.  , 0.  , 0.  ],\n       [0.  , 0.  , 0.  , 0.  ]])}"
     ]
    }
   ],
   "source": [
    "import sklearn\n",
    "from sklearn import metrics\n",
    "print(\"Accuracy:\", metrics.accuracy_score(testTargets,predictions))\n",
    "print(\"Precision:\",metrics.precision_score(testTargets,predictions))\n",
    "print(\"Recall:\",metrics.recall_score(testTargets,predictions))\n",
    "\n",
    "from sklearn.metrics import confusion_matrix\n",
    "cnf_matrix = confusion_matrix(testTargets, predictions)\n",
    "cnf_matrix\n",
    "\n",
    "\n"
   ]
  },
  {
   "cell_type": "code",
   "execution_count": null,
   "id": "1f420d0b",
   "metadata": {},
   "outputs": [],
   "source": [
    "import seaborn as sns\n",
    "class_names=['Transformer','No Transformer']\n",
    "fig, ax = plt.subplots()\n",
    "\n",
    "sns.heatmap(pd.DataFrame(cnf_matrix),annot=True,cmap=\"icefire\",fmt='g')\n",
    "ax.xaxis.set_label_position(\"top\")\n",
    "plt.tight_layout()\n",
    "plt.title('Confusion matrix', y=1.1)\n",
    "tick_marks = np.arange(len(class_names))\n",
    "plt.xticks(tick_marks,class_names)\n",
    "plt.yticks(tick_marks,class_names)\n",
    "plt.ylabel('Actual label')\n",
    "plt.xlabel('Predicted label')"
   ]
  },
  {
   "cell_type": "code",
   "execution_count": null,
   "id": "6cb9553a",
   "metadata": {},
   "outputs": [],
   "source": [
    "matrix = metrics.confusion_matrix(testTargets.argmax(axis=1), predictions.argmax(axis=1))"
   ]
  },
  {
   "cell_type": "code",
   "execution_count": 86,
   "id": "a6950173",
   "metadata": {},
   "outputs": [
    {
     "name": "stdout",
     "output_type": "stream",
     "text": [
      "None\n",
      "<class 'keras.metrics.Precision'>\n",
      "<class 'keras.metrics.Recall'>\n"
     ]
    }
   ],
   "source": [
    "from keras.metrics import Precision, Recall\n",
    "\n",
    "model.compile(loss='binary_crossentropy', metrics=['accuracy', Precision(), Recall()])\n",
    "\n",
    "print(Precision)\n",
    "print(Recall)"
   ]
  },
  {
   "cell_type": "code",
   "execution_count": 89,
   "id": "a0df3245",
   "metadata": {},
   "outputs": [
    {
     "name": "stdout",
     "output_type": "stream",
     "text": [
      "Precision(name=precision_5,dtype=float32,thresholds=None,top_k=None,class_id=None)\n"
     ]
    }
   ],
   "source": [
    "m =  tf.keras.metrics.Precision()\n",
    "m.model\n",
    "print(m)"
   ]
  }
 ],
 "metadata": {
  "interpreter": {
   "hash": "dca0ade3e726a953b501b15e8e990130d2b7799f14cfd9f4271676035ebe5511"
  },
  "kernelspec": {
   "display_name": "Python 3.8.8 64-bit ('base': conda)",
   "name": "python3"
  },
  "language_info": {
   "codemirror_mode": {
    "name": "ipython",
    "version": 3
   },
   "file_extension": ".py",
   "mimetype": "text/x-python",
   "name": "python",
   "nbconvert_exporter": "python",
   "pygments_lexer": "ipython3",
   "version": "3.9.6"
  }
 },
 "nbformat": 4,
 "nbformat_minor": 5
}
