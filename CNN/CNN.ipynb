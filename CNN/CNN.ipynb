{
 "cells": [
  {
   "cell_type": "markdown",
   "id": "d46e08c5-adcc-4f58-8c34-66ad23b17c18",
   "metadata": {},
   "source": [
    "# Convolution Neural Network\n",
    "\n",
    "1. Train\n",
    "2. Evaluate\n",
    "3. Visualize Accuracy & Lost\n",
    "4. Re-evaluate Model\n",
    "5. Make Predictions on the Test Set\n",
    "6. Visualize classification report\n"
   ]
  },
  {
   "cell_type": "code",
   "execution_count": null,
   "id": "0560fc6e-a675-4429-96a8-40d91ba1e752",
   "metadata": {},
   "outputs": [],
   "source": [
    "## Notes Preprocessing"
   ]
  }
 ],
 "metadata": {
  "kernelspec": {
   "display_name": "Python 3",
   "language": "python",
   "name": "python3"
  },
  "language_info": {
   "codemirror_mode": {
    "name": "ipython",
    "version": 3
   },
   "file_extension": ".py",
   "mimetype": "text/x-python",
   "name": "python",
   "nbconvert_exporter": "python",
   "pygments_lexer": "ipython3",
   "version": "3.8.8"
  }
 },
 "nbformat": 4,
 "nbformat_minor": 5
}
