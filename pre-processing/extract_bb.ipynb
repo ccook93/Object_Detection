{
 "cells": [
  {
   "cell_type": "markdown",
   "id": "b33c298f-2e70-4b71-a05c-7df58f4cd8bd",
   "metadata": {},
   "source": [
    "# Extract Bounding Box\n"
   ]
  },
  {
   "cell_type": "code",
   "execution_count": 9,
   "id": "1d2a3c6d-bb41-4ad6-a7f9-9d6c01df2967",
   "metadata": {},
   "outputs": [],
   "source": [
    "# Import libraries to read in data\n",
    "import pandas as pd\n",
    "import numpy as np\n",
    "import csv\n",
    "from PIL import Image\n"
   ]
  },
  {
   "cell_type": "code",
   "execution_count": 2,
   "id": "6de47425-70ec-4457-8364-891bb8b53397",
   "metadata": {},
   "outputs": [
    {
     "data": {
      "text/html": [
       "<div>\n",
       "<style scoped>\n",
       "    .dataframe tbody tr th:only-of-type {\n",
       "        vertical-align: middle;\n",
       "    }\n",
       "\n",
       "    .dataframe tbody tr th {\n",
       "        vertical-align: top;\n",
       "    }\n",
       "\n",
       "    .dataframe thead th {\n",
       "        text-align: right;\n",
       "    }\n",
       "</style>\n",
       "<table border=\"1\" class=\"dataframe\">\n",
       "  <thead>\n",
       "    <tr style=\"text-align: right;\">\n",
       "      <th></th>\n",
       "      <th>filename</th>\n",
       "      <th>width</th>\n",
       "      <th>height</th>\n",
       "      <th>class_name</th>\n",
       "      <th>xmin</th>\n",
       "      <th>ymin</th>\n",
       "      <th>xmax</th>\n",
       "      <th>ymax</th>\n",
       "    </tr>\n",
       "  </thead>\n",
       "  <tbody>\n",
       "    <tr>\n",
       "      <th>0</th>\n",
       "      <td>0.jpg</td>\n",
       "      <td>518</td>\n",
       "      <td>388</td>\n",
       "      <td>Transformer</td>\n",
       "      <td>192.367045</td>\n",
       "      <td>154.588379</td>\n",
       "      <td>284.000046</td>\n",
       "      <td>245.125351</td>\n",
       "    </tr>\n",
       "    <tr>\n",
       "      <th>1</th>\n",
       "      <td>1.jpg</td>\n",
       "      <td>518</td>\n",
       "      <td>388</td>\n",
       "      <td>No-Transformer</td>\n",
       "      <td>0.000000</td>\n",
       "      <td>0.000000</td>\n",
       "      <td>0.000000</td>\n",
       "      <td>0.000000</td>\n",
       "    </tr>\n",
       "    <tr>\n",
       "      <th>2</th>\n",
       "      <td>10.jpg</td>\n",
       "      <td>518</td>\n",
       "      <td>388</td>\n",
       "      <td>No-Transformer</td>\n",
       "      <td>0.000000</td>\n",
       "      <td>0.000000</td>\n",
       "      <td>0.000000</td>\n",
       "      <td>0.000000</td>\n",
       "    </tr>\n",
       "    <tr>\n",
       "      <th>3</th>\n",
       "      <td>11.jpg</td>\n",
       "      <td>518</td>\n",
       "      <td>388</td>\n",
       "      <td>No-Transformer</td>\n",
       "      <td>0.000000</td>\n",
       "      <td>0.000000</td>\n",
       "      <td>0.000000</td>\n",
       "      <td>0.000000</td>\n",
       "    </tr>\n",
       "    <tr>\n",
       "      <th>4</th>\n",
       "      <td>12.jpg</td>\n",
       "      <td>518</td>\n",
       "      <td>388</td>\n",
       "      <td>Transformer</td>\n",
       "      <td>222.225888</td>\n",
       "      <td>206.895447</td>\n",
       "      <td>315.952179</td>\n",
       "      <td>350.251026</td>\n",
       "    </tr>\n",
       "  </tbody>\n",
       "</table>\n",
       "</div>"
      ],
      "text/plain": [
       "  filename  width  height      class_name        xmin        ymin        xmax  \\\n",
       "0    0.jpg    518     388     Transformer  192.367045  154.588379  284.000046   \n",
       "1    1.jpg    518     388  No-Transformer    0.000000    0.000000    0.000000   \n",
       "2   10.jpg    518     388  No-Transformer    0.000000    0.000000    0.000000   \n",
       "3   11.jpg    518     388  No-Transformer    0.000000    0.000000    0.000000   \n",
       "4   12.jpg    518     388     Transformer  222.225888  206.895447  315.952179   \n",
       "\n",
       "         ymax  \n",
       "0  245.125351  \n",
       "1    0.000000  \n",
       "2    0.000000  \n",
       "3    0.000000  \n",
       "4  350.251026  "
      ]
     },
     "execution_count": 2,
     "metadata": {},
     "output_type": "execute_result"
    }
   ],
   "source": [
    "xcsv = pd.DataFrame(pd.read_csv('../Data/test_data2.csv'))\n",
    "xcsv.head()"
   ]
  },
  {
   "cell_type": "code",
   "execution_count": 3,
   "id": "0a92eb00-e866-448e-b69d-fdc5cd38faf4",
   "metadata": {},
   "outputs": [],
   "source": [
    "import cv2"
   ]
  },
  {
   "cell_type": "code",
   "execution_count": null,
   "id": "1984fcf4",
   "metadata": {},
   "outputs": [],
   "source": []
  },
  {
   "cell_type": "code",
   "execution_count": 24,
   "id": "b47503af-2c52-42e8-8c43-ea4b4204e490",
   "metadata": {},
   "outputs": [
    {
     "name": "stdout",
     "output_type": "stream",
     "text": [
      "63.jpg\n",
      ".jpg\n",
      "   filename  width  height      class_name  xmin  ymin  xmax  ymax\n",
      "60   63.jpg    518     388  No-Transformer   0.0   0.0   0.0   0.0\n",
      "  filename  width  height      class_name        xmin        ymin        xmax  \\\n",
      "0    0.jpg    518     388     Transformer  192.367045  154.588379  284.000046   \n",
      "1    1.jpg    518     388  No-Transformer    0.000000    0.000000    0.000000   \n",
      "2   10.jpg    518     388  No-Transformer    0.000000    0.000000    0.000000   \n",
      "3   11.jpg    518     388  No-Transformer    0.000000    0.000000    0.000000   \n",
      "4   12.jpg    518     388     Transformer  222.225888  206.895447  315.952179   \n",
      "\n",
      "         ymax  \n",
      "0  245.125351  \n",
      "1    0.000000  \n",
      "2    0.000000  \n",
      "3    0.000000  \n",
      "4  350.251026  \n",
      "60    0.0\n",
      "Name: xmin, dtype: float64\n",
      "   filename  width  height      class_name  xmin  ymin  xmax  ymax\n",
      "60   63.jpg    518     388  No-Transformer   0.0   0.0   0.0   0.0\n"
     ]
    }
   ],
   "source": [
    "img_path = '../Images/Test/'\n",
    "dirs = os.listdir( img_path )\n",
    "item = dirs[0]\n",
    "\n",
    "\n",
    "print(item)\n",
    "extension = os.path.splitext(item)[-1].lower()\n",
    "print(extension)\n",
    "x = xcsv[xcsv['filename'].str.contains(item)]\n",
    "print(x)\n",
    "print(xcsv.head())\n",
    "\n",
    "#x,y,w,h = [xcsv[x].xmin,xcsv[x].ymin,xcsv[x].xmax,xcsv[x].ymax]\n",
    "#print(x,y,w,h)\n",
    "print(x['xmin'])\n",
    "print(x)\n",
    "#print(xrow)\n",
    "#im = Image.open(img_path+item)\n"
   ]
  },
  {
   "cell_type": "code",
   "execution_count": null,
   "id": "55f21589",
   "metadata": {},
   "outputs": [],
   "source": [
    "def imgext():\n",
    "    for item in dirs:\n",
    "        extension = os.path.splitext(item)[-1].lower()\n",
    "        if extension == '.jpg':\n",
    "            im = Image.open(path+item)\n",
    "            f, e = os.path.splitext(path+item)\n",
    "            imResize = im.resize((518,388), Image.ANTIALIAS)\n",
    "            imResize.save(path + 'Resized/' + item , 'JPEG', quality=90)\n"
   ]
  }
 ],
 "metadata": {
  "kernelspec": {
   "display_name": "Python 3",
   "language": "python",
   "name": "python3"
  },
  "language_info": {
   "codemirror_mode": {
    "name": "ipython",
    "version": 3
   },
   "file_extension": ".py",
   "mimetype": "text/x-python",
   "name": "python",
   "nbconvert_exporter": "python",
   "pygments_lexer": "ipython3",
   "version": "3.9.6"
  }
 },
 "nbformat": 4,
 "nbformat_minor": 5
}
